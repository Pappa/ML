{
 "cells": [
  {
   "cell_type": "code",
   "execution_count": 1,
   "id": "e4f9cc59-0aa3-40c0-b06f-ccb640d83c04",
   "metadata": {},
   "outputs": [
    {
     "name": "stderr",
     "output_type": "stream",
     "text": [
      "Using TensorFlow backend.\n"
     ]
    },
    {
     "name": "stdout",
     "output_type": "stream",
     "text": [
      "Downloading data from https://s3.amazonaws.com/text-datasets/reuters.npz\n",
      "2113536/2110848 [==============================] - 1s 0us/step\n"
     ]
    },
    {
     "name": "stderr",
     "output_type": "stream",
     "text": [
      "/home/pappa/anaconda3/lib/python3.8/site-packages/keras/datasets/reuters.py:85: VisibleDeprecationWarning: Creating an ndarray from ragged nested sequences (which is a list-or-tuple of lists-or-tuples-or ndarrays with different lengths or shapes) is deprecated. If you meant to do this, you must specify 'dtype=object' when creating the ndarray.\n",
      "  x_train, y_train = np.array(xs[:idx]), np.array(labels[:idx])\n",
      "/home/pappa/anaconda3/lib/python3.8/site-packages/keras/datasets/reuters.py:86: VisibleDeprecationWarning: Creating an ndarray from ragged nested sequences (which is a list-or-tuple of lists-or-tuples-or ndarrays with different lengths or shapes) is deprecated. If you meant to do this, you must specify 'dtype=object' when creating the ndarray.\n",
      "  x_test, y_test = np.array(xs[idx:]), np.array(labels[idx:])\n"
     ]
    }
   ],
   "source": [
    "from keras.datasets import reuters\n",
    "\n",
    "(train_data, train_labels), (test_data, test_labels) = reuters.load_data(num_words=10000)"
   ]
  },
  {
   "cell_type": "code",
   "execution_count": 2,
   "id": "7bf01193-7034-46c2-89bd-fa6c76b86965",
   "metadata": {},
   "outputs": [
    {
     "name": "stdout",
     "output_type": "stream",
     "text": [
      "Downloading data from https://s3.amazonaws.com/text-datasets/reuters_word_index.json\n",
      "557056/550378 [==============================] - 1s 1us/step\n"
     ]
    }
   ],
   "source": [
    "word_index = reuters.get_word_index()\n",
    "reverse_word_index = dict(\n",
    "    [(value, key) for (key, value) in word_index.items()])\n",
    "decoded_newswire = \" \".join([reverse_word_index.get(i - 3, \"?\") for i in train_data[0]])"
   ]
  },
  {
   "cell_type": "code",
   "execution_count": 3,
   "id": "d2c00a46-9ede-4b49-92cb-b9ada41f3128",
   "metadata": {},
   "outputs": [],
   "source": [
    "import numpy as np\n",
    "def vectorize_sequences(sequences, dimension=10000):\n",
    "    results = np.zeros((len(sequences), dimension))\n",
    "    for i, sequence in enumerate(sequences):\n",
    "        for j in sequence:\n",
    "            results[i, j] = 1.\n",
    "    return results\n",
    "x_train = vectorize_sequences(train_data)\n",
    "x_test = vectorize_sequences(test_data)"
   ]
  },
  {
   "cell_type": "code",
   "execution_count": 4,
   "id": "8f2f4ef1-2fd2-48be-a81d-13331d47ee3d",
   "metadata": {},
   "outputs": [],
   "source": [
    "from keras.utils.np_utils import to_categorical\n",
    "\n",
    "one_hot_train_labels = to_categorical(train_labels)\n",
    "one_hot_test_labels = to_categorical(test_labels)"
   ]
  },
  {
   "cell_type": "code",
   "execution_count": 5,
   "id": "fbb0d1c7-e24d-49cb-b1fd-28e21db51410",
   "metadata": {},
   "outputs": [],
   "source": [
    "y_train = np.asarray(train_labels).astype(\"float32\")\n",
    "y_test = np.asarray(test_labels).astype(\"float32\")"
   ]
  },
  {
   "cell_type": "code",
   "execution_count": 6,
   "id": "6c9d939a-baa1-4184-806b-2701c56e23e1",
   "metadata": {},
   "outputs": [
    {
     "name": "stderr",
     "output_type": "stream",
     "text": [
      "2022-11-05 15:15:42.014347: I tensorflow/stream_executor/platform/default/dso_loader.cc:44] Successfully opened dynamic library libcuda.so.1\n",
      "2022-11-05 15:15:42.035873: E tensorflow/stream_executor/cuda/cuda_driver.cc:313] failed call to cuInit: CUDA_ERROR_UNKNOWN: unknown error\n",
      "2022-11-05 15:15:42.035893: I tensorflow/stream_executor/cuda/cuda_diagnostics.cc:169] retrieving CUDA diagnostic information for host: pappa-GP66-Leopard-11UH\n",
      "2022-11-05 15:15:42.035897: I tensorflow/stream_executor/cuda/cuda_diagnostics.cc:176] hostname: pappa-GP66-Leopard-11UH\n",
      "2022-11-05 15:15:42.035983: I tensorflow/stream_executor/cuda/cuda_diagnostics.cc:200] libcuda reported version is: 470.129.6\n",
      "2022-11-05 15:15:42.035993: I tensorflow/stream_executor/cuda/cuda_diagnostics.cc:204] kernel reported version is: 470.129.6\n",
      "2022-11-05 15:15:42.035996: I tensorflow/stream_executor/cuda/cuda_diagnostics.cc:310] kernel version seems to match DSO: 470.129.6\n",
      "2022-11-05 15:15:42.036750: I tensorflow/core/platform/cpu_feature_guard.cc:143] Your CPU supports instructions that this TensorFlow binary was not compiled to use: AVX2 AVX512F FMA\n",
      "2022-11-05 15:15:42.058277: I tensorflow/core/platform/profile_utils/cpu_utils.cc:102] CPU Frequency: 2304000000 Hz\n",
      "2022-11-05 15:15:42.058830: I tensorflow/compiler/xla/service/service.cc:168] XLA service 0x7f981c000b60 initialized for platform Host (this does not guarantee that XLA will be used). Devices:\n",
      "2022-11-05 15:15:42.058848: I tensorflow/compiler/xla/service/service.cc:176]   StreamExecutor device (0): Host, Default Version\n"
     ]
    }
   ],
   "source": [
    "from keras import models\n",
    "from keras import layers\n",
    "\n",
    "model = models.Sequential()\n",
    "model.add(layers.Dense(64, activation='relu', input_shape=(10000,)))\n",
    "model.add(layers.Dense(64, activation='relu'))\n",
    "model.add(layers.Dense(46, activation='softmax'))"
   ]
  },
  {
   "cell_type": "code",
   "execution_count": 7,
   "id": "f1beb850-34ed-49ca-b0dd-9bbb187ee3b2",
   "metadata": {},
   "outputs": [],
   "source": [
    "model.compile(optimizer='rmsprop',\n",
    "              loss='categorical_crossentropy',\n",
    "              metrics=['accuracy'])"
   ]
  },
  {
   "cell_type": "code",
   "execution_count": 8,
   "id": "c6b4acc1-5488-46bb-a1bd-e444e019f464",
   "metadata": {},
   "outputs": [],
   "source": [
    "x_val = x_train[:1000]\n",
    "partial_x_train = x_train[1000:]\n",
    "\n",
    "y_val = one_hot_train_labels[:1000]\n",
    "partial_y_train = one_hot_train_labels[1000:]"
   ]
  },
  {
   "cell_type": "code",
   "execution_count": 9,
   "id": "57399b55-c72c-4748-8788-acae5fee51f0",
   "metadata": {},
   "outputs": [
    {
     "name": "stdout",
     "output_type": "stream",
     "text": [
      "Train on 7982 samples, validate on 1000 samples\n",
      "Epoch 1/20\n",
      "7982/7982 [==============================] - 0s 50us/step - loss: 2.7406 - accuracy: 0.4437 - val_loss: 1.8158 - val_accuracy: 0.6160\n",
      "Epoch 2/20\n",
      "7982/7982 [==============================] - 0s 33us/step - loss: 1.4704 - accuracy: 0.6825 - val_loss: 1.3452 - val_accuracy: 0.7030\n",
      "Epoch 3/20\n",
      "7982/7982 [==============================] - 0s 33us/step - loss: 1.0803 - accuracy: 0.7667 - val_loss: 1.1933 - val_accuracy: 0.7190\n",
      "Epoch 4/20\n",
      "7982/7982 [==============================] - 0s 33us/step - loss: 0.8509 - accuracy: 0.8187 - val_loss: 1.0619 - val_accuracy: 0.7870\n",
      "Epoch 5/20\n",
      "7982/7982 [==============================] - 0s 34us/step - loss: 0.6836 - accuracy: 0.8574 - val_loss: 0.9844 - val_accuracy: 0.8050\n",
      "Epoch 6/20\n",
      "7982/7982 [==============================] - 0s 34us/step - loss: 0.5441 - accuracy: 0.8867 - val_loss: 0.9590 - val_accuracy: 0.8050\n",
      "Epoch 7/20\n",
      "7982/7982 [==============================] - 0s 34us/step - loss: 0.4391 - accuracy: 0.9079 - val_loss: 0.9531 - val_accuracy: 0.8040\n",
      "Epoch 8/20\n",
      "7982/7982 [==============================] - 0s 34us/step - loss: 0.3546 - accuracy: 0.9256 - val_loss: 0.9191 - val_accuracy: 0.8150\n",
      "Epoch 9/20\n",
      "7982/7982 [==============================] - 0s 34us/step - loss: 0.2935 - accuracy: 0.9375 - val_loss: 0.9028 - val_accuracy: 0.8250\n",
      "Epoch 10/20\n",
      "7982/7982 [==============================] - 0s 34us/step - loss: 0.2451 - accuracy: 0.9442 - val_loss: 0.9325 - val_accuracy: 0.8200\n",
      "Epoch 11/20\n",
      "7982/7982 [==============================] - 0s 34us/step - loss: 0.2088 - accuracy: 0.9489 - val_loss: 0.9646 - val_accuracy: 0.8090\n",
      "Epoch 12/20\n",
      "7982/7982 [==============================] - 0s 34us/step - loss: 0.1862 - accuracy: 0.9500 - val_loss: 0.9605 - val_accuracy: 0.8070\n",
      "Epoch 13/20\n",
      "7982/7982 [==============================] - 0s 31us/step - loss: 0.1661 - accuracy: 0.9534 - val_loss: 0.9533 - val_accuracy: 0.8140\n",
      "Epoch 14/20\n",
      "7982/7982 [==============================] - 0s 34us/step - loss: 0.1513 - accuracy: 0.9554 - val_loss: 1.0488 - val_accuracy: 0.8070\n",
      "Epoch 15/20\n",
      "7982/7982 [==============================] - 0s 34us/step - loss: 0.1393 - accuracy: 0.9546 - val_loss: 1.0544 - val_accuracy: 0.8000\n",
      "Epoch 16/20\n",
      "7982/7982 [==============================] - 0s 34us/step - loss: 0.1347 - accuracy: 0.9540 - val_loss: 1.0964 - val_accuracy: 0.7990\n",
      "Epoch 17/20\n",
      "7982/7982 [==============================] - 0s 33us/step - loss: 0.1292 - accuracy: 0.9568 - val_loss: 1.1290 - val_accuracy: 0.7920\n",
      "Epoch 18/20\n",
      "7982/7982 [==============================] - 0s 33us/step - loss: 0.1251 - accuracy: 0.9565 - val_loss: 1.1035 - val_accuracy: 0.8020\n",
      "Epoch 19/20\n",
      "7982/7982 [==============================] - 0s 33us/step - loss: 0.1142 - accuracy: 0.9563 - val_loss: 1.1314 - val_accuracy: 0.7950\n",
      "Epoch 20/20\n",
      "7982/7982 [==============================] - 0s 34us/step - loss: 0.1094 - accuracy: 0.9599 - val_loss: 1.0835 - val_accuracy: 0.8110\n"
     ]
    }
   ],
   "source": [
    "history = model.fit(partial_x_train,\n",
    "                    partial_y_train,\n",
    "                    epochs=20,\n",
    "                    batch_size=512,\n",
    "                    validation_data=(x_val, y_val))"
   ]
  },
  {
   "cell_type": "code",
   "execution_count": 10,
   "id": "0177d28b-2fa0-4122-b792-8b3f7359040d",
   "metadata": {},
   "outputs": [
    {
     "data": {
      "text/plain": [
       "dict_keys(['val_loss', 'val_accuracy', 'loss', 'accuracy'])"
      ]
     },
     "execution_count": 10,
     "metadata": {},
     "output_type": "execute_result"
    }
   ],
   "source": [
    "history_dict = history.history\n",
    "history_dict.keys()"
   ]
  },
  {
   "cell_type": "code",
   "execution_count": 11,
   "id": "02a4d0bd-0172-4c47-b8cf-6e538def7bc0",
   "metadata": {},
   "outputs": [
    {
     "name": "stderr",
     "output_type": "stream",
     "text": [
      "\n",
      "Bad key text.latex.preview in file /home/pappa/anaconda3/lib/python3.8/site-packages/matplotlib/mpl-data/stylelib/_classic_test.mplstyle, line 123 ('text.latex.preview : False')\n",
      "You probably need to get an updated matplotlibrc file from\n",
      "https://github.com/matplotlib/matplotlib/blob/v3.5.3/matplotlibrc.template\n",
      "or from the matplotlib source distribution\n",
      "\n",
      "Bad key mathtext.fallback_to_cm in file /home/pappa/anaconda3/lib/python3.8/site-packages/matplotlib/mpl-data/stylelib/_classic_test.mplstyle, line 155 ('mathtext.fallback_to_cm : True  # When True, use symbols from the Computer Modern')\n",
      "You probably need to get an updated matplotlibrc file from\n",
      "https://github.com/matplotlib/matplotlib/blob/v3.5.3/matplotlibrc.template\n",
      "or from the matplotlib source distribution\n",
      "\n",
      "Bad key savefig.jpeg_quality in file /home/pappa/anaconda3/lib/python3.8/site-packages/matplotlib/mpl-data/stylelib/_classic_test.mplstyle, line 418 ('savefig.jpeg_quality: 95       # when a jpeg is saved, the default quality parameter.')\n",
      "You probably need to get an updated matplotlibrc file from\n",
      "https://github.com/matplotlib/matplotlib/blob/v3.5.3/matplotlibrc.template\n",
      "or from the matplotlib source distribution\n",
      "\n",
      "Bad key keymap.all_axes in file /home/pappa/anaconda3/lib/python3.8/site-packages/matplotlib/mpl-data/stylelib/_classic_test.mplstyle, line 466 ('keymap.all_axes : a                 # enable all axes')\n",
      "You probably need to get an updated matplotlibrc file from\n",
      "https://github.com/matplotlib/matplotlib/blob/v3.5.3/matplotlibrc.template\n",
      "or from the matplotlib source distribution\n",
      "\n",
      "Bad key animation.avconv_path in file /home/pappa/anaconda3/lib/python3.8/site-packages/matplotlib/mpl-data/stylelib/_classic_test.mplstyle, line 477 ('animation.avconv_path: avconv     # Path to avconv binary. Without full path')\n",
      "You probably need to get an updated matplotlibrc file from\n",
      "https://github.com/matplotlib/matplotlib/blob/v3.5.3/matplotlibrc.template\n",
      "or from the matplotlib source distribution\n",
      "\n",
      "Bad key animation.avconv_args in file /home/pappa/anaconda3/lib/python3.8/site-packages/matplotlib/mpl-data/stylelib/_classic_test.mplstyle, line 479 ('animation.avconv_args:            # Additional arguments to pass to avconv')\n",
      "You probably need to get an updated matplotlibrc file from\n",
      "https://github.com/matplotlib/matplotlib/blob/v3.5.3/matplotlibrc.template\n",
      "or from the matplotlib source distribution\n"
     ]
    },
    {
     "data": {
      "image/png": "[encoded data removed]",
      "text/plain": [
       "<Figure size 640x480 with 1 Axes>"
      ]
     },
     "metadata": {},
     "output_type": "display_data"
    }
   ],
   "source": [
    "import matplotlib.pyplot as plt\n",
    "history_dict = history.history\n",
    "loss_values = history_dict[\"loss\"]\n",
    "val_loss_values = history_dict[\"val_loss\"]\n",
    "epochs = range(1, len(loss_values) + 1)\n",
    "plt.plot(epochs, loss_values, \"bo\", label=\"Training loss\")\n",
    "plt.plot(epochs, val_loss_values, \"b\", label=\"Validation loss\")\n",
    "plt.title(\"Training and validation loss\")\n",
    "plt.xlabel(\"Epochs\")\n",
    "plt.ylabel(\"Loss\")\n",
    "plt.legend()\n",
    "plt.show()"
   ]
  },
  {
   "cell_type": "code",
   "execution_count": 12,
   "id": "9e18330a-1db5-4f3f-8f86-2297f65870e1",
   "metadata": {},
   "outputs": [
    {
     "data": {
      "image/png": "[encoded data removed]",
      "text/plain": [
       "<Figure size 640x480 with 1 Axes>"
      ]
     },
     "metadata": {},
     "output_type": "display_data"
    }
   ],
   "source": [
    "plt.clf()\n",
    "acc = history_dict[\"accuracy\"]\n",
    "val_acc = history_dict[\"val_accuracy\"]\n",
    "plt.plot(epochs, acc, \"bo\", label=\"Training acc\")\n",
    "plt.plot(epochs, val_acc, \"b\", label=\"Validation acc\")\n",
    "plt.title(\"Training and validation accuracy\")\n",
    "plt.xlabel(\"Epochs\")\n",
    "plt.ylabel(\"Accuracy\")\n",
    "plt.legend()\n",
    "plt.show()"
   ]
  },
  {
   "cell_type": "code",
   "execution_count": 13,
   "id": "b30ac6ca-cdc3-4964-a8b4-7e88295bc4c7",
   "metadata": {},
   "outputs": [
    {
     "name": "stdout",
     "output_type": "stream",
     "text": [
      "Train on 7982 samples, validate on 1000 samples\n",
      "Epoch 1/8\n",
      "7982/7982 [==============================] - 0s 33us/step - loss: 2.6223 - acc: 0.4771 - val_loss: 1.7644 - val_acc: 0.6390\n",
      "Epoch 2/8\n",
      "7982/7982 [==============================] - 0s 32us/step - loss: 1.4653 - acc: 0.7077 - val_loss: 1.3406 - val_acc: 0.7000\n",
      "Epoch 3/8\n",
      "7982/7982 [==============================] - 0s 31us/step - loss: 1.0864 - acc: 0.7739 - val_loss: 1.1480 - val_acc: 0.7520\n",
      "Epoch 4/8\n",
      "7982/7982 [==============================] - 0s 32us/step - loss: 0.8593 - acc: 0.8171 - val_loss: 1.0441 - val_acc: 0.7810\n",
      "Epoch 5/8\n",
      "7982/7982 [==============================] - 0s 31us/step - loss: 0.6810 - acc: 0.8534 - val_loss: 0.9875 - val_acc: 0.7830\n",
      "Epoch 6/8\n",
      "7982/7982 [==============================] - 0s 30us/step - loss: 0.5455 - acc: 0.8867 - val_loss: 0.9173 - val_acc: 0.8160\n",
      "Epoch 7/8\n",
      "7982/7982 [==============================] - 0s 31us/step - loss: 0.4365 - acc: 0.9074 - val_loss: 0.8996 - val_acc: 0.8130\n",
      "Epoch 8/8\n",
      "7982/7982 [==============================] - 0s 31us/step - loss: 0.3576 - acc: 0.9237 - val_loss: 0.8823 - val_acc: 0.8150\n",
      "2246/2246 [==============================] - 0s 30us/step\n"
     ]
    }
   ],
   "source": [
    "model = models.Sequential()\n",
    "model.add(layers.Dense(64, activation='relu', input_shape=(10000,)))\n",
    "model.add(layers.Dense(64, activation='relu'))\n",
    "model.add(layers.Dense(46, activation='softmax'))\n",
    "\n",
    "model.compile(optimizer='rmsprop',\n",
    "              loss='categorical_crossentropy',\n",
    "              metrics=['acc'])\n",
    "model.fit(partial_x_train,\n",
    "          partial_y_train,\n",
    "          epochs=8,\n",
    "          batch_size=512,\n",
    "          validation_data=(x_val, y_val))\n",
    "results = model.evaluate(x_test, one_hot_test_labels)"
   ]
  },
  {
   "cell_type": "code",
   "execution_count": 14,
   "id": "e34b2a57-c9dd-419a-89fe-94fd6d69323e",
   "metadata": {},
   "outputs": [
    {
     "data": {
      "text/plain": [
       "[0.9660146881827051, 0.7862867116928101]"
      ]
     },
     "execution_count": 14,
     "metadata": {},
     "output_type": "execute_result"
    }
   ],
   "source": [
    "results"
   ]
  },
  {
   "cell_type": "code",
   "execution_count": 15,
   "id": "849d6310-a14e-4159-b884-e257a999bdd6",
   "metadata": {},
   "outputs": [
    {
     "data": {
      "text/plain": [
       "array([[1.1445613e-05, 5.6749588e-05, 2.8240754e-06, ..., 1.7276972e-05,\n",
       "        8.8828956e-06, 8.5404785e-08],\n",
       "       [8.6900219e-03, 2.3284060e-01, 9.8288305e-02, ..., 5.1151204e-04,\n",
       "        4.3191149e-06, 3.3074239e-04],\n",
       "       [1.0337878e-03, 9.2628396e-01, 2.2384871e-03, ..., 3.5112048e-04,\n",
       "        8.1762146e-06, 6.6851598e-04],\n",
       "       ...,\n",
       "       [2.3170487e-06, 2.0693200e-04, 5.5970245e-06, ..., 9.3883355e-06,\n",
       "        1.7623353e-05, 1.7287853e-06],\n",
       "       [1.7586754e-03, 1.7453467e-02, 1.2534948e-03, ..., 7.9725630e-04,\n",
       "        3.5152200e-04, 1.6521337e-04],\n",
       "       [4.2649737e-04, 8.0004692e-01, 4.3525328e-03, ..., 4.4914740e-04,\n",
       "        5.0057124e-06, 7.9845719e-04]], dtype=float32)"
      ]
     },
     "execution_count": 15,
     "metadata": {},
     "output_type": "execute_result"
    }
   ],
   "source": [
    "model.predict(x_test)"
   ]
  },
  {
   "cell_type": "code",
   "execution_count": null,
   "id": "6ba77cc0-26f2-472b-b3b3-108295609f7d",
   "metadata": {},
   "outputs": [],
   "source": []
  }
 ],
 "metadata": {
  "kernelspec": {
   "display_name": "Python 3 (ipykernel)",
   "language": "python",
   "name": "python3"
  },
  "language_info": {
   "codemirror_mode": {
    "name": "ipython",
    "version": 3
   },
   "file_extension": ".py",
   "mimetype": "text/x-python",
   "name": "python",
   "nbconvert_exporter": "python",
   "pygments_lexer": "ipython3",
   "version": "3.8.8"
  }
 },
 "nbformat": 4,
 "nbformat_minor": 5
}
