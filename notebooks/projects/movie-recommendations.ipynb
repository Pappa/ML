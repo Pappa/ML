{
 "cells": [
  {
   "cell_type": "code",
   "execution_count": 43,
   "id": "c9e4e98e-f597-4dfc-af69-745e80a5e3fe",
   "metadata": {},
   "outputs": [],
   "source": [
    "# data downoaded from https://grouplens.org/datasets/movielens/latest/\n",
    "DO_GRID_SEARCH = False"
   ]
  },
  {
   "cell_type": "code",
   "execution_count": 44,
   "id": "757d5626-517e-4312-ae92-17ab49c30310",
   "metadata": {},
   "outputs": [],
   "source": [
    "import os\n",
    "import time\n",
    "\n",
    "# spark imports\n",
    "from pyspark.sql import SparkSession\n",
    "import pyspark.sql.functions as F\n",
    "from pyspark.sql.types import StringType, ArrayType\n",
    "\n",
    "# data science imports\n",
    "import math\n",
    "import numpy as np\n",
    "import pandas as pd\n",
    "\n",
    "# visualization imports\n",
    "import seaborn as sns\n",
    "import matplotlib.pyplot as plt\n",
    "\n",
    "%matplotlib inline"
   ]
  },
  {
   "cell_type": "code",
   "execution_count": 45,
   "id": "cc71ee3c-e3cb-49dc-a985-891a11406470",
   "metadata": {},
   "outputs": [],
   "source": [
    "spark = SparkSession \\\n",
    "    .builder \\\n",
    "    .appName(\"recommendations\") \\\n",
    "    .getOrCreate()\n",
    "sc = spark.sparkContext\n"
   ]
  },
  {
   "cell_type": "code",
   "execution_count": 46,
   "id": "df6f110c-3dc9-488a-9fd2-d37d9441ec83",
   "metadata": {},
   "outputs": [],
   "source": [
    "data_path = '../../data/recommendations/ml-latest-small/'\n",
    "movies = spark.read.load(os.path.join(data_path, 'movies.csv'), format='csv', header=True, inferSchema=True)\n",
    "ratings = spark.read.load(os.path.join(data_path, 'ratings.csv'), format='csv', header=True, inferSchema=True)\n",
    "links = spark.read.load(os.path.join(data_path, 'links.csv'), format='csv', header=True, inferSchema=True)\n",
    "tags = spark.read.load(os.path.join(data_path, 'tags.csv'), format='csv', header=True, inferSchema=True)"
   ]
  },
  {
   "cell_type": "code",
   "execution_count": 47,
   "id": "2272af02-8d01-46bf-b59c-21eda10ef40b",
   "metadata": {},
   "outputs": [
    {
     "name": "stdout",
     "output_type": "stream",
     "text": [
      "+-------+--------------------+--------------------+\n",
      "|movieId|               title|              genres|\n",
      "+-------+--------------------+--------------------+\n",
      "|      1|    Toy Story (1995)|Adventure|Animati...|\n",
      "|      2|      Jumanji (1995)|Adventure|Childre...|\n",
      "|      3|Grumpier Old Men ...|      Comedy|Romance|\n",
      "+-------+--------------------+--------------------+\n",
      "only showing top 3 rows\n",
      "\n"
     ]
    }
   ],
   "source": [
    "movies.show(3)"
   ]
  },
  {
   "cell_type": "code",
   "execution_count": 48,
   "id": "c058df8e-627c-4d6a-9c5c-b51c30d77bba",
   "metadata": {},
   "outputs": [
    {
     "name": "stdout",
     "output_type": "stream",
     "text": [
      "+------+-------+------+---------+\n",
      "|userId|movieId|rating|timestamp|\n",
      "+------+-------+------+---------+\n",
      "|     1|      1|   4.0|964982703|\n",
      "|     1|      3|   4.0|964981247|\n",
      "|     1|      6|   4.0|964982224|\n",
      "+------+-------+------+---------+\n",
      "only showing top 3 rows\n",
      "\n"
     ]
    }
   ],
   "source": [
    "ratings.show(3)"
   ]
  },
  {
   "cell_type": "code",
   "execution_count": 49,
   "id": "27c4211f-005b-4f28-8e0d-cbb92168db73",
   "metadata": {},
   "outputs": [
    {
     "name": "stdout",
     "output_type": "stream",
     "text": [
      "+-------+------+------+\n",
      "|movieId|imdbId|tmdbId|\n",
      "+-------+------+------+\n",
      "|      1|114709|   862|\n",
      "|      2|113497|  8844|\n",
      "|      3|113228| 15602|\n",
      "+-------+------+------+\n",
      "only showing top 3 rows\n",
      "\n"
     ]
    }
   ],
   "source": [
    "links.show(3)"
   ]
  },
  {
   "cell_type": "code",
   "execution_count": 50,
   "id": "dee68db5-71d1-4f60-9305-4fe7a9a4687b",
   "metadata": {},
   "outputs": [
    {
     "name": "stdout",
     "output_type": "stream",
     "text": [
      "+------+-------+---------------+----------+\n",
      "|userId|movieId|            tag| timestamp|\n",
      "+------+-------+---------------+----------+\n",
      "|     2|  60756|          funny|1445714994|\n",
      "|     2|  60756|Highly quotable|1445714996|\n",
      "|     2|  60756|   will ferrell|1445714992|\n",
      "+------+-------+---------------+----------+\n",
      "only showing top 3 rows\n",
      "\n"
     ]
    }
   ],
   "source": [
    "tags.show(3)"
   ]
  },
  {
   "cell_type": "code",
   "execution_count": 51,
   "id": "e13dff58-68bc-434b-ba63-46a089fe7667",
   "metadata": {},
   "outputs": [
    {
     "name": "stdout",
     "output_type": "stream",
     "text": [
      "Distinct values of ratings:\n"
     ]
    },
    {
     "data": {
      "text/plain": [
       "0.5     1370\n",
       "1.0     2811\n",
       "1.5     1791\n",
       "2.0     7551\n",
       "2.5     5550\n",
       "3.0    20047\n",
       "3.5    13136\n",
       "4.0    26818\n",
       "4.5     8551\n",
       "5.0    13211\n",
       "Name: rating, dtype: int64"
      ]
     },
     "execution_count": 51,
     "metadata": {},
     "output_type": "execute_result"
    }
   ],
   "source": [
    "print('Distinct values of ratings:')\n",
    "ratings.toPandas()['rating'].value_counts().sort_index()"
   ]
  },
  {
   "cell_type": "code",
   "execution_count": 52,
   "id": "8b1b8ea9-25b3-4a17-8eed-a78f905e15b5",
   "metadata": {},
   "outputs": [
    {
     "name": "stdout",
     "output_type": "stream",
     "text": [
      "Minimum number of ratings per user is 20\n",
      "Minimum number of ratings per movie is 1\n"
     ]
    }
   ],
   "source": [
    "# What is minimum number of ratings per user and minimum number of ratings per movie?\n",
    "\n",
    "ratings_per_user = ratings.groupBy(\"userID\").count().toPandas()['count'].min()\n",
    "ratings_per_movie = ratings.groupBy(\"movieId\").count().toPandas()['count'].min()\n",
    "print(f\"Minimum number of ratings per user is {ratings_per_user}\")\n",
    "print(f\"Minimum number of ratings per movie is {ratings_per_movie}\")"
   ]
  },
  {
   "cell_type": "code",
   "execution_count": 53,
   "id": "2da81327-c4ff-4410-a36c-3f1e970678b4",
   "metadata": {},
   "outputs": [
    {
     "name": "stdout",
     "output_type": "stream",
     "text": [
      "610 distinct users\n",
      "9742 distinct movies\n",
      "9724 distinct rated movies\n",
      "18 unrated movies\n"
     ]
    }
   ],
   "source": [
    "# stats\n",
    "\n",
    "movie_count = movies.select('movieId').distinct().count()\n",
    "user_count = ratings.select('userID').distinct().count()\n",
    "rated_movie_count = ratings.select('movieId').distinct().count()\n",
    "\n",
    "\n",
    "print(f\"{user_count} distinct users\")\n",
    "print(f\"{movie_count} distinct movies\")\n",
    "print(f\"{rated_movie_count} distinct rated movies\")\n",
    "print(f\"{movie_count - rated_movie_count} unrated movies\")\n"
   ]
  },
  {
   "cell_type": "code",
   "execution_count": 54,
   "id": "be5969d3-4b7b-48ed-b727-197c287d3fd5",
   "metadata": {},
   "outputs": [
    {
     "name": "stdout",
     "output_type": "stream",
     "text": [
      "3446 / 9742 movies are rated by only one user\n"
     ]
    }
   ],
   "source": [
    "# How many movies are rated by only one user?\n",
    "\n",
    "rated_by_one = sum(ratings.groupBy(\"movieId\").count().toPandas()['count'] == 1)\n",
    "\n",
    "print(f\"{rated_by_one} / {movie_count} movies are rated by only one user\")"
   ]
  },
  {
   "cell_type": "code",
   "execution_count": 55,
   "id": "c7528726-d4ff-4fa3-a762-1b96c6496822",
   "metadata": {},
   "outputs": [
    {
     "name": "stdout",
     "output_type": "stream",
     "text": [
      "All distinct genres: \n",
      "+------------------+\n",
      "|            genres|\n",
      "+------------------+\n",
      "|             Crime|\n",
      "|           Romance|\n",
      "|          Thriller|\n",
      "|         Adventure|\n",
      "|             Drama|\n",
      "|               War|\n",
      "|       Documentary|\n",
      "|           Fantasy|\n",
      "|           Mystery|\n",
      "|           Musical|\n",
      "|         Animation|\n",
      "|         Film-Noir|\n",
      "|(no genres listed)|\n",
      "|              IMAX|\n",
      "|            Horror|\n",
      "|           Western|\n",
      "|            Comedy|\n",
      "|          Children|\n",
      "|            Action|\n",
      "|            Sci-Fi|\n",
      "+------------------+\n",
      "\n"
     ]
    }
   ],
   "source": [
    "# all movie genres\n",
    "# define a udf for splitting the genres string\n",
    "splitter = F.udf(lambda x: x.split('|'), ArrayType(StringType()))\n",
    "# query\n",
    "print('All distinct genres: ')\n",
    "movies.select(F.explode(splitter(\"genres\")).alias(\"genres\")).distinct().show()"
   ]
  },
  {
   "cell_type": "code",
   "execution_count": 56,
   "id": "b74b8340-1b24-4534-8d3d-98f6e8f4217a",
   "metadata": {},
   "outputs": [
    {
     "name": "stdout",
     "output_type": "stream",
     "text": [
      "Counts of movies per genre\n",
      "+------------------+-----+\n",
      "|            genres|count|\n",
      "+------------------+-----+\n",
      "|             Drama| 4361|\n",
      "|            Comedy| 3756|\n",
      "|          Thriller| 1894|\n",
      "|            Action| 1828|\n",
      "|           Romance| 1596|\n",
      "|         Adventure| 1263|\n",
      "|             Crime| 1199|\n",
      "|            Sci-Fi|  980|\n",
      "|            Horror|  978|\n",
      "|           Fantasy|  779|\n",
      "|          Children|  664|\n",
      "|         Animation|  611|\n",
      "|           Mystery|  573|\n",
      "|       Documentary|  440|\n",
      "|               War|  382|\n",
      "|           Musical|  334|\n",
      "|           Western|  167|\n",
      "|              IMAX|  158|\n",
      "|         Film-Noir|   87|\n",
      "|(no genres listed)|   34|\n",
      "+------------------+-----+\n",
      "\n"
     ]
    }
   ],
   "source": [
    "# Find out the number of movies for each category\n",
    "\n",
    "print('Counts of movies per genre')\n",
    "movies.select('movieID', F.explode(splitter(\"genres\")).alias(\"genres\")) \\\n",
    "    .groupby('genres') \\\n",
    "    .count() \\\n",
    "    .sort(F.desc('count')) \\\n",
    "    .show()"
   ]
  },
  {
   "cell_type": "code",
   "execution_count": 57,
   "id": "9f5c2868-b18a-47bc-be42-fd0e2496e218",
   "metadata": {},
   "outputs": [],
   "source": [
    "# get rating frequency\n",
    "df_movies_cnt = pd.DataFrame(ratings.toPandas().groupby('movieId').size(), columns=['count'])"
   ]
  },
  {
   "cell_type": "code",
   "execution_count": 58,
   "id": "1fb41812-6166-4a26-9560-0fca51f699fa",
   "metadata": {},
   "outputs": [
    {
     "data": {
      "text/plain": [
       "Text(0, 0.5, 'number of ratings')"
      ]
     },
     "execution_count": 58,
     "metadata": {},
     "output_type": "execute_result"
    },
    {
     "data": {
      "image/png": "[encoded data removed]",
      "text/plain": [
       "<Figure size 1000x400 with 1 Axes>"
      ]
     },
     "metadata": {},
     "output_type": "display_data"
    }
   ],
   "source": [
    "# plot rating frequency of all movies\n",
    "ax = df_movies_cnt \\\n",
    "    .sort_values('count', ascending=False) \\\n",
    "    .reset_index(drop=True) \\\n",
    "    .plot(\n",
    "        figsize=(10, 4),\n",
    "        title='Rating Frequency of All Movies',\n",
    "        fontsize=10\n",
    "    )\n",
    "ax.set_xlabel(\"index\")\n",
    "ax.set_ylabel(\"number of ratings\")"
   ]
  },
  {
   "cell_type": "code",
   "execution_count": 59,
   "id": "87aa2afa-b5de-4ab5-8d05-f0bbf7e36dc6",
   "metadata": {},
   "outputs": [
    {
     "data": {
      "text/plain": [
       "Text(0, 0.5, 'number of ratings (log scale)')"
      ]
     },
     "execution_count": 59,
     "metadata": {},
     "output_type": "execute_result"
    },
    {
     "data": {
      "image/png": "[encoded data removed]",
      "text/plain": [
       "<Figure size 1000x400 with 1 Axes>"
      ]
     },
     "metadata": {},
     "output_type": "display_data"
    }
   ],
   "source": [
    "# plot rating frequency of all movies in log scale\n",
    "ax = df_movies_cnt \\\n",
    "    .sort_values('count', ascending=False) \\\n",
    "    .reset_index(drop=True) \\\n",
    "    .plot(\n",
    "        figsize=(10, 4),\n",
    "        title='Rating Frequency of All Movies (in Log Scale)',\n",
    "        fontsize=10,\n",
    "        logy=True\n",
    "    )\n",
    "ax.set_xlabel(\"index\")\n",
    "ax.set_ylabel(\"number of ratings (log scale)\")"
   ]
  },
  {
   "cell_type": "code",
   "execution_count": 60,
   "id": "08d35602-308a-4552-b6c0-38df1b0a4b10",
   "metadata": {},
   "outputs": [
    {
     "data": {
      "text/plain": [
       "1.00    329.0\n",
       "0.95     47.0\n",
       "0.90     27.0\n",
       "0.85     17.0\n",
       "0.80     12.0\n",
       "0.75      9.0\n",
       "0.70      7.0\n",
       "0.65      5.0\n",
       "0.60      4.0\n",
       "0.55      3.0\n",
       "0.50      3.0\n",
       "Name: count, dtype: float64"
      ]
     },
     "execution_count": 60,
     "metadata": {},
     "output_type": "execute_result"
    }
   ],
   "source": [
    "df_movies_cnt['count'].quantile(np.arange(1, 0.45, -0.05))"
   ]
  },
  {
   "cell_type": "code",
   "execution_count": 61,
   "id": "c42be24c-b983-47ab-a826-01f8c768d791",
   "metadata": {},
   "outputs": [
    {
     "name": "stdout",
     "output_type": "stream",
     "text": [
      "root\n",
      " |-- userId: integer (nullable = true)\n",
      " |-- movieId: integer (nullable = true)\n",
      " |-- rating: double (nullable = true)\n",
      "\n"
     ]
    },
    {
     "data": {
      "text/plain": [
       "[Row(userId=1, movieId=1, rating=4.0)]"
      ]
     },
     "execution_count": 61,
     "metadata": {},
     "output_type": "execute_result"
    }
   ],
   "source": [
    "# prepare data for training\n",
    "rating_data = ratings.select([\"userId\", \"movieId\", \"rating\"])\n",
    "rating_data.printSchema()\n",
    "rating_data.head(1)"
   ]
  },
  {
   "cell_type": "code",
   "execution_count": 62,
   "id": "101e6dcf-3c4e-4390-8ce5-d3a23a51d161",
   "metadata": {},
   "outputs": [
    {
     "name": "stderr",
     "output_type": "stream",
     "text": [
      "23/10/02 14:09:27 WARN CacheManager: Asked to cache already cached data.\n",
      "23/10/02 14:09:27 WARN CacheManager: Asked to cache already cached data.\n",
      "23/10/02 14:09:27 WARN CacheManager: Asked to cache already cached data.\n"
     ]
    },
    {
     "data": {
      "text/plain": [
       "DataFrame[userId: int, movieId: int, rating: double]"
      ]
     },
     "execution_count": 62,
     "metadata": {},
     "output_type": "execute_result"
    }
   ],
   "source": [
    "# split the data into training/validation/testing sets\n",
    "train, validation, test = rating_data.randomSplit([6.0, 2.0, 2.0], seed=0)\n",
    "train.cache()\n",
    "validation.cache()\n",
    "test.cache()"
   ]
  },
  {
   "cell_type": "code",
   "execution_count": 63,
   "id": "13430633-f96d-4c6e-94d8-c778a2088e7e",
   "metadata": {},
   "outputs": [],
   "source": [
    "from pyspark.ml.tuning import CrossValidator, ParamGridBuilder\n",
    "from pyspark.ml.evaluation import RegressionEvaluator\n",
    "from pyspark.ml.recommendation import ALS\n",
    "\n",
    "if DO_GRID_SEARCH:\n",
    "    als = ALS(userCol=\"userId\", itemCol=\"movieId\", ratingCol=\"rating\", coldStartStrategy=\"drop\", nonnegative = True, implicitPrefs = False)\n",
    "\n",
    "    param_grid = ParamGridBuilder() \\\n",
    "        .addGrid(als.rank, [8, 10, 12, 14, 16, 18, 20]) \\\n",
    "        .addGrid(als.maxIter, [10, 10, 10, 10, 10]) \\\n",
    "        .addGrid(als.regParam, [0.001, 0.01, 0.05, 0.1, 0.2]) \\\n",
    "        .build()\n",
    "\n",
    "    # Tell Spark how to evaluate model performance\n",
    "    evaluator = RegressionEvaluator(metricName=\"rmse\", labelCol=\"rating\", predictionCol=\"prediction\")\n",
    "\n",
    "    # Build cross validation step using CrossValidator\n",
    "    cv = CrossValidator(estimator = als,\n",
    "        estimatorParamMaps = param_grid,\n",
    "        evaluator = evaluator,\n",
    "        numFolds = 5)\n",
    "    # Run the cv on the training data\n",
    "    model = cv.fit(train)\n",
    "    # Extract best combination of values from cross validation\n",
    "    best_model = model.bestModel\n",
    "    print(best_model)"
   ]
  },
  {
   "cell_type": "code",
   "execution_count": 64,
   "id": "fcb5f15a-bf7a-4dfb-8c97-b93589a48ff1",
   "metadata": {},
   "outputs": [],
   "source": [
    "als = ALS(\n",
    "    userCol=\"userId\", \n",
    "    itemCol=\"movieId\", \n",
    "    ratingCol=\"rating\", \n",
    "    coldStartStrategy=\"drop\", \n",
    "    nonnegative = True, \n",
    "    implicitPrefs = False,\n",
    "    rank=12,\n",
    "    maxIter=10,\n",
    "    regParam=0.1)\n",
    "\n",
    "model = als.fit(train)"
   ]
  },
  {
   "cell_type": "code",
   "execution_count": 65,
   "id": "622feb06-7521-466d-9b6c-cb0348b5341d",
   "metadata": {},
   "outputs": [
    {
     "name": "stdout",
     "output_type": "stream",
     "text": [
      "+------+-------+------+----------+\n",
      "|userId|movieId|rating|prediction|\n",
      "+------+-------+------+----------+\n",
      "|   580|   1580|   4.0|  3.201551|\n",
      "|   580|  44022|   3.5| 3.6670213|\n",
      "|   362|   1591|   4.0| 2.3161492|\n",
      "+------+-------+------+----------+\n",
      "only showing top 3 rows\n",
      "\n"
     ]
    }
   ],
   "source": [
    "predictions = model.transform(test)\n",
    "predictions.show(3)"
   ]
  },
  {
   "cell_type": "code",
   "execution_count": 66,
   "id": "4fb7a554-f15a-4058-bb6f-1ed1c95a81cf",
   "metadata": {},
   "outputs": [
    {
     "data": {
      "text/plain": [
       "0.9042956249281511"
      ]
     },
     "execution_count": 66,
     "metadata": {},
     "output_type": "execute_result"
    }
   ],
   "source": [
    "evaluator = RegressionEvaluator(metricName=\"rmse\", labelCol=\"rating\", predictionCol=\"prediction\")\n",
    "rmse = evaluator.evaluate(predictions)\n",
    "rmse"
   ]
  },
  {
   "cell_type": "code",
   "execution_count": 68,
   "id": "ced7fa7a-fcd3-4e14-b373-405d9af346f5",
   "metadata": {},
   "outputs": [
    {
     "data": {
      "text/plain": [
       "0.6987187149311054"
      ]
     },
     "execution_count": 68,
     "metadata": {},
     "output_type": "execute_result"
    }
   ],
   "source": [
    "evaluator = RegressionEvaluator(metricName=\"mae\", labelCol=\"rating\", predictionCol=\"prediction\")\n",
    "mae = evaluator.evaluate(predictions)\n",
    "mae"
   ]
  },
  {
   "cell_type": "code",
   "execution_count": 72,
   "id": "80749935-6138-45c4-a18d-f9b4381e06cf",
   "metadata": {},
   "outputs": [
    {
     "data": {
      "text/plain": [
       "[Row(userId=1, movieId=3, rating=1.0),\n",
       " Row(userId=1, movieId=6, rating=1.0),\n",
       " Row(userId=1, movieId=47, rating=1.0)]"
      ]
     },
     "execution_count": 72,
     "metadata": {},
     "output_type": "execute_result"
    }
   ],
   "source": [
    "# What if this was treated more like a classification problem\n",
    "# where a rating of >= 3.0 is considered a like and a rating of \n",
    "# < 3.0 is considered a dislike\n",
    "# 1st attempt still using ALS for regression\n",
    "\n",
    "binary_rating_data = rating_data.select(\"*\")\n",
    "binary_rating_data = binary_rating_data.withColumn(\"rating\", \n",
    "                              F.when(binary_rating_data.rating >= 3.0, 5.0) \\\n",
    "                              .otherwise(0.0)\n",
    "                             )\n",
    "binary_train, binary_validation, binary_test = binary_rating_data.randomSplit([6.0, 2.0, 2.0], seed=0)\n",
    "binary_train.cache()\n",
    "binary_validation.cache()\n",
    "binary_test.cache()\n",
    "\n",
    "als = ALS(\n",
    "    userCol=\"userId\", \n",
    "    itemCol=\"movieId\", \n",
    "    ratingCol=\"rating\", \n",
    "    coldStartStrategy=\"drop\", \n",
    "    nonnegative = True, \n",
    "    implicitPrefs = False,\n",
    "    rank=12,\n",
    "    maxIter=10,\n",
    "    regParam=0.1)\n",
    "\n",
    "model = als.fit(binary_train)\n",
    "predictions = model.transform(binary_test)\n",
    "\n",
    "evaluator = RegressionEvaluator(metricName=\"rmse\", labelCol=\"rating\", predictionCol=\"prediction\")\n",
    "rmse = evaluator.evaluate(predictions)\n",
    "print(f\"rmse: {rmse}\")\n",
    "\n",
    "evaluator = RegressionEvaluator(metricName=\"mae\", labelCol=\"rating\", predictionCol=\"prediction\")\n",
    "mae = evaluator.evaluate(predictions)\n",
    "print(f\"mae: {mae}\")\n"
   ]
  }
 ],
 "metadata": {
  "kernelspec": {
   "display_name": "Python 3 (ipykernel)",
   "language": "python",
   "name": "python3"
  },
  "language_info": {
   "codemirror_mode": {
    "name": "ipython",
    "version": 3
   },
   "file_extension": ".py",
   "mimetype": "text/x-python",
   "name": "python",
   "nbconvert_exporter": "python",
   "pygments_lexer": "ipython3",
   "version": "3.8.10"
  }
 },
 "nbformat": 4,
 "nbformat_minor": 5
}
