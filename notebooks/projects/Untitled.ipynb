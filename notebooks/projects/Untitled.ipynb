{
 "cells": [
  {
   "cell_type": "code",
   "execution_count": 1,
   "id": "1036ef7e-6ae2-47d2-abe6-56209cab0c8e",
   "metadata": {},
   "outputs": [],
   "source": [
    "import pandas as pd\n",
    "import numpy as np"
   ]
  },
  {
   "cell_type": "code",
   "execution_count": 5,
   "id": "c7de225d-04db-40f3-9cfe-c830c94a58bb",
   "metadata": {},
   "outputs": [],
   "source": [
    "df = pd.read_csv('../../data/knn_recommendations/similarity.csv', dtype={'code': str, 'id': str})\n",
    "df = df[['id']].sample(frac=1).reset_index(drop=True) "
   ]
  },
  {
   "cell_type": "code",
   "execution_count": 8,
   "id": "b0bd8502-e5ec-45df-be5c-dc2a87c7b738",
   "metadata": {},
   "outputs": [],
   "source": [
    "# df[\"likes\"] = [df['id'].sample(n=20) for v in df['id']]\n",
    "df.to_csv('../../data/knn_recommendations/popularity.csv', index=False)\n",
    "# df.loc[0, \"likes\"]\n",
    "\n",
    "# np.empty((df.size, df.size))"
   ]
  }
 ],
 "metadata": {
  "kernelspec": {
   "display_name": "Python 3 (ipykernel)",
   "language": "python",
   "name": "python3"
  },
  "language_info": {
   "codemirror_mode": {
    "name": "ipython",
    "version": 3
   },
   "file_extension": ".py",
   "mimetype": "text/x-python",
   "name": "python",
   "nbconvert_exporter": "python",
   "pygments_lexer": "ipython3",
   "version": "3.8.10"
  }
 },
 "nbformat": 4,
 "nbformat_minor": 5
}
