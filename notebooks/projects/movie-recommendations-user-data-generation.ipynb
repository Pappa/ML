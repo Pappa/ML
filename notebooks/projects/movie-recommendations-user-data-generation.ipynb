{
 "cells": [
  {
   "cell_type": "markdown",
   "id": "5687422a-3f41-4100-b581-d4b556fdc9ef",
   "metadata": {},
   "source": [
    "# Create fake user data\n",
    "\n",
    "This notebook generates fake user data with long-tail distributions."
   ]
  },
  {
   "cell_type": "code",
   "execution_count": 185,
   "id": "a6549a52-a19f-4459-a86b-07f3cbc9adac",
   "metadata": {},
   "outputs": [
    {
     "name": "stdout",
     "output_type": "stream",
     "text": [
      "Requirement already satisfied: faker in /usr/local/lib/python3.8/dist-packages (19.13.0)\n",
      "Requirement already satisfied: python-dateutil>=2.4 in /usr/local/lib/python3.8/dist-packages (from faker) (2.8.2)\n",
      "Requirement already satisfied: typing-extensions>=3.10.0.1 in /usr/local/lib/python3.8/dist-packages (from faker) (4.8.0)\n",
      "Requirement already satisfied: six>=1.5 in /usr/local/lib/python3.8/dist-packages (from python-dateutil>=2.4->faker) (1.16.0)\n",
      "\u001b[33mWARNING: Running pip as the 'root' user can result in broken permissions and conflicting behaviour with the system package manager. It is recommended to use a virtual environment instead: https://pip.pypa.io/warnings/venv\u001b[0m\u001b[33m\n",
      "\u001b[0m"
     ]
    }
   ],
   "source": [
    "!pip install faker\n",
    "import os\n",
    "import numpy as np\n",
    "import pandas as pd\n",
    "import matplotlib.pyplot as plt"
   ]
  },
  {
   "cell_type": "code",
   "execution_count": 186,
   "id": "329fdad8-ce7d-4658-9a4e-f04cdd35a2bd",
   "metadata": {},
   "outputs": [],
   "source": [
    "DATA_DIR=\"../../data/recommendations/\"\n",
    "ratings_path = 'ml-latest-small/ratings.csv'\n",
    "users_path = 'ml-latest-small/users.csv'\n",
    "ratings_df = pd.read_csv(os.path.join(DATA_DIR, ratings_path))"
   ]
  },
  {
   "cell_type": "code",
   "execution_count": 187,
   "id": "c9829a7a-055e-47b9-8327-8d866784e7b0",
   "metadata": {},
   "outputs": [
    {
     "data": {
      "text/html": [
       "<div>\n",
       "<style scoped>\n",
       "    .dataframe tbody tr th:only-of-type {\n",
       "        vertical-align: middle;\n",
       "    }\n",
       "\n",
       "    .dataframe tbody tr th {\n",
       "        vertical-align: top;\n",
       "    }\n",
       "\n",
       "    .dataframe thead th {\n",
       "        text-align: right;\n",
       "    }\n",
       "</style>\n",
       "<table border=\"1\" class=\"dataframe\">\n",
       "  <thead>\n",
       "    <tr style=\"text-align: right;\">\n",
       "      <th></th>\n",
       "      <th>userId</th>\n",
       "    </tr>\n",
       "  </thead>\n",
       "  <tbody>\n",
       "    <tr>\n",
       "      <th>0</th>\n",
       "      <td>1</td>\n",
       "    </tr>\n",
       "    <tr>\n",
       "      <th>1</th>\n",
       "      <td>2</td>\n",
       "    </tr>\n",
       "    <tr>\n",
       "      <th>2</th>\n",
       "      <td>3</td>\n",
       "    </tr>\n",
       "    <tr>\n",
       "      <th>3</th>\n",
       "      <td>4</td>\n",
       "    </tr>\n",
       "    <tr>\n",
       "      <th>4</th>\n",
       "      <td>5</td>\n",
       "    </tr>\n",
       "  </tbody>\n",
       "</table>\n",
       "</div>"
      ],
      "text/plain": [
       "   userId\n",
       "0       1\n",
       "1       2\n",
       "2       3\n",
       "3       4\n",
       "4       5"
      ]
     },
     "execution_count": 187,
     "metadata": {},
     "output_type": "execute_result"
    }
   ],
   "source": [
    "users_df = ratings_df[['userId']].drop_duplicates().reset_index(drop=True)\n",
    "users_df.head()"
   ]
  },
  {
   "cell_type": "code",
   "execution_count": 188,
   "id": "1ddc6cc3-576a-4642-a2c1-dfc3cf343309",
   "metadata": {},
   "outputs": [
    {
     "name": "stdout",
     "output_type": "stream",
     "text": [
      "sum 1.0\n",
      "mean 0.001639344262295082\n",
      "max 0.011388062974535075\n",
      "min 1.9379369262073935e-07\n"
     ]
    }
   ],
   "source": [
    "# Generate a long-tail probability distribution\n",
    "probability_distribution = np.random.exponential(scale=1, size=users_df.size)\n",
    "probability_distribution = probability_distribution / probability_distribution.sum()\n",
    "print(\"sum\", probability_distribution.sum())\n",
    "print(\"mean\", probability_distribution.mean())\n",
    "print(\"max\", probability_distribution.max())\n",
    "print(\"min\", probability_distribution.min())"
   ]
  },
  {
   "cell_type": "code",
   "execution_count": 189,
   "id": "9059c416-ff0b-48ee-ac2b-6ee3741f2112",
   "metadata": {},
   "outputs": [
    {
     "data": {
      "image/png": "[encoded data removed]",
      "text/plain": [
       "<Figure size 640x480 with 1 Axes>"
      ]
     },
     "metadata": {},
     "output_type": "display_data"
    }
   ],
   "source": [
    "# Plot the data to visualize the skew\n",
    "plt.hist(probability_distribution, bins=int(users_df.size/10))\n",
    "plt.show()"
   ]
  },
  {
   "cell_type": "code",
   "execution_count": 190,
   "id": "05d347b5-8e54-4fa7-b962-6d691d57478f",
   "metadata": {},
   "outputs": [
    {
     "data": {
      "text/html": [
       "<div>\n",
       "<style scoped>\n",
       "    .dataframe tbody tr th:only-of-type {\n",
       "        vertical-align: middle;\n",
       "    }\n",
       "\n",
       "    .dataframe tbody tr th {\n",
       "        vertical-align: top;\n",
       "    }\n",
       "\n",
       "    .dataframe thead th {\n",
       "        text-align: right;\n",
       "    }\n",
       "</style>\n",
       "<table border=\"1\" class=\"dataframe\">\n",
       "  <thead>\n",
       "    <tr style=\"text-align: right;\">\n",
       "      <th></th>\n",
       "      <th>userId</th>\n",
       "      <th>city</th>\n",
       "      <th>post_code</th>\n",
       "    </tr>\n",
       "  </thead>\n",
       "  <tbody>\n",
       "    <tr>\n",
       "      <th>0</th>\n",
       "      <td>1</td>\n",
       "      <td>Hortonmouth</td>\n",
       "      <td>62211</td>\n",
       "    </tr>\n",
       "    <tr>\n",
       "      <th>1</th>\n",
       "      <td>2</td>\n",
       "      <td>Richardsonhaven</td>\n",
       "      <td>24778</td>\n",
       "    </tr>\n",
       "    <tr>\n",
       "      <th>2</th>\n",
       "      <td>3</td>\n",
       "      <td>Lawrencemouth</td>\n",
       "      <td>89557</td>\n",
       "    </tr>\n",
       "    <tr>\n",
       "      <th>3</th>\n",
       "      <td>4</td>\n",
       "      <td>Ashleyshire</td>\n",
       "      <td>08143</td>\n",
       "    </tr>\n",
       "    <tr>\n",
       "      <th>4</th>\n",
       "      <td>5</td>\n",
       "      <td>West Carrie</td>\n",
       "      <td>48994</td>\n",
       "    </tr>\n",
       "    <tr>\n",
       "      <th>...</th>\n",
       "      <td>...</td>\n",
       "      <td>...</td>\n",
       "      <td>...</td>\n",
       "    </tr>\n",
       "    <tr>\n",
       "      <th>605</th>\n",
       "      <td>606</td>\n",
       "      <td>New Brent</td>\n",
       "      <td>78655</td>\n",
       "    </tr>\n",
       "    <tr>\n",
       "      <th>606</th>\n",
       "      <td>607</td>\n",
       "      <td>Marshallport</td>\n",
       "      <td>04791</td>\n",
       "    </tr>\n",
       "    <tr>\n",
       "      <th>607</th>\n",
       "      <td>608</td>\n",
       "      <td>Nicoleside</td>\n",
       "      <td>22271</td>\n",
       "    </tr>\n",
       "    <tr>\n",
       "      <th>608</th>\n",
       "      <td>609</td>\n",
       "      <td>Hollyhaven</td>\n",
       "      <td>43859</td>\n",
       "    </tr>\n",
       "    <tr>\n",
       "      <th>609</th>\n",
       "      <td>610</td>\n",
       "      <td>Hardyfurt</td>\n",
       "      <td>28862</td>\n",
       "    </tr>\n",
       "  </tbody>\n",
       "</table>\n",
       "<p>610 rows × 3 columns</p>\n",
       "</div>"
      ],
      "text/plain": [
       "     userId             city post_code\n",
       "0         1      Hortonmouth     62211\n",
       "1         2  Richardsonhaven     24778\n",
       "2         3    Lawrencemouth     89557\n",
       "3         4      Ashleyshire     08143\n",
       "4         5      West Carrie     48994\n",
       "..      ...              ...       ...\n",
       "605     606        New Brent     78655\n",
       "606     607     Marshallport     04791\n",
       "607     608       Nicoleside     22271\n",
       "608     609       Hollyhaven     43859\n",
       "609     610        Hardyfurt     28862\n",
       "\n",
       "[610 rows x 3 columns]"
      ]
     },
     "execution_count": 190,
     "metadata": {},
     "output_type": "execute_result"
    }
   ],
   "source": [
    "from faker import Faker\n",
    "\n",
    "fake = Faker()\n",
    "NUM_USERS = users_df['userId'].count()\n",
    "\n",
    "cities = [fake.unique.city() for _ in range(0, int(users_df.size / 5))]\n",
    "post_codes = {city: [fake.unique.postcode() for _ in range(0, 11)] for city in cities}\n",
    "\n",
    "users_df['city'] = np.random.choice(cities, size=NUM_USERS, p=np.random.shuffle(probability_distribution))\n",
    "users_df['post_code'] = [np.random.choice(post_codes[city], p=np.random.shuffle(probability_distribution)) for city in users_df['city']]\n",
    "                                   \n",
    "users_df"
   ]
  }
 ],
 "metadata": {
  "kernelspec": {
   "display_name": "Python 3 (ipykernel)",
   "language": "python",
   "name": "python3"
  },
  "language_info": {
   "codemirror_mode": {
    "name": "ipython",
    "version": 3
   },
   "file_extension": ".py",
   "mimetype": "text/x-python",
   "name": "python",
   "nbconvert_exporter": "python",
   "pygments_lexer": "ipython3",
   "version": "3.8.10"
  }
 },
 "nbformat": 4,
 "nbformat_minor": 5
}
