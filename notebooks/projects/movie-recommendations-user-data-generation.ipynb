{
 "cells": [
  {
   "cell_type": "code",
   "execution_count": 1,
   "id": "da65701e-3d78-405d-82b8-2f8fd490ee1a",
   "metadata": {},
   "outputs": [],
   "source": [
    "!pip install xkcdpass\n",
    "import os\n",
    "import numpy as np\n",
    "import pandas as pd"
   ]
  },
  {
   "cell_type": "code",
   "execution_count": 2,
   "id": "329fdad8-ce7d-4658-9a4e-f04cdd35a2bd",
   "metadata": {},
   "outputs": [],
   "source": [
    "DATA_DIR=\"../../data/recommendations/\"\n",
    "ratings_path = 'ml-latest-small/ratings.csv'\n",
    "users_path = 'ml-latest-small/users.csv'\n",
    "df = pd.read_csv(os.path.join(DATA_DIR, ratings_path))"
   ]
  },
  {
   "cell_type": "code",
   "execution_count": 11,
   "id": "c9829a7a-055e-47b9-8327-8d866784e7b0",
   "metadata": {},
   "outputs": [
    {
     "data": {
      "text/html": [
       "<div>\n",
       "<style scoped>\n",
       "    .dataframe tbody tr th:only-of-type {\n",
       "        vertical-align: middle;\n",
       "    }\n",
       "\n",
       "    .dataframe tbody tr th {\n",
       "        vertical-align: top;\n",
       "    }\n",
       "\n",
       "    .dataframe thead th {\n",
       "        text-align: right;\n",
       "    }\n",
       "</style>\n",
       "<table border=\"1\" class=\"dataframe\">\n",
       "  <thead>\n",
       "    <tr style=\"text-align: right;\">\n",
       "      <th></th>\n",
       "      <th>userId</th>\n",
       "    </tr>\n",
       "  </thead>\n",
       "  <tbody>\n",
       "    <tr>\n",
       "      <th>0</th>\n",
       "      <td>1</td>\n",
       "    </tr>\n",
       "    <tr>\n",
       "      <th>1</th>\n",
       "      <td>2</td>\n",
       "    </tr>\n",
       "    <tr>\n",
       "      <th>2</th>\n",
       "      <td>3</td>\n",
       "    </tr>\n",
       "    <tr>\n",
       "      <th>3</th>\n",
       "      <td>4</td>\n",
       "    </tr>\n",
       "    <tr>\n",
       "      <th>4</th>\n",
       "      <td>5</td>\n",
       "    </tr>\n",
       "  </tbody>\n",
       "</table>\n",
       "</div>"
      ],
      "text/plain": [
       "   userId\n",
       "0       1\n",
       "1       2\n",
       "2       3\n",
       "3       4\n",
       "4       5"
      ]
     },
     "execution_count": 11,
     "metadata": {},
     "output_type": "execute_result"
    }
   ],
   "source": [
    "users_df = df[['userId']].drop_duplicates().reset_index(drop=True)\n",
    "users_df.head()"
   ]
  },
  {
   "cell_type": "code",
   "execution_count": 57,
   "id": "05d347b5-8e54-4fa7-b962-6d691d57478f",
   "metadata": {},
   "outputs": [
    {
     "name": "stdout",
     "output_type": "stream",
     "text": [
      "['Tubular', 'Espresso', 'Devotion', 'Mandate', 'Disrupt']\n",
      "['10000', '10001', '10002', '10003', '10004']\n"
     ]
    },
    {
     "data": {
      "text/plain": [
       "0.12543796911600255"
      ]
     },
     "execution_count": 57,
     "metadata": {},
     "output_type": "execute_result"
    }
   ],
   "source": [
    "from xkcdpass import xkcd_password as xp\n",
    "\n",
    "wordfile = xp.locate_wordfile()\n",
    "wordlist = xp.generate_wordlist(wordfile=wordfile, min_length=5, max_length=8)\n",
    "\n",
    "regions = xp.generate_xkcdpassword(wordlist, numwords=users_df.size, case='capitalize').split(' ')\n",
    "post_codes = [str(x + 10000) for x in range(0, users_df.size)]\n",
    "\n",
    "#users_df['region'] = np.random.gamma(regions, users_df.shape[0])\n",
    "\n",
    "print(regions[0:5])\n",
    "print(post_codes[0:5])\n",
    "\n",
    "sum(np.random.gamma(0.5,size=1))"
   ]
  }
 ],
 "metadata": {
  "kernelspec": {
   "display_name": "Python 3 (ipykernel)",
   "language": "python",
   "name": "python3"
  },
  "language_info": {
   "codemirror_mode": {
    "name": "ipython",
    "version": 3
   },
   "file_extension": ".py",
   "mimetype": "text/x-python",
   "name": "python",
   "nbconvert_exporter": "python",
   "pygments_lexer": "ipython3",
   "version": "3.8.10"
  }
 },
 "nbformat": 4,
 "nbformat_minor": 5
}
