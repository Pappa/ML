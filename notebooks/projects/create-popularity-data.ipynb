{
 "cells": [
  {
   "cell_type": "code",
   "execution_count": 8,
   "id": "1036ef7e-6ae2-47d2-abe6-56209cab0c8e",
   "metadata": {},
   "outputs": [],
   "source": [
    "import pandas as pd\n",
    "import numpy as np"
   ]
  },
  {
   "cell_type": "code",
   "execution_count": 9,
   "id": "c7de225d-04db-40f3-9cfe-c830c94a58bb",
   "metadata": {},
   "outputs": [
    {
     "data": {
      "text/html": [
       "<div>\n",
       "<style scoped>\n",
       "    .dataframe tbody tr th:only-of-type {\n",
       "        vertical-align: middle;\n",
       "    }\n",
       "\n",
       "    .dataframe tbody tr th {\n",
       "        vertical-align: top;\n",
       "    }\n",
       "\n",
       "    .dataframe thead th {\n",
       "        text-align: right;\n",
       "    }\n",
       "</style>\n",
       "<table border=\"1\" class=\"dataframe\">\n",
       "  <thead>\n",
       "    <tr style=\"text-align: right;\">\n",
       "      <th></th>\n",
       "      <th>id</th>\n",
       "      <th>likes</th>\n",
       "    </tr>\n",
       "  </thead>\n",
       "  <tbody>\n",
       "    <tr>\n",
       "      <th>0</th>\n",
       "      <td>07751395</td>\n",
       "      <td>[02929242, 16907189, 10190938, 11996867, 19278...</td>\n",
       "    </tr>\n",
       "    <tr>\n",
       "      <th>1</th>\n",
       "      <td>13756526</td>\n",
       "      <td>[09123285, 19547060, 13360348, 16401862, 15447...</td>\n",
       "    </tr>\n",
       "    <tr>\n",
       "      <th>2</th>\n",
       "      <td>05917982</td>\n",
       "      <td>[09575563, 10849133, 13200374, 01722046, 16191...</td>\n",
       "    </tr>\n",
       "    <tr>\n",
       "      <th>3</th>\n",
       "      <td>02906549</td>\n",
       "      <td>[18636923, 19384071, 16727965, 15710670, 16827...</td>\n",
       "    </tr>\n",
       "    <tr>\n",
       "      <th>4</th>\n",
       "      <td>12110629</td>\n",
       "      <td>[09537469, 10436152, 16593134, 19547060, 06586...</td>\n",
       "    </tr>\n",
       "    <tr>\n",
       "      <th>...</th>\n",
       "      <td>...</td>\n",
       "      <td>...</td>\n",
       "    </tr>\n",
       "    <tr>\n",
       "      <th>7899</th>\n",
       "      <td>19592066</td>\n",
       "      <td>[13225396, 08420602, 21107768, 12056086, 21091...</td>\n",
       "    </tr>\n",
       "    <tr>\n",
       "      <th>7900</th>\n",
       "      <td>19087204</td>\n",
       "      <td>[18539836, 10140012, 17834930, 20179979, 21021...</td>\n",
       "    </tr>\n",
       "    <tr>\n",
       "      <th>7901</th>\n",
       "      <td>09231323</td>\n",
       "      <td>[16579815, 16471268, 08628006, 02886285, 21063...</td>\n",
       "    </tr>\n",
       "    <tr>\n",
       "      <th>7902</th>\n",
       "      <td>12052666</td>\n",
       "      <td>[20134388, 15394959, 02824056, 09648613, 18233...</td>\n",
       "    </tr>\n",
       "    <tr>\n",
       "      <th>7903</th>\n",
       "      <td>04799011</td>\n",
       "      <td>[02880739, 15768663, 19073271, 18888666, 20155...</td>\n",
       "    </tr>\n",
       "  </tbody>\n",
       "</table>\n",
       "<p>7904 rows × 2 columns</p>\n",
       "</div>"
      ],
      "text/plain": [
       "            id                                              likes\n",
       "0     07751395  [02929242, 16907189, 10190938, 11996867, 19278...\n",
       "1     13756526  [09123285, 19547060, 13360348, 16401862, 15447...\n",
       "2     05917982  [09575563, 10849133, 13200374, 01722046, 16191...\n",
       "3     02906549  [18636923, 19384071, 16727965, 15710670, 16827...\n",
       "4     12110629  [09537469, 10436152, 16593134, 19547060, 06586...\n",
       "...        ...                                                ...\n",
       "7899  19592066  [13225396, 08420602, 21107768, 12056086, 21091...\n",
       "7900  19087204  [18539836, 10140012, 17834930, 20179979, 21021...\n",
       "7901  09231323  [16579815, 16471268, 08628006, 02886285, 21063...\n",
       "7902  12052666  [20134388, 15394959, 02824056, 09648613, 18233...\n",
       "7903  04799011  [02880739, 15768663, 19073271, 18888666, 20155...\n",
       "\n",
       "[7904 rows x 2 columns]"
      ]
     },
     "execution_count": 9,
     "metadata": {},
     "output_type": "execute_result"
    }
   ],
   "source": [
    "df = pd.read_csv('../../data/knn_recommendations/similarity.csv', dtype={'code': str, 'id': str})\n",
    "df = df[['id']].sample(frac=1).reset_index(drop=True) \n",
    "df[\"likes\"] = None\n",
    "\n",
    "for idx, row in df.iterrows():\n",
    "    df.at[idx, \"likes\"] = df['id'][:500].sample(n=20).tolist()\n",
    "\n",
    "df"
   ]
  },
  {
   "cell_type": "code",
   "execution_count": null,
   "id": "2412d361-6afa-4d99-946c-df2b994e0d3a",
   "metadata": {},
   "outputs": [],
   "source": [
    "import random\n",
    "\n",
    "ratings_df = pd.DataFrame({'user_id': pd.Series(dtype='str'),\n",
    "                   'item_id': pd.Series(dtype='str'),\n",
    "                   'rating': pd.Series(dtype='int')})\n",
    "\n",
    "for idx, row in df.iterrows():\n",
    "    n = random_number = random.randint(0, 20)\n",
    "    items = df['id'][:500].sample(n=n).tolist()\n",
    "    for item in items:\n",
    "        ratings_df.loc[len(ratings_df)] = [row['id'], item, 1]\n",
    "    \n",
    "ratings_df"
   ]
  },
  {
   "cell_type": "code",
   "execution_count": 14,
   "id": "b0bd8502-e5ec-45df-be5c-dc2a87c7b738",
   "metadata": {},
   "outputs": [],
   "source": [
    "df.to_parquet('../../data/knn_recommendations/popularity.parquet', index=False)\n",
    "ratings_df.to_csv('../../data/knn_recommendations/ratings.csv', index=False)"
   ]
  }
 ],
 "metadata": {
  "kernelspec": {
   "display_name": "Python 3 (ipykernel)",
   "language": "python",
   "name": "python3"
  },
  "language_info": {
   "codemirror_mode": {
    "name": "ipython",
    "version": 3
   },
   "file_extension": ".py",
   "mimetype": "text/x-python",
   "name": "python",
   "nbconvert_exporter": "python",
   "pygments_lexer": "ipython3",
   "version": "3.8.10"
  }
 },
 "nbformat": 4,
 "nbformat_minor": 5
}
