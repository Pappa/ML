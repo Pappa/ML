{
 "cells": [
  {
   "cell_type": "code",
   "execution_count": 1,
   "id": "a63705e8-9b2f-4843-aced-f4abb736e561",
   "metadata": {},
   "outputs": [],
   "source": [
    "import pandas as pd\n",
    "import numpy as np"
   ]
  },
  {
   "cell_type": "code",
   "execution_count": 7,
   "id": "3b1f5a4b-81a0-4280-8f10-5afe091cba09",
   "metadata": {},
   "outputs": [
    {
     "data": {
      "text/html": [
       "<div>\n",
       "<style scoped>\n",
       "    .dataframe tbody tr th:only-of-type {\n",
       "        vertical-align: middle;\n",
       "    }\n",
       "\n",
       "    .dataframe tbody tr th {\n",
       "        vertical-align: top;\n",
       "    }\n",
       "\n",
       "    .dataframe thead th {\n",
       "        text-align: right;\n",
       "    }\n",
       "</style>\n",
       "<table border=\"1\" class=\"dataframe\">\n",
       "  <thead>\n",
       "    <tr style=\"text-align: right;\">\n",
       "      <th></th>\n",
       "      <th>user_id</th>\n",
       "      <th>item_id</th>\n",
       "      <th>rating</th>\n",
       "    </tr>\n",
       "  </thead>\n",
       "  <tbody>\n",
       "    <tr>\n",
       "      <th>0</th>\n",
       "      <td>07751395</td>\n",
       "      <td>16907189</td>\n",
       "      <td>1</td>\n",
       "    </tr>\n",
       "    <tr>\n",
       "      <th>1</th>\n",
       "      <td>07751395</td>\n",
       "      <td>10483344</td>\n",
       "      <td>1</td>\n",
       "    </tr>\n",
       "    <tr>\n",
       "      <th>2</th>\n",
       "      <td>07751395</td>\n",
       "      <td>20941049</td>\n",
       "      <td>1</td>\n",
       "    </tr>\n",
       "    <tr>\n",
       "      <th>3</th>\n",
       "      <td>07751395</td>\n",
       "      <td>02743910</td>\n",
       "      <td>1</td>\n",
       "    </tr>\n",
       "    <tr>\n",
       "      <th>4</th>\n",
       "      <td>07751395</td>\n",
       "      <td>16523905</td>\n",
       "      <td>1</td>\n",
       "    </tr>\n",
       "    <tr>\n",
       "      <th>...</th>\n",
       "      <td>...</td>\n",
       "      <td>...</td>\n",
       "      <td>...</td>\n",
       "    </tr>\n",
       "    <tr>\n",
       "      <th>78168</th>\n",
       "      <td>12052666</td>\n",
       "      <td>17532031</td>\n",
       "      <td>1</td>\n",
       "    </tr>\n",
       "    <tr>\n",
       "      <th>78169</th>\n",
       "      <td>12052666</td>\n",
       "      <td>11001969</td>\n",
       "      <td>1</td>\n",
       "    </tr>\n",
       "    <tr>\n",
       "      <th>78170</th>\n",
       "      <td>04799011</td>\n",
       "      <td>15297114</td>\n",
       "      <td>1</td>\n",
       "    </tr>\n",
       "    <tr>\n",
       "      <th>78171</th>\n",
       "      <td>04799011</td>\n",
       "      <td>09535330</td>\n",
       "      <td>1</td>\n",
       "    </tr>\n",
       "    <tr>\n",
       "      <th>78172</th>\n",
       "      <td>04799011</td>\n",
       "      <td>18318438</td>\n",
       "      <td>1</td>\n",
       "    </tr>\n",
       "  </tbody>\n",
       "</table>\n",
       "<p>78173 rows × 3 columns</p>\n",
       "</div>"
      ],
      "text/plain": [
       "        user_id   item_id  rating\n",
       "0      07751395  16907189       1\n",
       "1      07751395  10483344       1\n",
       "2      07751395  20941049       1\n",
       "3      07751395  02743910       1\n",
       "4      07751395  16523905       1\n",
       "...         ...       ...     ...\n",
       "78168  12052666  17532031       1\n",
       "78169  12052666  11001969       1\n",
       "78170  04799011  15297114       1\n",
       "78171  04799011  09535330       1\n",
       "78172  04799011  18318438       1\n",
       "\n",
       "[78173 rows x 3 columns]"
      ]
     },
     "execution_count": 7,
     "metadata": {},
     "output_type": "execute_result"
    }
   ],
   "source": [
    "df = pd.read_csv('../../data/knn_recommendations/ratings.csv', dtype={\"user_id\": str, \"item_id\": str })\n",
    "\n",
    "df"
   ]
  },
  {
   "cell_type": "code",
   "execution_count": 10,
   "id": "adc64932-9b98-4e74-bc54-ecad0d81a93b",
   "metadata": {},
   "outputs": [
    {
     "name": "stdout",
     "output_type": "stream",
     "text": [
      "7535 unique users\n",
      "500 unique items\n"
     ]
    }
   ],
   "source": [
    "num_users = len(df.user_id.unique())\n",
    "num_items = len(df.item_id.unique())\n",
    "print(f\"{num_users} unique users\")\n",
    "print(f\"{num_items} unique items\")"
   ]
  }
 ],
 "metadata": {
  "kernelspec": {
   "display_name": "Python 3 (ipykernel)",
   "language": "python",
   "name": "python3"
  },
  "language_info": {
   "codemirror_mode": {
    "name": "ipython",
    "version": 3
   },
   "file_extension": ".py",
   "mimetype": "text/x-python",
   "name": "python",
   "nbconvert_exporter": "python",
   "pygments_lexer": "ipython3",
   "version": "3.8.10"
  }
 },
 "nbformat": 4,
 "nbformat_minor": 5
}
