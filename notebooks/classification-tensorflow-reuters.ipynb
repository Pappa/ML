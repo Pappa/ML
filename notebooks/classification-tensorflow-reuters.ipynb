{
 "cells": [
  {
   "cell_type": "markdown",
   "id": "827cc8be-7a2e-45df-a1f2-d167c93a6f72",
   "metadata": {},
   "source": [
    "# Multi-class classification\n",
    "Classify Reuters newswires into 1 of 46 topics"
   ]
  },
  {
   "cell_type": "code",
   "execution_count": 2,
   "id": "e4f9cc59-0aa3-40c0-b06f-ccb640d83c04",
   "metadata": {},
   "outputs": [
    {
     "name": "stdout",
     "output_type": "stream",
     "text": [
      "Downloading data from https://storage.googleapis.com/tensorflow/tf-keras-datasets/reuters.npz\n",
      "2110848/2110848 [==============================] - 0s 0us/step\n"
     ]
    }
   ],
   "source": [
    "from tensorflow.keras.datasets import reuters\n",
    "\n",
    "(train_data, train_labels), (test_data, test_labels) = reuters.load_data(num_words=10000)"
   ]
  },
  {
   "cell_type": "code",
   "execution_count": 3,
   "id": "d2c00a46-9ede-4b49-92cb-b9ada41f3128",
   "metadata": {},
   "outputs": [],
   "source": [
    "import numpy as np\n",
    "def vectorize_sequences(sequences, dimension=10000):\n",
    "    results = np.zeros((len(sequences), dimension))\n",
    "    for i, sequence in enumerate(sequences):\n",
    "        for j in sequence:\n",
    "            results[i, j] = 1.\n",
    "    return results\n",
    "x_train = vectorize_sequences(train_data)\n",
    "x_test = vectorize_sequences(test_data)"
   ]
  },
  {
   "cell_type": "code",
   "execution_count": 4,
   "id": "8f2f4ef1-2fd2-48be-a81d-13331d47ee3d",
   "metadata": {},
   "outputs": [],
   "source": [
    "from tensorflow.keras.utils import to_categorical\n",
    "\n",
    "one_hot_train_labels = to_categorical(train_labels)\n",
    "one_hot_test_labels = to_categorical(test_labels)"
   ]
  },
  {
   "cell_type": "code",
   "execution_count": 5,
   "id": "fbb0d1c7-e24d-49cb-b1fd-28e21db51410",
   "metadata": {},
   "outputs": [],
   "source": [
    "# vectorise train/test data\n",
    "y_train = np.asarray(train_labels).astype(\"float32\")\n",
    "y_test = np.asarray(test_labels).astype(\"float32\")"
   ]
  },
  {
   "cell_type": "code",
   "execution_count": 6,
   "id": "6c9d939a-baa1-4184-806b-2701c56e23e1",
   "metadata": {},
   "outputs": [],
   "source": [
    "# create the model\n",
    "from tensorflow.keras import layers\n",
    "from tensorflow.keras import models\n",
    "\n",
    "model = models.Sequential()\n",
    "model.add(layers.Dense(64, activation='relu', input_shape=(10000,)))\n",
    "model.add(layers.Dense(64, activation='relu'))\n",
    "model.add(layers.Dense(46, activation='softmax'))"
   ]
  },
  {
   "cell_type": "code",
   "execution_count": 7,
   "id": "f1beb850-34ed-49ca-b0dd-9bbb187ee3b2",
   "metadata": {},
   "outputs": [],
   "source": [
    "model.compile(optimizer='rmsprop',\n",
    "              loss='categorical_crossentropy',\n",
    "              metrics=['accuracy'])"
   ]
  },
  {
   "cell_type": "code",
   "execution_count": 8,
   "id": "c6b4acc1-5488-46bb-a1bd-e444e019f464",
   "metadata": {},
   "outputs": [],
   "source": [
    "x_val = x_train[:1000]\n",
    "partial_x_train = x_train[1000:]\n",
    "\n",
    "y_val = one_hot_train_labels[:1000]\n",
    "partial_y_train = one_hot_train_labels[1000:]"
   ]
  },
  {
   "cell_type": "code",
   "execution_count": 9,
   "id": "57399b55-c72c-4748-8788-acae5fee51f0",
   "metadata": {},
   "outputs": [
    {
     "name": "stdout",
     "output_type": "stream",
     "text": [
      "Epoch 1/20\n",
      "16/16 [==============================] - 1s 21ms/step - loss: 2.5353 - accuracy: 0.5322 - val_loss: 1.6546 - val_accuracy: 0.6490\n",
      "Epoch 2/20\n",
      "16/16 [==============================] - 0s 16ms/step - loss: 1.3649 - accuracy: 0.7097 - val_loss: 1.2638 - val_accuracy: 0.7160\n",
      "Epoch 3/20\n",
      "16/16 [==============================] - 0s 14ms/step - loss: 1.0286 - accuracy: 0.7770 - val_loss: 1.1107 - val_accuracy: 0.7650\n",
      "Epoch 4/20\n",
      "16/16 [==============================] - 0s 15ms/step - loss: 0.8151 - accuracy: 0.8269 - val_loss: 1.0519 - val_accuracy: 0.7660\n",
      "Epoch 5/20\n",
      "16/16 [==============================] - 0s 14ms/step - loss: 0.6581 - accuracy: 0.8594 - val_loss: 0.9511 - val_accuracy: 0.8010\n",
      "Epoch 6/20\n",
      "16/16 [==============================] - 0s 14ms/step - loss: 0.5261 - accuracy: 0.8901 - val_loss: 0.9168 - val_accuracy: 0.8160\n",
      "Epoch 7/20\n",
      "16/16 [==============================] - 0s 15ms/step - loss: 0.4229 - accuracy: 0.9104 - val_loss: 0.8813 - val_accuracy: 0.8190\n",
      "Epoch 8/20\n",
      "16/16 [==============================] - 0s 15ms/step - loss: 0.3426 - accuracy: 0.9278 - val_loss: 0.8781 - val_accuracy: 0.8200\n",
      "Epoch 9/20\n",
      "16/16 [==============================] - 0s 14ms/step - loss: 0.2871 - accuracy: 0.9375 - val_loss: 0.8720 - val_accuracy: 0.8170\n",
      "Epoch 10/20\n",
      "16/16 [==============================] - 0s 15ms/step - loss: 0.2395 - accuracy: 0.9451 - val_loss: 0.8662 - val_accuracy: 0.8170\n",
      "Epoch 11/20\n",
      "16/16 [==============================] - 0s 15ms/step - loss: 0.2107 - accuracy: 0.9479 - val_loss: 0.8945 - val_accuracy: 0.8210\n",
      "Epoch 12/20\n",
      "16/16 [==============================] - 0s 15ms/step - loss: 0.1842 - accuracy: 0.9513 - val_loss: 0.9143 - val_accuracy: 0.8220\n",
      "Epoch 13/20\n",
      "16/16 [==============================] - 0s 15ms/step - loss: 0.1650 - accuracy: 0.9544 - val_loss: 0.9237 - val_accuracy: 0.8150\n",
      "Epoch 14/20\n",
      "16/16 [==============================] - 0s 14ms/step - loss: 0.1493 - accuracy: 0.9550 - val_loss: 0.9843 - val_accuracy: 0.8130\n",
      "Epoch 15/20\n",
      "16/16 [==============================] - 0s 14ms/step - loss: 0.1400 - accuracy: 0.9555 - val_loss: 0.9738 - val_accuracy: 0.8100\n",
      "Epoch 16/20\n",
      "16/16 [==============================] - 0s 15ms/step - loss: 0.1306 - accuracy: 0.9558 - val_loss: 1.0040 - val_accuracy: 0.8090\n",
      "Epoch 17/20\n",
      "16/16 [==============================] - 0s 15ms/step - loss: 0.1259 - accuracy: 0.9551 - val_loss: 1.0215 - val_accuracy: 0.7990\n",
      "Epoch 18/20\n",
      "16/16 [==============================] - 0s 15ms/step - loss: 0.1216 - accuracy: 0.9548 - val_loss: 0.9829 - val_accuracy: 0.8160\n",
      "Epoch 19/20\n",
      "16/16 [==============================] - 0s 14ms/step - loss: 0.1143 - accuracy: 0.9594 - val_loss: 1.0656 - val_accuracy: 0.8080\n",
      "Epoch 20/20\n",
      "16/16 [==============================] - 0s 14ms/step - loss: 0.1101 - accuracy: 0.9583 - val_loss: 1.0362 - val_accuracy: 0.8110\n"
     ]
    }
   ],
   "source": [
    "history = model.fit(partial_x_train,\n",
    "                    partial_y_train,\n",
    "                    epochs=20,\n",
    "                    batch_size=512,\n",
    "                    validation_data=(x_val, y_val))"
   ]
  },
  {
   "cell_type": "code",
   "execution_count": 10,
   "id": "0177d28b-2fa0-4122-b792-8b3f7359040d",
   "metadata": {},
   "outputs": [
    {
     "data": {
      "text/plain": [
       "dict_keys(['loss', 'accuracy', 'val_loss', 'val_accuracy'])"
      ]
     },
     "execution_count": 10,
     "metadata": {},
     "output_type": "execute_result"
    }
   ],
   "source": [
    "history_dict = history.history\n",
    "history_dict.keys()"
   ]
  },
  {
   "cell_type": "code",
   "execution_count": 11,
   "id": "02a4d0bd-0172-4c47-b8cf-6e538def7bc0",
   "metadata": {},
   "outputs": [
    {
     "data": {
      "image/png": "[encoded data removed]",
      "text/plain": [
       "<Figure size 640x480 with 1 Axes>"
      ]
     },
     "metadata": {},
     "output_type": "display_data"
    }
   ],
   "source": [
    "import matplotlib.pyplot as plt\n",
    "history_dict = history.history\n",
    "loss_values = history_dict[\"loss\"]\n",
    "val_loss_values = history_dict[\"val_loss\"]\n",
    "epochs = range(1, len(loss_values) + 1)\n",
    "plt.plot(epochs, loss_values, \"bo\", label=\"Training loss\")\n",
    "plt.plot(epochs, val_loss_values, \"b\", label=\"Validation loss\")\n",
    "plt.title(\"Training and validation loss\")\n",
    "plt.xlabel(\"Epochs\")\n",
    "plt.ylabel(\"Loss\")\n",
    "plt.legend()\n",
    "plt.show()"
   ]
  },
  {
   "cell_type": "code",
   "execution_count": 12,
   "id": "9e18330a-1db5-4f3f-8f86-2297f65870e1",
   "metadata": {},
   "outputs": [
    {
     "data": {
      "image/png": "[encoded data removed]",
      "text/plain": [
       "<Figure size 640x480 with 1 Axes>"
      ]
     },
     "metadata": {},
     "output_type": "display_data"
    }
   ],
   "source": [
    "plt.clf()\n",
    "acc = history_dict[\"accuracy\"]\n",
    "val_acc = history_dict[\"val_accuracy\"]\n",
    "plt.plot(epochs, acc, \"bo\", label=\"Training acc\")\n",
    "plt.plot(epochs, val_acc, \"b\", label=\"Validation acc\")\n",
    "plt.title(\"Training and validation accuracy\")\n",
    "plt.xlabel(\"Epochs\")\n",
    "plt.ylabel(\"Accuracy\")\n",
    "plt.legend()\n",
    "plt.show()"
   ]
  },
  {
   "cell_type": "code",
   "execution_count": 13,
   "id": "b30ac6ca-cdc3-4964-a8b4-7e88295bc4c7",
   "metadata": {},
   "outputs": [
    {
     "name": "stdout",
     "output_type": "stream",
     "text": [
      "Epoch 1/8\n",
      "16/16 [==============================] - 0s 18ms/step - loss: 2.5216 - acc: 0.5309 - val_loss: 1.6573 - val_acc: 0.6380\n",
      "Epoch 2/8\n",
      "16/16 [==============================] - 0s 15ms/step - loss: 1.3672 - acc: 0.7082 - val_loss: 1.2711 - val_acc: 0.7090\n",
      "Epoch 3/8\n",
      "16/16 [==============================] - 0s 14ms/step - loss: 1.0150 - acc: 0.7791 - val_loss: 1.1200 - val_acc: 0.7520\n",
      "Epoch 4/8\n",
      "16/16 [==============================] - 0s 14ms/step - loss: 0.7963 - acc: 0.8312 - val_loss: 1.0056 - val_acc: 0.7900\n",
      "Epoch 5/8\n",
      "16/16 [==============================] - 0s 14ms/step - loss: 0.6321 - acc: 0.8667 - val_loss: 0.9547 - val_acc: 0.7990\n",
      "Epoch 6/8\n",
      "16/16 [==============================] - 0s 15ms/step - loss: 0.5050 - acc: 0.8944 - val_loss: 0.8973 - val_acc: 0.8080\n",
      "Epoch 7/8\n",
      "16/16 [==============================] - 0s 14ms/step - loss: 0.4044 - acc: 0.9144 - val_loss: 0.9019 - val_acc: 0.8040\n",
      "Epoch 8/8\n",
      "16/16 [==============================] - 0s 15ms/step - loss: 0.3308 - acc: 0.9305 - val_loss: 0.8886 - val_acc: 0.8160\n",
      "71/71 [==============================] - 0s 1ms/step - loss: 0.9857 - acc: 0.7845\n"
     ]
    }
   ],
   "source": [
    "# recreate and retrain the model with fewer epochs to prevent overfitting\n",
    "model = models.Sequential()\n",
    "model.add(layers.Dense(64, activation='relu', input_shape=(10000,)))\n",
    "model.add(layers.Dense(64, activation='relu'))\n",
    "model.add(layers.Dense(46, activation='softmax'))\n",
    "\n",
    "model.compile(optimizer='rmsprop',\n",
    "              loss='categorical_crossentropy',\n",
    "              metrics=['acc'])\n",
    "model.fit(partial_x_train,\n",
    "          partial_y_train,\n",
    "          epochs=8,\n",
    "          batch_size=512,\n",
    "          validation_data=(x_val, y_val))\n",
    "results = model.evaluate(x_test, one_hot_test_labels)"
   ]
  },
  {
   "cell_type": "code",
   "execution_count": 14,
   "id": "e34b2a57-c9dd-419a-89fe-94fd6d69323e",
   "metadata": {},
   "outputs": [
    {
     "data": {
      "text/plain": [
       "[0.9857008457183838, 0.7845057845115662]"
      ]
     },
     "execution_count": 14,
     "metadata": {},
     "output_type": "execute_result"
    }
   ],
   "source": [
    "results"
   ]
  },
  {
   "cell_type": "code",
   "execution_count": 15,
   "id": "849d6310-a14e-4159-b884-e257a999bdd6",
   "metadata": {},
   "outputs": [
    {
     "name": "stdout",
     "output_type": "stream",
     "text": [
      "71/71 [==============================] - 0s 1ms/step\n"
     ]
    },
    {
     "data": {
      "text/plain": [
       "array([[4.16716764e-04, 1.28581584e-03, 7.26438826e-04, ...,\n",
       "        3.43581429e-04, 7.50929348e-06, 1.39214055e-04],\n",
       "       [7.01327110e-03, 2.32050866e-01, 4.75872483e-04, ...,\n",
       "        4.13807487e-04, 1.58515795e-05, 1.37120805e-05],\n",
       "       [1.81050319e-03, 8.76369715e-01, 1.27055531e-03, ...,\n",
       "        3.30313516e-04, 4.21691919e-03, 4.35825750e-05],\n",
       "       ...,\n",
       "       [1.79795563e-04, 5.61541878e-04, 8.04175623e-04, ...,\n",
       "        3.60463564e-05, 1.85070403e-05, 1.62642100e-04],\n",
       "       [4.20850283e-03, 1.04719251e-01, 4.36484860e-03, ...,\n",
       "        3.02572805e-03, 5.27504424e-04, 8.20471090e-04],\n",
       "       [6.41936611e-04, 8.60109925e-01, 6.41395943e-03, ...,\n",
       "        4.92499734e-04, 5.00335183e-04, 4.72720130e-05]], dtype=float32)"
      ]
     },
     "execution_count": 15,
     "metadata": {},
     "output_type": "execute_result"
    }
   ],
   "source": [
    "model.predict(x_test)"
   ]
  },
  {
   "cell_type": "code",
   "execution_count": null,
   "id": "6ba77cc0-26f2-472b-b3b3-108295609f7d",
   "metadata": {},
   "outputs": [],
   "source": []
  }
 ],
 "metadata": {
  "kernelspec": {
   "display_name": "Python 3 (ipykernel)",
   "language": "python",
   "name": "python3"
  },
  "language_info": {
   "codemirror_mode": {
    "name": "ipython",
    "version": 3
   },
   "file_extension": ".py",
   "mimetype": "text/x-python",
   "name": "python",
   "nbconvert_exporter": "python",
   "pygments_lexer": "ipython3",
   "version": "3.8.10"
  }
 },
 "nbformat": 4,
 "nbformat_minor": 5
}
