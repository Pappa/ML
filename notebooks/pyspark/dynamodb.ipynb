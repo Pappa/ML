{
 "cells": [
  {
   "cell_type": "code",
   "execution_count": 22,
   "id": "63ccdc0c-7d7b-4d8b-b73b-8c5a357c5ca8",
   "metadata": {},
   "outputs": [],
   "source": [
    "from pyspark.sql import SparkSession\n",
    "from pyspark.sql import functions as F, types as T"
   ]
  },
  {
   "cell_type": "code",
   "execution_count": 23,
   "id": "5cfc022c-c407-4a00-88d3-5a813ac42526",
   "metadata": {},
   "outputs": [],
   "source": [
    "spark = SparkSession.builder \\\n",
    "      .appName(\"denorm\") \\\n",
    "      .getOrCreate()"
   ]
  },
  {
   "cell_type": "code",
   "execution_count": 24,
   "id": "8f2140e4-0a9f-4ee5-bb57-a8bc7f8083a6",
   "metadata": {},
   "outputs": [
    {
     "name": "stdout",
     "output_type": "stream",
     "text": [
      "root\n",
      " |-- segments: array (nullable = true)\n",
      " |    |-- element: struct (containsNull = true)\n",
      " |    |    |-- S: string (nullable = true)\n",
      "\n",
      "+--------------------+\n",
      "|            segments|\n",
      "+--------------------+\n",
      "|[{13}, {12}, {12}...|\n",
      "|[{13}, {12}, {12}...|\n",
      "|[{13}, {12}, {12}...|\n",
      "|[{13}, {12}, {12}...|\n",
      "|[{13}, {12}, {12}...|\n",
      "|[{13}, {12}, {12}...|\n",
      "+--------------------+\n",
      "\n"
     ]
    }
   ],
   "source": [
    "filename = './test_data/dynamodb.jsonl'\n",
    "\n",
    "df = spark.read.option(\"mergeSchema\", \"true\").json(filename)\n",
    "df.printSchema()\n",
    "df.show()"
   ]
  },
  {
   "cell_type": "code",
   "execution_count": 25,
   "id": "04e264ee-b350-4782-9901-50d59843fc8e",
   "metadata": {},
   "outputs": [
    {
     "data": {
      "text/plain": [
       "ArrayType(StructType([StructField('S', StringType(), True)]), True)"
      ]
     },
     "execution_count": 25,
     "metadata": {},
     "output_type": "execute_result"
    }
   ],
   "source": [
    "df.schema[\"segments\"].dataType"
   ]
  },
  {
   "cell_type": "code",
   "execution_count": 26,
   "id": "89fdc409-d665-46b5-be20-a2b0c2c15da8",
   "metadata": {},
   "outputs": [
    {
     "name": "stdout",
     "output_type": "stream",
     "text": [
      "root\n",
      " |-- segments: array (nullable = true)\n",
      " |    |-- element: string (containsNull = true)\n",
      "\n",
      "+---------------+\n",
      "|       segments|\n",
      "+---------------+\n",
      "|[13, 12, 12, 4]|\n",
      "|[13, 12, 12, 4]|\n",
      "|[13, 12, 12, 4]|\n",
      "|[13, 12, 12, 4]|\n",
      "|[13, 12, 12, 4]|\n",
      "|[13, 12, 12, 4]|\n",
      "+---------------+\n",
      "\n"
     ]
    }
   ],
   "source": [
    "mapped_df = df.withColumn(\"segments\", F.col(\"segments\")[\"S\"])\n",
    "\n",
    "mapped_df.printSchema()\n",
    "mapped_df.show()"
   ]
  },
  {
   "cell_type": "code",
   "execution_count": 27,
   "id": "56a27348-6378-47b3-90f5-ffef950e00bf",
   "metadata": {},
   "outputs": [
    {
     "data": {
      "text/plain": [
       "ArrayType(StringType(), True)"
      ]
     },
     "execution_count": 27,
     "metadata": {},
     "output_type": "execute_result"
    }
   ],
   "source": [
    "mapped_df.schema[\"segments\"].dataType"
   ]
  }
 ],
 "metadata": {
  "kernelspec": {
   "display_name": "Python 3 (ipykernel)",
   "language": "python",
   "name": "python3"
  },
  "language_info": {
   "codemirror_mode": {
    "name": "ipython",
    "version": 3
   },
   "file_extension": ".py",
   "mimetype": "text/x-python",
   "name": "python",
   "nbconvert_exporter": "python",
   "pygments_lexer": "ipython3",
   "version": "3.8.10"
  }
 },
 "nbformat": 4,
 "nbformat_minor": 5
}
