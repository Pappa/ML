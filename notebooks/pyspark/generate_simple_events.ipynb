{
 "cells": [
  {
   "cell_type": "code",
   "execution_count": 56,
   "id": "0f7b050f-96cf-496a-919a-64f7fb68f612",
   "metadata": {},
   "outputs": [],
   "source": [
    "from uuid import uuid4\n",
    "import random\n",
    "import json\n",
    "import os\n",
    "from datetime import datetime, timedelta\n",
    "import itertools\n",
    "from pyspark.sql import SparkSession\n",
    "from pyspark.sql import functions as F\n",
    "from pyspark.sql.types import (\n",
    "    StructField,\n",
    "    StructType,\n",
    "    MapType,\n",
    "    ArrayType,\n",
    "    BooleanType,\n",
    "    StringType,\n",
    "    IntegerType,\n",
    "    TimestampType,\n",
    ")"
   ]
  },
  {
   "cell_type": "code",
   "execution_count": 57,
   "id": "e6f22c0a-7670-4099-a513-7d810640a637",
   "metadata": {},
   "outputs": [
    {
     "name": "stdout",
     "output_type": "stream",
     "text": [
      "Done: ./test_data/simple_events.json\n"
     ]
    }
   ],
   "source": [
    "NUM_TRANSACTIONS = 10\n",
    "NUM_EVENTS = 3\n",
    "START = datetime.fromtimestamp(1678772000.0000000000) + timedelta(hours=-10)\n",
    "LIMIT = 70\n",
    "simple_events = \"./test_data/simple_events.json\"\n",
    "simple_events_grouped = \"./test_data/simple_events_grouped.json\"\n",
    "simple_events_grouped_final = \"./test_data/simple_events_grouped_final.json\"\n",
    "\n",
    "events = []\n",
    "\n",
    "counter = itertools.count()\n",
    "\n",
    "def write_file(path):\n",
    "    os.makedirs(os.path.dirname(path), exist_ok=True)\n",
    "    with open(path, \"w\") as f:\n",
    "        f.write(json.dumps(events, indent=4))\n",
    "        print(f\"Done: {path}\")\n",
    "\n",
    "def generate_event(id):\n",
    "    n = next(counter)\n",
    "    t = START + timedelta(minutes=n)\n",
    "    return {\n",
    "        \"transaction_id\": id,\n",
    "        \"timestamp\": t.timestamp(),\n",
    "        \"id\": str(uuid4())[0:6]\n",
    "    }\n",
    "\n",
    "\n",
    "for n in range(NUM_TRANSACTIONS):\n",
    "    transaction_id = str(uuid4())[0:6]\n",
    "\n",
    "    for i in range(NUM_EVENTS):\n",
    "        event = generate_event(transaction_id)\n",
    "        events.append(event)\n",
    "        \n",
    "        \n",
    "write_file(simple_events)"
   ]
  },
  {
   "cell_type": "code",
   "execution_count": 58,
   "id": "cfd6755b",
   "metadata": {},
   "outputs": [
    {
     "name": "stdout",
     "output_type": "stream",
     "text": [
      "30\n",
      "+------+------------+--------------+\n",
      "|    id|   timestamp|transaction_id|\n",
      "+------+------------+--------------+\n",
      "|0a13b9|  1.678736E9|        f4ff85|\n",
      "|58ca97|1.67873606E9|        f4ff85|\n",
      "|77c899|1.67873612E9|        f4ff85|\n",
      "|d668f0|1.67873618E9|        45efca|\n",
      "|7e8be0|1.67873624E9|        45efca|\n",
      "+------+------------+--------------+\n",
      "only showing top 5 rows\n",
      "\n"
     ]
    }
   ],
   "source": [
    "spark = SparkSession.builder.getOrCreate()\n",
    "events_df = spark.read.option(\"multiline\", True).json(simple_events)\n",
    "print(events_df.count())\n",
    "events_df.show(5)"
   ]
  },
  {
   "cell_type": "code",
   "execution_count": 59,
   "id": "90de6291",
   "metadata": {},
   "outputs": [
    {
     "name": "stdout",
     "output_type": "stream",
     "text": [
      "10\n",
      "+--------------+-----------------+---------------+-----+--------------------+\n",
      "|transaction_id|transaction_start|transaction_end|limit|              events|\n",
      "+--------------+-----------------+---------------+-----+--------------------+\n",
      "|        e9d0bc|     1.67873744E9|   1.67873756E9|   70|[{1.67873744E9, 2...|\n",
      "|        740d82|     1.67873762E9|   1.67873774E9|   70|[{1.67873762E9, 2...|\n",
      "|        80bb8a|     1.67873726E9|   1.67873738E9|   70|[{1.67873726E9, 1...|\n",
      "|        45efca|     1.67873618E9|    1.6787363E9|   70|[{1.67873618E9, d...|\n",
      "|        272929|      1.6787369E9|   1.67873702E9|   70|[{1.6787369E9, d8...|\n",
      "+--------------+-----------------+---------------+-----+--------------------+\n",
      "only showing top 5 rows\n",
      "\n"
     ]
    }
   ],
   "source": [
    "transactions_df = (\n",
    "    events_df.groupBy(\"transaction_id\").agg(\n",
    "        F.min(\"timestamp\").alias(\"transaction_start\"),\n",
    "        F.max(\"timestamp\").alias(\"transaction_end\"),\n",
    "        F.lit(LIMIT).alias(\"limit\"),\n",
    "        F.collect_list(\n",
    "            F.struct(\n",
    "                F.col(\"timestamp\"),\n",
    "                F.col(\"id\"),\n",
    "            )\n",
    "        ).alias(\"events\"),\n",
    "    )\n",
    ")\n",
    "\n",
    "print(transactions_df.count())\n",
    "transactions_df.show(5)"
   ]
  },
  {
   "cell_type": "code",
   "execution_count": 60,
   "id": "f0ef31d5",
   "metadata": {},
   "outputs": [],
   "source": [
    "transactions_df.toPandas().to_json(simple_events_grouped, orient='records', force_ascii=False, indent=4)"
   ]
  },
  {
   "cell_type": "code",
   "execution_count": 61,
   "id": "68b8157e",
   "metadata": {},
   "outputs": [
    {
     "name": "stdout",
     "output_type": "stream",
     "text": [
      "+--------------+-----------------+---------------+-----+---------------------------+\n",
      "|transaction_id|transaction_start|transaction_end|limit|reports_viewed_within_limit|\n",
      "+--------------+-----------------+---------------+-----+---------------------------+\n",
      "|e9d0bc        |1.67873744E9     |1.67873756E9   |70   |[21513b, 0bfb96]           |\n",
      "|740d82        |1.67873762E9     |1.67873774E9   |70   |[2d695e, 92099a]           |\n",
      "|80bb8a        |1.67873726E9     |1.67873738E9   |70   |[111b3a, 799a5d]           |\n",
      "|45efca        |1.67873618E9     |1.6787363E9    |70   |[d668f0, 7e8be0]           |\n",
      "+--------------+-----------------+---------------+-----+---------------------------+\n",
      "only showing top 4 rows\n",
      "\n"
     ]
    }
   ],
   "source": [
    "@F.udf(returnType=ArrayType(StringType()))\n",
    "def reports_viewed_within_limit(events, start, limit):\n",
    "    max_time = datetime.fromtimestamp(start) + timedelta(seconds=limit)\n",
    "    filtered = list(filter(lambda event: datetime.fromtimestamp(event[\"timestamp\"]) <= max_time, events))\n",
    "    ids = list(map(lambda event: event[\"id\"], filtered))\n",
    "    return ids\n",
    "\n",
    "transactions_df = transactions_df.withColumn(\"reports_viewed_within_limit\", reports_viewed_within_limit(\"events\", \"transaction_start\", \"limit\")).drop(\"events\")\n",
    "transactions_df.show(n=4, truncate=False)"
   ]
  },
  {
   "cell_type": "code",
   "execution_count": 62,
   "id": "abbb566a",
   "metadata": {},
   "outputs": [
    {
     "name": "stdout",
     "output_type": "stream",
     "text": [
      "+--------------+-----------------+---------------+-----+---------------------------+\n",
      "|transaction_id|transaction_start|transaction_end|limit|reports_viewed_within_limit|\n",
      "+--------------+-----------------+---------------+-----+---------------------------+\n",
      "|e9d0bc        |1.67873744E9     |1.67873756E9   |70   |[21513b, 0bfb96]           |\n",
      "|740d82        |1.67873762E9     |1.67873774E9   |70   |[2d695e, 92099a]           |\n",
      "|80bb8a        |1.67873726E9     |1.67873738E9   |70   |[111b3a, 799a5d]           |\n",
      "|45efca        |1.67873618E9     |1.6787363E9    |70   |[d668f0, 7e8be0]           |\n",
      "+--------------+-----------------+---------------+-----+---------------------------+\n",
      "only showing top 4 rows\n",
      "\n"
     ]
    }
   ],
   "source": [
    "transactions_df.toPandas().to_json(simple_events_grouped_final, orient='records', force_ascii=False, indent=4)\n",
    "transactions_df.show(n=4, truncate=False)"
   ]
  }
 ],
 "metadata": {
  "kernelspec": {
   "display_name": "Python 3",
   "language": "python",
   "name": "python3"
  },
  "language_info": {
   "codemirror_mode": {
    "name": "ipython",
    "version": 3
   },
   "file_extension": ".py",
   "mimetype": "text/x-python",
   "name": "python",
   "nbconvert_exporter": "python",
   "pygments_lexer": "ipython3",
   "version": "3.10.9"
  }
 },
 "nbformat": 4,
 "nbformat_minor": 5
}
