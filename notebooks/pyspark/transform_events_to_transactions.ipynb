{
 "cells": [
  {
   "cell_type": "code",
   "execution_count": 2,
   "metadata": {},
   "outputs": [
    {
     "name": "stdout",
     "output_type": "stream",
     "text": [
      "\u001b[33mDEPRECATION: Configuring installation scheme with distutils config files is deprecated and will no longer work in the near future. If you are using a Homebrew or Linuxbrew Python, please see discussion at https://github.com/Homebrew/homebrew-core/issues/76621\u001b[0m\n",
      "Collecting pyspark\n",
      "  Using cached pyspark-3.3.2.tar.gz (281.4 MB)\n",
      "  Preparing metadata (setup.py) ... \u001b[?25ldone\n",
      "\u001b[?25hCollecting py4j==0.10.9.5\n",
      "  Using cached py4j-0.10.9.5-py2.py3-none-any.whl (199 kB)\n",
      "Building wheels for collected packages: pyspark\n",
      "  Building wheel for pyspark (setup.py) ... \u001b[?25ldone\n",
      "\u001b[?25h  Created wheel for pyspark: filename=pyspark-3.3.2-py2.py3-none-any.whl size=281824024 sha256=db9777c1add3899edf075ebee9d18015cbb6d8950b5f1b757165008ad29fcd41\n",
      "  Stored in directory: /Users/robhill/Library/Caches/pip/wheels/6c/e3/9b/0525ce8a69478916513509d43693511463c6468db0de237c86\n",
      "Successfully built pyspark\n",
      "Installing collected packages: py4j, pyspark\n",
      "\u001b[33m  DEPRECATION: Configuring installation scheme with distutils config files is deprecated and will no longer work in the near future. If you are using a Homebrew or Linuxbrew Python, please see discussion at https://github.com/Homebrew/homebrew-core/issues/76621\u001b[0m\n",
      "\u001b[33m  DEPRECATION: Configuring installation scheme with distutils config files is deprecated and will no longer work in the near future. If you are using a Homebrew or Linuxbrew Python, please see discussion at https://github.com/Homebrew/homebrew-core/issues/76621\u001b[0m\n",
      "\u001b[33mDEPRECATION: Configuring installation scheme with distutils config files is deprecated and will no longer work in the near future. If you are using a Homebrew or Linuxbrew Python, please see discussion at https://github.com/Homebrew/homebrew-core/issues/76621\u001b[0m\n",
      "Successfully installed py4j-0.10.9.5 pyspark-3.3.2\n",
      "\u001b[33mWARNING: You are using pip version 21.3.1; however, version 23.0.1 is available.\n",
      "You should consider upgrading via the '/usr/local/opt/python@3.9/bin/python3.9 -m pip install --upgrade pip' command.\u001b[0m\n",
      "Note: you may need to restart the kernel to use updated packages.\n"
     ]
    }
   ],
   "source": [
    "%pip install pyspark"
   ]
  },
  {
   "cell_type": "code",
   "execution_count": 3,
   "metadata": {},
   "outputs": [],
   "source": [
    "from pyspark.sql import SparkSession\n",
    "from pyspark.sql import functions as F"
   ]
  },
  {
   "cell_type": "code",
   "execution_count": 4,
   "metadata": {},
   "outputs": [
    {
     "name": "stderr",
     "output_type": "stream",
     "text": [
      "Setting default log level to \"WARN\".\n",
      "To adjust logging level use sc.setLogLevel(newLevel). For SparkR, use setLogLevel(newLevel).\n"
     ]
    },
    {
     "name": "stdout",
     "output_type": "stream",
     "text": [
      "23/03/13 20:06:06 WARN NativeCodeLoader: Unable to load native-hadoop library for your platform... using builtin-java classes where applicable\n"
     ]
    }
   ],
   "source": [
    "spark = SparkSession.builder \\\n",
    "      .appName(\"denorm\") \\\n",
    "      .getOrCreate()"
   ]
  },
  {
   "cell_type": "code",
   "execution_count": 5,
   "metadata": {},
   "outputs": [
    {
     "name": "stderr",
     "output_type": "stream",
     "text": [
      "                                                                                \r"
     ]
    },
    {
     "name": "stdout",
     "output_type": "stream",
     "text": [
      "root\n",
      " |-- id: string (nullable = true)\n",
      " |-- limit: long (nullable = true)\n",
      " |-- timestamp: double (nullable = true)\n",
      " |-- transaction_id: string (nullable = true)\n",
      "\n",
      "+------+-----+------------------+--------------+\n",
      "|    id|limit|         timestamp|transaction_id|\n",
      "+------+-----+------------------+--------------+\n",
      "|641598|  300|1.67870161866021E9|        0f1cd2|\n",
      "|179cbe|  300|1.67870167866021E9|        0f1cd2|\n",
      "|db2607|  300|1.67870173866021E9|        0f1cd2|\n",
      "|0aa6d1|  300|1.67870179866021E9|        0e4024|\n",
      "|c376ed|  300|1.67870185866021E9|        0e4024|\n",
      "|9cbf42|  300|1.67870191866021E9|        0e4024|\n",
      "|f67e80|  300|1.67870197866021E9|        4f1eb4|\n",
      "|564c12|  300|1.67870203866021E9|        4f1eb4|\n",
      "|9d451f|  300|1.67870209866021E9|        4f1eb4|\n",
      "|7286fa|  300|1.67870215866021E9|        f300bf|\n",
      "|5b75c9|  300|1.67870221866021E9|        f300bf|\n",
      "|0a97ba|  300|1.67870227866021E9|        f300bf|\n",
      "|5198e8|  300|1.67870233866021E9|        8f29d2|\n",
      "|c93b5b|  300|1.67870239866021E9|        8f29d2|\n",
      "|4bc36b|  300|1.67870245866021E9|        8f29d2|\n",
      "|112277|  300|1.67870251866021E9|        a467f1|\n",
      "|383674|  300|1.67870257866021E9|        a467f1|\n",
      "|d78838|  300|1.67870263866021E9|        a467f1|\n",
      "|5c55dd|  300|1.67870269866021E9|        142b64|\n",
      "|677781|  300|1.67870275866021E9|        142b64|\n",
      "+------+-----+------------------+--------------+\n",
      "only showing top 20 rows\n",
      "\n"
     ]
    }
   ],
   "source": [
    "filename = './test_data/simple_events.json'\n",
    "\n",
    "df = spark.read.option(\"multiline\",\"true\").json(filename)\n",
    "df.printSchema()\n",
    "df.show()"
   ]
  }
 ],
 "metadata": {
  "kernelspec": {
   "display_name": "Python 3",
   "language": "python",
   "name": "python3"
  },
  "language_info": {
   "codemirror_mode": {
    "name": "ipython",
    "version": 3
   },
   "file_extension": ".py",
   "mimetype": "text/x-python",
   "name": "python",
   "nbconvert_exporter": "python",
   "pygments_lexer": "ipython3",
   "version": "3.9.10"
  },
  "orig_nbformat": 4
 },
 "nbformat": 4,
 "nbformat_minor": 2
}
