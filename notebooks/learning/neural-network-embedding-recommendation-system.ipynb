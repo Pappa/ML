{
 "cells": [
  {
   "cell_type": "markdown",
   "metadata": {
    "_uuid": "73d28c37785b0c1aab93d90a62543ef3e1932ef2"
   },
   "source": [
    "# Introduction: Book Recommendation System\n",
    "\n",
    "Copied from Kaggle tutorial [Neural Network Embedding Recommendation System](https://www.kaggle.com/code/willkoehrsen/neural-network-embedding-recommendation-system) by [Will Koehrsen](https://www.kaggle.com/willkoehrsen)\n",
    "\n",
    "In this notebook, we will build a book recommendation system based on a simple principle: books with Wikipedia pages that link to similar Wikipedia pages are similar to each other. In order to create this representation of similar books, we'll use the concept of neural network entity embeddings, mapping each book and each Wikipedia link (Wikilink) to a 50-number vector. \n",
    "\n",
    "The idea of entity embeddings is to map high-dimensional categorical variables to a low-dimensional _learned_ representation that _places similar entities closer together in the embedding space_. If we were to one-hot-encode the books (another representation of categorical data) we would have a 37,000 dimension vector for each book, with a single 1 indicating the book. In a one-hot encoding, similar books would not be \"closer\" to one another. By  training a neural network to learn entity embeddings, we not only get a reduced dimension representation of the books, we also get a representation that _keeps similar books closer to each other_. Therefore, the basic approach for a recommendation system is to create entity embeddings of all the books, and then for any book, find the closest other books in the embedding space. [Fortunately, thanks to a previous notebook](https://github.com/WillKoehrsen/wikipedia-data-science/blob/master/Downloading%20and%20Parsing%20Wikipedia%20Articles.ipynb), we have access to every single book article on Wikipedia, which will let us create an effective recommendation system.\n",
    "\n",
    "## Approach\n",
    "\n",
    "To create entity embeddings, we need to build an embedding neural network and train it on a supervised machine learning task that will result in similar books (and similar links) having closer representations in embedding space. The parameters of the neural network - the weights - are the embeddings, and so during training, these numbers are adjusted to minimize the loss on the prediction problem. In other words, the network tries to accurately complete the task by changing the representations of the books and the links. \n",
    "\n",
    "Once we have the embeddings for the books and the links, we can find the most similar book to a given book by computing the distance between the embedded vector for that book and all the other book embeddings. We'll use the cosine distance which measures the angle between two vectors as a measure of similarity (another valid option is the Euclidean distance). We can also do the same with the links, finding the most similar page to a given page. (I use links and wikilinks interchangeably in this notebook). The steps we will follow are:\n",
    "\n",
    "1. Load in data and clean\n",
    "2. Prepare data for supervised machine learning task\n",
    "3. Build the entity embedding neural network\n",
    "4. Train the neural network on prediction task\n",
    "5. Extract embeddings and find most similar books and wikilinks\n",
    "6. Visualize the embeddings using dimension reduction techniques \n",
    "\n",
    "### Supervised Machine Learning Task: Map Books to Links\n",
    "\n",
    "For our machine learning task, we'll set up the problem as identifying whether or not a particular link was present in a book article. The training examples will consist of (book, link) pairs, with some pairs true examples - actually  in the data - and others negative examples - do not occur in the data. It will be the network's job to adjust the entity embeddings of the books and the links in order to accurately make this classification. Although we are training for a supervised machine learning task, our end objective is not to make accurate predictions on new data, but learn the best entitiy embeddings, so we do not use a validation or testing set. We use the prediction problem as a means to an end rather than the final outcome. \n",
    "\n",
    "## Neural Network Embeddings\n",
    "\n",
    "Neural Network embeddings have proven to be very powerful concepts both for modeling language and for representing categorical variables. For example, the [Word2Vec word embeddings](https://www.tensorflow.org/tutorials/representation/word2vec) map a word to a vector based on training a neural network on millions of words. These embeddings can be used in any supervised model because they are just numerical representations of categorical variables. Much as we one-hot-encode categorical variables to use them in a random forest for a supervised task, we can also use entity embeddings to include categorical variables in a model. The embeddings are also useful because we can find entities that are close to one another in embedding space which might - as in a book recommendation system - allow us to find the most similar categories among tens of thousands of choices. \n",
    "\n",
    "We can also use the Entity Embeddings to visualize words or categorical variables, such as creating a map of all books on Wikipedia. The entity embeddings typically are still high-dimensional - we'll use 50 numbers for each entity - so we need to use a dimension reduction technique such as TSNE or UMAP to visualize the embeddings in lower dimensions. (These are both manifold embedding methods so in effect we will embed the embeddings for visualization!) We'll take a look at doing this at the end of the notebook and later will upload the embeddings into a application custom-built for this purpose ([projector.tensorflow.org](https://projector.tensorflow.org)). Entity embeddings are becoming more widespread thanks to the ease of development of neural networks in Keras and are a useful approach when we want to represent categorical variables with vectors that place similar categories close to one another. Other approaches for encoding categorical variables do not represent similar entities as being closer to one another, and entity embedding is a _learning-based method_ for this important task.\n",
    "\n",
    "Overall, this project is a great look at the potential for neural networks to create meaningful embeddings of high dimensional data and a practical application of deep learning. The code itself is relatively simple, and the Keras library makes developing deep learning models enjoyable!\n",
    "\n",
    "The code here is adapted from the excellent [Deep Learning Cookbook](http://shop.oreilly.com/product/0636920097471.do), the [notebooks for which can be found on GitHub](https://github.com/DOsinga/deep_learning_cookbook). Check out this book for practical applications of deep learning and great projects! \n",
    "\n",
    "__Note to Kaggle users__: Make sure GPU is enabled and Internet is connected on the Settings pane."
   ]
  },
  {
   "cell_type": "markdown",
   "metadata": {
    "_uuid": "93cce3b8e313efcbdba0a42810013414289a77a6"
   },
   "source": [
    "## Read in Data\n",
    "\n",
    "The data is stored as json with line for every book. This data contains every single book article on Wikipedia which was parsed in the [Downloading and Parsing Wikipedia Data Notebook](https://github.com/WillKoehrsen/wikipedia-data-science/blob/master/Downloading%20and%20Parsing%20Wikipedia%20Articles.ipynb)."
   ]
  },
  {
   "cell_type": "code",
   "execution_count": 1,
   "metadata": {
    "_uuid": "78572cfaad5f9c96aa4e55416b3a5906de0c951e"
   },
   "outputs": [],
   "source": [
    "from IPython.core.interactiveshell import InteractiveShell\n",
    "\n",
    "# Set shell to show all lines of output\n",
    "InteractiveShell.ast_node_interactivity = 'all'"
   ]
  },
  {
   "cell_type": "code",
   "execution_count": 2,
   "metadata": {
    "_uuid": "cb43833559ff4a2cc77795ed9306f039eedc0018"
   },
   "outputs": [
    {
     "name": "stderr",
     "output_type": "stream",
     "text": [
      "2024-04-18 16:48:27.741386: I tensorflow/core/platform/cpu_feature_guard.cc:193] This TensorFlow binary is optimized with oneAPI Deep Neural Network Library (oneDNN) to use the following CPU instructions in performance-critical operations:  AVX2 AVX512F AVX512_VNNI FMA\n",
      "To enable them in other operations, rebuild TensorFlow with the appropriate compiler flags.\n",
      "2024-04-18 16:48:27.834733: I tensorflow/core/util/util.cc:169] oneDNN custom operations are on. You may see slightly different numerical results due to floating-point round-off errors from different computation orders. To turn them off, set the environment variable `TF_ENABLE_ONEDNN_OPTS=0`.\n",
      "2024-04-18 16:48:27.838232: W tensorflow/stream_executor/platform/default/dso_loader.cc:64] Could not load dynamic library 'libcudart.so.11.0'; dlerror: libcudart.so.11.0: cannot open shared object file: No such file or directory\n",
      "2024-04-18 16:48:27.838242: I tensorflow/stream_executor/cuda/cudart_stub.cc:29] Ignore above cudart dlerror if you do not have a GPU set up on your machine.\n",
      "2024-04-18 16:48:27.867806: E tensorflow/stream_executor/cuda/cuda_blas.cc:2981] Unable to register cuBLAS factory: Attempting to register factory for plugin cuBLAS when one has already been registered\n",
      "2024-04-18 16:48:28.284222: W tensorflow/stream_executor/platform/default/dso_loader.cc:64] Could not load dynamic library 'libnvinfer.so.7'; dlerror: libnvinfer.so.7: cannot open shared object file: No such file or directory\n",
      "2024-04-18 16:48:28.284273: W tensorflow/stream_executor/platform/default/dso_loader.cc:64] Could not load dynamic library 'libnvinfer_plugin.so.7'; dlerror: libnvinfer_plugin.so.7: cannot open shared object file: No such file or directory\n",
      "2024-04-18 16:48:28.284277: W tensorflow/compiler/tf2tensorrt/utils/py_utils.cc:38] TF-TRT Warning: Cannot dlopen some TensorRT libraries. If you would like to use Nvidia GPU with TensorRT, please make sure the missing libraries mentioned above are installed properly.\n"
     ]
    },
    {
     "name": "stdout",
     "output_type": "stream",
     "text": [
      "Downloading data from https://raw.githubusercontent.com/WillKoehrsen/wikipedia-data-science/master/data/found_books_filtered.ndjson\n",
      "58925764/58925764 [==============================] - 1s 0us/step\n",
      "Found 37020 books.\n"
     ]
    }
   ],
   "source": [
    "from keras.utils import get_file\n",
    "\n",
    "x = get_file('found_books_filtered.ndjson', 'https://raw.githubusercontent.com/WillKoehrsen/wikipedia-data-science/master/data/found_books_filtered.ndjson')\n",
    "\n",
    "import json\n",
    "\n",
    "books = []\n",
    "\n",
    "with open(x, 'r') as fin:\n",
    "    # Append each line to the books\n",
    "    books = [json.loads(l) for l in fin]\n",
    "\n",
    "# Remove non-book articles\n",
    "books_with_wikipedia = [book for book in books if 'Wikipedia:' in book[0]]\n",
    "books = [book for book in books if 'Wikipedia:' not in book[0]]\n",
    "print(f'Found {len(books)} books.')"
   ]
  },
  {
   "cell_type": "markdown",
   "metadata": {
    "_uuid": "955851c086217e4fea5308435b737691dffdd8e6"
   },
   "source": [
    "## Data Cleaning\n",
    "\n",
    "There are a few articles that were caught which are clearly not books (feel free to check out these articles yourself)."
   ]
  },
  {
   "cell_type": "code",
   "execution_count": 3,
   "metadata": {
    "_uuid": "cea7f5c3cfd879435ce43295f4c6ebac0e306d45"
   },
   "outputs": [
    {
     "data": {
      "text/plain": [
       "['Wikipedia:Wikipedia Signpost/2014-06-25/Recent research',\n",
       " 'Wikipedia:New pages patrol/Unpatrolled articles/December 2010',\n",
       " 'Wikipedia:Templates for discussion/Log/2012 September 23',\n",
       " 'Wikipedia:Articles for creation/Redirects/2012-10',\n",
       " 'Wikipedia:Templates for discussion/Log/2012 October 4']"
      ]
     },
     "execution_count": 3,
     "metadata": {},
     "output_type": "execute_result"
    }
   ],
   "source": [
    "[book[0] for book in books_with_wikipedia][:5]"
   ]
  },
  {
   "cell_type": "markdown",
   "metadata": {
    "_uuid": "2130f3994a027a3c30b1e1415d147098594d407f"
   },
   "source": [
    "Each legitimate book contains the __title, the information from the `Infobox book` template, the internal wikipedia links, the external links, the date of last edit, and the number of characters in the article__ (a rough estimate of the length of the article)."
   ]
  },
  {
   "cell_type": "code",
   "execution_count": 4,
   "metadata": {
    "_uuid": "a508cf9f25a188b96254d14f811f0ed47360221e"
   },
   "outputs": [
    {
     "data": {
      "text/plain": [
       "('Limonov (novel)',\n",
       " {'name': 'Limonov',\n",
       "  'author': 'Emmanuel Carrère',\n",
       "  'translator': 'John Lambert',\n",
       "  'country': 'France',\n",
       "  'language': 'French',\n",
       "  'publisher': 'P.O.L.',\n",
       "  'pub_date': '2011',\n",
       "  'english_pub_date': '2014',\n",
       "  'pages': '488',\n",
       "  'isbn': '978-2-8180-1405-9'},\n",
       " ['Emmanuel Carrère',\n",
       "  'biographical novel',\n",
       "  'Emmanuel Carrère',\n",
       "  'Eduard Limonov',\n",
       "  'Prix de la langue française'],\n",
       " ['http://www.lefigaro.fr/flash-actu/2011/10/05/97001-20111005FILWWW00615-le-prix-de-la-langue-francaise-a-e-carrere.php',\n",
       "  'http://www.lexpress.fr/culture/livre/emmanuel-carrere-prix-renaudot-2011_1046819.html',\n",
       "  'http://limonow.de/carrere/index.html',\n",
       "  'http://www.tout-sur-limonov.fr/222318809'],\n",
       " ['http://www.lefigaro.fr/flash-actu/2011/10/05/97001-20111005FILWWW00615-le-prix-de-la-langue-francaise-a-e-carrere.php',\n",
       "  'http://www.lexpress.fr/culture/livre/emmanuel-carrere-prix-renaudot-2011_1046819.html',\n",
       "  'http://limonow.de/carrere/index.html',\n",
       "  'http://www.tout-sur-limonov.fr/222318809'],\n",
       " '2018-08-18T02:03:21Z',\n",
       " 1437)"
      ]
     },
     "execution_count": 4,
     "metadata": {},
     "output_type": "execute_result"
    }
   ],
   "source": [
    "n = 21\n",
    "books[n][0], books[n][1], books[n][2][:5], books[n][3][:5], books[n][3][:5], books[n][4], books[n][5]"
   ]
  },
  {
   "cell_type": "markdown",
   "metadata": {
    "_uuid": "c2a4c2e80cb48b1524129d46a9109d6058a05d8c"
   },
   "source": [
    "We will only use the wikilinks, which are saved as the third element (index 2) for each book."
   ]
  },
  {
   "cell_type": "markdown",
   "metadata": {
    "_uuid": "0a1222bdb60409938d2fb7de01f691edc4ec58db"
   },
   "source": [
    "## Map Books to Integers\n",
    "\n",
    "First we want to create a mapping of book titles to integers. When we feed books into the embedding neural network, we will have to represent them as numbers, and this mapping will let us keep track of the books. We'll also create the reverse mapping, from integers back to the title."
   ]
  },
  {
   "cell_type": "code",
   "execution_count": 5,
   "metadata": {
    "_uuid": "bb6d85f58f57e5403468e826a764bfaef20a78a1"
   },
   "outputs": [
    {
     "data": {
      "text/plain": [
       "22494"
      ]
     },
     "execution_count": 5,
     "metadata": {},
     "output_type": "execute_result"
    },
    {
     "data": {
      "text/plain": [
       "'Anna Karenina'"
      ]
     },
     "execution_count": 5,
     "metadata": {},
     "output_type": "execute_result"
    }
   ],
   "source": [
    "book_index = {book[0]: idx for idx, book in enumerate(books)}\n",
    "index_book = {idx: book for book, idx in book_index.items()}\n",
    "\n",
    "book_index['Anna Karenina']\n",
    "index_book[22494]"
   ]
  },
  {
   "cell_type": "markdown",
   "metadata": {
    "_uuid": "856072431f62f74a35f59a85749f405f99b37245"
   },
   "source": [
    "### Exploring Wikilinks\n",
    "\n",
    "Although it's not our main focus, we can do a little exploration. Let's find the number of unique Wikilinks  and the most common ones. To create a single list from a list of lists, we can use the `itertools` chain method."
   ]
  },
  {
   "cell_type": "code",
   "execution_count": 6,
   "metadata": {
    "_uuid": "19411f3b2dc23b4b4f750bf8e1a53b4372d7bed7"
   },
   "outputs": [
    {
     "name": "stdout",
     "output_type": "stream",
     "text": [
      "There are 311276 unique wikilinks.\n"
     ]
    }
   ],
   "source": [
    "from itertools import chain\n",
    "\n",
    "wikilinks = list(chain(*[book[2] for book in books]))\n",
    "print(f\"There are {len(set(wikilinks))} unique wikilinks.\")"
   ]
  },
  {
   "cell_type": "markdown",
   "metadata": {
    "_uuid": "ae91bdee0c7ebdef195822c7badaec4853193553"
   },
   "source": [
    "How many of these are links to other books? "
   ]
  },
  {
   "cell_type": "code",
   "execution_count": 7,
   "metadata": {
    "_uuid": "b74f11f24df6ffeea3b6949b06872c249a85c390"
   },
   "outputs": [
    {
     "name": "stdout",
     "output_type": "stream",
     "text": [
      "There are 17032 unique wikilinks to other books.\n"
     ]
    }
   ],
   "source": [
    "wikilinks_other_books = [link for link in wikilinks if link in book_index.keys()]\n",
    "print(f\"There are {len(set(wikilinks_other_books))} unique wikilinks to other books.\")"
   ]
  },
  {
   "cell_type": "markdown",
   "metadata": {
    "_uuid": "eda3e581a613cf094bc415e219d697e9f1cadeb3"
   },
   "source": [
    "### Most Linked-to Articles\n",
    "\n",
    "Let's take a look at which pages are most linked to by books on Wikipedia. \n",
    "\n",
    "We'll make a utility function that takes in a list and returns a sorted ordered dictionary of the counts of the items in the list. The `collections` module has a number of useful functions for dealing with groups of objects."
   ]
  },
  {
   "cell_type": "code",
   "execution_count": 8,
   "metadata": {
    "_uuid": "44b0a6e3313ff37d39629bde897c4c422c23ebd4"
   },
   "outputs": [],
   "source": [
    "from collections import Counter, OrderedDict\n",
    "\n",
    "def count_items(l):\n",
    "    \"\"\"Return ordered dictionary of counts of objects in `l`\"\"\"\n",
    "    \n",
    "    # Create a counter object\n",
    "    counts = Counter(l)\n",
    "    \n",
    "    # Sort by highest count first and place in ordered dictionary\n",
    "    counts = sorted(counts.items(), key = lambda x: x[1], reverse = True)\n",
    "    counts = OrderedDict(counts)\n",
    "    \n",
    "    return counts"
   ]
  },
  {
   "cell_type": "markdown",
   "metadata": {
    "_uuid": "9a9b08ce86d0b45297256e128017576825bd4078"
   },
   "source": [
    "We only want to count wikilinks from each book once, so we first find the set of links for each book, then we flatten the list of lists to a single list, and finally pass it to the `count_items` function."
   ]
  },
  {
   "cell_type": "code",
   "execution_count": 9,
   "metadata": {
    "_uuid": "326e515d0eb9d2b2c78798faa3225dd2fb1cc55d"
   },
   "outputs": [
    {
     "data": {
      "text/plain": [
       "[('Hardcover', 7489),\n",
       " ('Paperback', 7311),\n",
       " ('Wikipedia:WikiProject Books', 6043),\n",
       " ('Wikipedia:WikiProject Novels', 6015),\n",
       " ('English language', 4185),\n",
       " ('United States', 3060),\n",
       " ('Science fiction', 3030),\n",
       " ('The New York Times', 2727),\n",
       " ('science fiction', 2502),\n",
       " ('novel', 1979)]"
      ]
     },
     "execution_count": 9,
     "metadata": {},
     "output_type": "execute_result"
    }
   ],
   "source": [
    "# Find set of wikilinks for each book and convert to a flattened list\n",
    "unique_wikilinks = list(chain(*[list(set(book[2])) for book in books]))\n",
    "\n",
    "wikilink_counts = count_items(unique_wikilinks)\n",
    "list(wikilink_counts.items())[:10]"
   ]
  },
  {
   "cell_type": "markdown",
   "metadata": {
    "_uuid": "3ccfc5d64b0f2941ef5a6d5bea459e991efed71d"
   },
   "source": [
    "The most linked to pages are in fact not that surprising! One thing we should notice is that there are discrepancies in capitalization. We want to normalize across capitalization, so we'll lowercase all of the links and redo the counts."
   ]
  },
  {
   "cell_type": "code",
   "execution_count": 10,
   "metadata": {
    "_uuid": "40a1e6b9e7a77e17721b5ff092d7f6fbb6219692"
   },
   "outputs": [
    {
     "name": "stdout",
     "output_type": "stream",
     "text": [
      "There are 297624 unique wikilinks.\n"
     ]
    },
    {
     "data": {
      "text/plain": [
       "[('paperback', 8740),\n",
       " ('hardcover', 8648),\n",
       " ('wikipedia:wikiproject books', 6043),\n",
       " ('wikipedia:wikiproject novels', 6016),\n",
       " ('science fiction', 5665),\n",
       " ('english language', 4248),\n",
       " ('united states', 3063),\n",
       " ('novel', 2983),\n",
       " ('the new york times', 2742),\n",
       " ('fantasy', 2003)]"
      ]
     },
     "execution_count": 10,
     "metadata": {},
     "output_type": "execute_result"
    }
   ],
   "source": [
    "wikilinks = [link.lower() for link in unique_wikilinks]\n",
    "print(f\"There are {len(set(wikilinks))} unique wikilinks.\")\n",
    "\n",
    "wikilink_counts = count_items(wikilinks)\n",
    "list(wikilink_counts.items())[:10]"
   ]
  },
  {
   "cell_type": "markdown",
   "metadata": {
    "_uuid": "28d62ed125faf076c6ee7d6b6bd053c27c5af2ef"
   },
   "source": [
    "That actually changes the rankings! This illustrates an important point: __make sure to take a look at your data before modeling!__ \n",
    "\n",
    "#### Remove Most Popular Wikilinks\n",
    "\n",
    "I'm going to remove the __most popular__ wikilinks because these are not very informative. Knowing whether a book is hardcover or paperback is not that important to the content. We also don't need the two `Wikipedia:` links since these do not distinguish the books based on content. __I'd recommend playing around with the wikilinks that are removed because it might have a large effect on the recommendations.__\n",
    "\n",
    "(This step is similar to the idea of [TF-IDF (Term Frequency Inverse Document Frequency](http://www.tfidf.com/). When dealing with words in documents, the words that appear most often across documents are usually not that helpful because they don't distinguish documents. TF-IDF is a way to weight a word higher for appearing more often within an article but decrease the weighting for a word appearing more often between articles.)"
   ]
  },
  {
   "cell_type": "code",
   "execution_count": 11,
   "metadata": {
    "_uuid": "fb5e29b27f08db36885b5540ba7d4bdb470f0e7a"
   },
   "outputs": [],
   "source": [
    "to_remove = ['hardcover', 'paperback', 'hardback', 'e-book', 'wikipedia:wikiproject books', 'wikipedia:wikiproject novels']\n",
    "for t in to_remove:\n",
    "    wikilinks.remove(t)\n",
    "    _ = wikilink_counts.pop(t)"
   ]
  },
  {
   "cell_type": "markdown",
   "metadata": {
    "_uuid": "d2defc712c15eb81008b9a5491b7b7720651b18a"
   },
   "source": [
    "Since there are so many unique wikilinks, I'm going to limit the list to wikilinks mentioned 4 or more times. Hopefully this reduces the noise that might come from wikilinks that only appear a few times. Keeping every single link will increas the training time significantly, but experiment with this parameter if you are interested."
   ]
  },
  {
   "cell_type": "code",
   "execution_count": 12,
   "metadata": {
    "_uuid": "9e9082e9f2a3846488739aee5d74f5cf5cabf936"
   },
   "outputs": [
    {
     "name": "stdout",
     "output_type": "stream",
     "text": [
      "41758\n"
     ]
    }
   ],
   "source": [
    "# Limit to greater than 3 links\n",
    "links = [t[0] for t in wikilink_counts.items() if t[1] >= 4]\n",
    "print(len(links))"
   ]
  },
  {
   "cell_type": "markdown",
   "metadata": {
    "_uuid": "b13381b92b1f838c7857194035105fd8472b1b7f"
   },
   "source": [
    "#### Most Linked-to Books\n",
    "\n",
    "As a final bit of exploration, let's look at the books that are mentioned the most by other books on Wikipedia. We'll take the set of links for each book so that we don't have multiple counts for books that are linked to by another book more than once. "
   ]
  },
  {
   "cell_type": "code",
   "execution_count": 13,
   "metadata": {
    "_uuid": "23d89202d24dac576fdfa3aef252b9b7a6b604c3"
   },
   "outputs": [
    {
     "data": {
      "text/plain": [
       "[('The Encyclopedia of Science Fiction', 127),\n",
       " ('The Discontinuity Guide', 104),\n",
       " ('The Encyclopedia of Fantasy', 63),\n",
       " ('Dracula', 55),\n",
       " ('Encyclopædia Britannica', 51),\n",
       " ('Nineteen Eighty-Four', 51),\n",
       " ('Don Quixote', 49),\n",
       " ('The Wonderful Wizard of Oz', 49),\n",
       " (\"Alice's Adventures in Wonderland\", 47),\n",
       " ('Jane Eyre', 39)]"
      ]
     },
     "execution_count": 13,
     "metadata": {},
     "output_type": "execute_result"
    }
   ],
   "source": [
    "# Find set of book wikilinks for each book\n",
    "unique_wikilinks_books = list(chain(*[list(set(link for link in book[2] if link in book_index.keys())) for book in books]))\n",
    "\n",
    "# Count the number of books linked to by other books\n",
    "wikilink_book_counts = count_items(unique_wikilinks_books)\n",
    "list(wikilink_book_counts.items())[:10]"
   ]
  },
  {
   "cell_type": "markdown",
   "metadata": {
    "_uuid": "2fa640479eb7d3e2d8dc2a7865f8681102e4a53f"
   },
   "source": [
    "It's not surprising that several of these are references. We also see that a few classics make it into the list! \n",
    "\n",
    "### Potential Additional Cleaning Step\n",
    "\n",
    "If you want to try more data cleaning, one option would be to clean the link entities. For example, both `the new york times` and `new york times` are in the links. These could clearly be combined into a single entry because they link to the same exact page. This might require manual inspection of the links, and I decided not to do this because of the time involved! The final embeddings turned out well even without this step, but it might make sense to do in the future. \n",
    "\n",
    "I'm not sure why the same link is represented as two different names (I extracted the title of the link to try and alleviate this issue), but it occurs many times, even for the same book! "
   ]
  },
  {
   "cell_type": "code",
   "execution_count": 14,
   "metadata": {
    "_uuid": "7b2b0ea7b1f9c90c93e21c354edcbfea4c4bc866"
   },
   "outputs": [
    {
     "name": "stdout",
     "output_type": "stream",
     "text": [
      "The Big Picture: Who Killed Hollywood? and Other Essays ['Wikipedia:WikiProject Novels', 'Wikipedia:WikiProject Books', 'William Goldman', 'United States', 'English language', 'William Goldman', 'Michael Sragow', 'Good Will Hunting', 'Robin Williams', 'Matt Damon', 'The New York Times', 'The New York Times Company', 'New York Times', 'Category:Cinema of the United States', 'Category:Film production', 'Category:2000 books', 'Category:Books about films', 'Category:Books by William Goldman', 'Category:Show business memoirs']\n"
     ]
    }
   ],
   "source": [
    "for book in books:\n",
    "    if 'The New York Times' in book[2] and 'New York Times' in book[2]:\n",
    "        print(book[0], book[2])\n",
    "        break"
   ]
  },
  {
   "cell_type": "code",
   "execution_count": 15,
   "metadata": {
    "_uuid": "b2d3e0b0fe304530b61bcd128e3c0c5e88c1c235"
   },
   "outputs": [
    {
     "data": {
      "text/plain": [
       "2742"
      ]
     },
     "execution_count": 15,
     "metadata": {},
     "output_type": "execute_result"
    },
    {
     "data": {
      "text/plain": [
       "996"
      ]
     },
     "execution_count": 15,
     "metadata": {},
     "output_type": "execute_result"
    }
   ],
   "source": [
    "wikilink_counts.get('the new york times')\n",
    "wikilink_counts.get('new york times')"
   ]
  },
  {
   "cell_type": "markdown",
   "metadata": {
    "_uuid": "6a9afb8bece32a86e5ca683cbe79653dd89208a5"
   },
   "source": [
    "## Wikilinks to Index\n",
    "\n",
    "As with the books, we need to map the Wikilinks to integers. We'll also create the reverse mapping."
   ]
  },
  {
   "cell_type": "code",
   "execution_count": 16,
   "metadata": {
    "_uuid": "acc684534675c53a250f420482fbdc9aa80a5170"
   },
   "outputs": [
    {
     "data": {
      "text/plain": [
       "300"
      ]
     },
     "execution_count": 16,
     "metadata": {},
     "output_type": "execute_result"
    },
    {
     "data": {
      "text/plain": [
       "'the economist'"
      ]
     },
     "execution_count": 16,
     "metadata": {},
     "output_type": "execute_result"
    },
    {
     "name": "stdout",
     "output_type": "stream",
     "text": [
      "There are 41758 wikilinks that will be used.\n"
     ]
    }
   ],
   "source": [
    "link_index = {link: idx for idx, link in enumerate(links)}\n",
    "index_link = {idx: link for link, idx in link_index.items()}\n",
    "\n",
    "link_index['the economist']\n",
    "index_link[300]\n",
    "print(f'There are {len(link_index)} wikilinks that will be used.')"
   ]
  },
  {
   "cell_type": "markdown",
   "metadata": {
    "_uuid": "fc13ac8e153646a662713ca6719c5ff71dc0b3f3"
   },
   "source": [
    "# Supervised Machine Learning Task\n",
    "\n",
    "Now that we have clean data, we'll move on to the second step: developing a supervised machine learning task to train an embedding neural network. As a reminder, we'll state the problem as: given a book title and a link, identify if the link is in the book's article.\n",
    "\n",
    "## Build a Training Set\n",
    "\n",
    "In order for any machine learning model to learn, it needs a training set. We are going to treat this as a supervised learning problem: given a pair (book, link), we want the neural network to learn to predict whether this is a legitimate pair - present in the data - or not.\n",
    "\n",
    "To create a training set, for each book, we'll iterate through the wikilinks on the book page and record the book title and each link as a tuple. The final `pairs` list will consist of tuples of every (book, link) pairing on all of Wikipedia."
   ]
  },
  {
   "cell_type": "code",
   "execution_count": 17,
   "metadata": {
    "_uuid": "ff88918004784cd4255a5d94cb34de4e61096b12"
   },
   "outputs": [
    {
     "data": {
      "text/plain": [
       "(772798, 41758, 37020)"
      ]
     },
     "execution_count": 17,
     "metadata": {},
     "output_type": "execute_result"
    },
    {
     "data": {
      "text/plain": [
       "(321, 232)"
      ]
     },
     "execution_count": 17,
     "metadata": {},
     "output_type": "execute_result"
    }
   ],
   "source": [
    "pairs = []\n",
    "\n",
    "# Iterate through each book\n",
    "for book in books:\n",
    "    # Iterate through the links in the book\n",
    "    pairs.extend((book_index[book[0]], link_index[link.lower()]) for link in book[2] if link.lower() in links)\n",
    "    \n",
    "len(pairs), len(links), len(books)\n",
    "pairs[5000]"
   ]
  },
  {
   "cell_type": "markdown",
   "metadata": {
    "_uuid": "b9e639d682bb78a3e6a67887b613d88f6548ff1c"
   },
   "source": [
    "We now have over 770,000 positive examples on which to train! Each pair represents one Wikilink for one book. Let's look at a few examples."
   ]
  },
  {
   "cell_type": "code",
   "execution_count": 18,
   "metadata": {
    "_uuid": "8e9e7d06c1345baed0ea6951fc76a1be904a724f"
   },
   "outputs": [
    {
     "data": {
      "text/plain": [
       "('Slaves in the Family', 'category:american biographies')"
      ]
     },
     "execution_count": 18,
     "metadata": {},
     "output_type": "execute_result"
    }
   ],
   "source": [
    "index_book[pairs[5000][0]], index_link[pairs[5000][1]]"
   ]
  },
  {
   "cell_type": "code",
   "execution_count": 19,
   "metadata": {
    "_uuid": "ea09f6b98c2312bbb545c518b02f3ebcee06181f"
   },
   "outputs": [
    {
     "data": {
      "text/plain": [
       "('The Man Who Watched the Trains Go By (novel)',\n",
       " 'category:belgian novels adapted into films')"
      ]
     },
     "execution_count": 19,
     "metadata": {},
     "output_type": "execute_result"
    }
   ],
   "source": [
    "index_book[pairs[900][0]], index_link[pairs[900][1]]"
   ]
  },
  {
   "cell_type": "markdown",
   "metadata": {
    "_uuid": "70a90168199d4830170cb5ddba4965a315831cac"
   },
   "source": [
    "Later on we'll create the negative examples by randomly sampling from the links and the books and making sure the resulting pair is not in `pairs`. "
   ]
  },
  {
   "cell_type": "code",
   "execution_count": 20,
   "metadata": {
    "_uuid": "d063b874147568c513877dc1ba849bc5a42ce5fb"
   },
   "outputs": [],
   "source": [
    "pairs_set = set(pairs)"
   ]
  },
  {
   "cell_type": "markdown",
   "metadata": {
    "_uuid": "74dc31daa561f283f903ecd2dd2626cae0c2ad6c"
   },
   "source": [
    "Just for fun, let's look at the (book, link) pairs that are represented most often in the data. "
   ]
  },
  {
   "cell_type": "code",
   "execution_count": 21,
   "metadata": {
    "_uuid": "4f15718295aeca7d4e6bd3bed6f1ec5656f0bff7"
   },
   "outputs": [
    {
     "data": {
      "text/plain": [
       "[((13337, 31111), 85),\n",
       " ((31899, 65), 77),\n",
       " ((25899, 8851), 61),\n",
       " ((1851, 2629), 57),\n",
       " ((25899, 30465), 53)]"
      ]
     },
     "execution_count": 21,
     "metadata": {},
     "output_type": "execute_result"
    }
   ],
   "source": [
    "x = Counter(pairs)\n",
    "sorted(x.items(), key = lambda x: x[1], reverse = True)[:5]"
   ]
  },
  {
   "cell_type": "code",
   "execution_count": 22,
   "metadata": {
    "_uuid": "a72b3aed402a9e23acd18288dbb0d40a3f69a436"
   },
   "outputs": [
    {
     "data": {
      "text/plain": [
       "(\"France's Songs of the Bards of the Tyne - 1850\", 'joseph philip robson')"
      ]
     },
     "execution_count": 22,
     "metadata": {},
     "output_type": "execute_result"
    },
    {
     "data": {
      "text/plain": [
       "('The Early Stories: 1953–1975', 'the new yorker')"
      ]
     },
     "execution_count": 22,
     "metadata": {},
     "output_type": "execute_result"
    },
    {
     "data": {
      "text/plain": [
       "('Marthandavarma (novel)', 'kerala sahitya akademi')"
      ]
     },
     "execution_count": 22,
     "metadata": {},
     "output_type": "execute_result"
    }
   ],
   "source": [
    "index_book[13337], index_link[31111]\n",
    "index_book[31899], index_link[65]\n",
    "index_book[25899], index_link[30465]"
   ]
  },
  {
   "cell_type": "markdown",
   "metadata": {
    "_uuid": "9d4afe9984d30503390013257f6ce166fd86847f"
   },
   "source": [
    "There's nothing wrong with books that link to the same page many times. They are just more likely to be trained on since there are more of them."
   ]
  },
  {
   "cell_type": "markdown",
   "metadata": {
    "_uuid": "db51a53cf15a0702e5d66190750e2cd781f28ff6"
   },
   "source": [
    "## Note about Training / Testing Set\n",
    "\n",
    "To compute the embeddings, we are not going to create a separate validation or testing set. While this is a __must__ for a normal supervised machine learning task, in this case, our primary objective is not to make the most accurate model, but to generate the best embeddings. The prediction task is just the method through which we train our network to make the embeddings. At the end of training, we are not going to be testing our model on new data, so we don't need to evaluate the performance. Instead of testing on new data, we'll look at the embeddings themselves to see if books that we think are similar have embeddings that are close to each other. \n",
    "\n",
    "If we kept a separate validation / testing set, then we would be limiting the amount of data that our network can use to train. This would result in less accurate embeddings. Normally with any supervised model, we need to be concerned about overfitting, but again, because we do not need our model to generalize to new data and our goal is the embeddings, we will make our model as effective as possible by using all the data for training. In general, always have a separate validation and testing set (or use cross validation) and make sure to regularize your model to prevent overfitting. "
   ]
  },
  {
   "cell_type": "markdown",
   "metadata": {
    "_uuid": "85e34746d4a4f0802b411d6222146259c406dd7c"
   },
   "source": [
    "## Generator For Training Samples\n",
    "\n",
    "We need to generate positive samples and negative samples to train the neural network. The positive samples are simple: pick a pair from `pairs` and assign it a 1. The negative samples are also fairly easy: pick one random link and one random book, make sure they are not in `pairs`, and assign them a -1 or a 0. (We'll use either a -1 or 0 for the negative labels depending on whether we want to make this a regression or a classification problem. Either approach is valid, and we'll try out both methods.)\n",
    "\n",
    "The code below creates a generator that yields batches of samples each time it is called. Neural networks are trained incrementally - a batch at a time - which means that a generator is a useful function for returning examples on which to train. Using a generator alleviates the need to store all of the training data in memory which might be an issue if we were working with a larger dataset such as images. "
   ]
  },
  {
   "cell_type": "code",
   "execution_count": 23,
   "metadata": {
    "_uuid": "a0756ca011c3a5a51168973cd9cbf2e8c0922a92"
   },
   "outputs": [],
   "source": [
    "import numpy as np\n",
    "import random\n",
    "random.seed(100)\n",
    "\n",
    "def generate_batch(pairs, n_positive = 50, negative_ratio = 1.0, classification = False):\n",
    "    \"\"\"Generate batches of samples for training\"\"\"\n",
    "    batch_size = n_positive * (1 + negative_ratio)\n",
    "    batch = np.zeros((batch_size, 3))\n",
    "    \n",
    "    # Adjust label based on task\n",
    "    if classification:\n",
    "        neg_label = 0\n",
    "    else:\n",
    "        neg_label = -1\n",
    "    \n",
    "    # This creates a generator\n",
    "    while True:\n",
    "        # randomly choose positive examples\n",
    "        for idx, (book_id, link_id) in enumerate(random.sample(pairs, n_positive)):\n",
    "            batch[idx, :] = (book_id, link_id, 1)\n",
    "\n",
    "        # Increment idx by 1\n",
    "        idx += 1\n",
    "        \n",
    "        # Add negative examples until reach batch size\n",
    "        while idx < batch_size:\n",
    "            \n",
    "            # random selection\n",
    "            random_book = random.randrange(len(books))\n",
    "            random_link = random.randrange(len(links))\n",
    "            \n",
    "            # Check to make sure this is not a positive example\n",
    "            if (random_book, random_link) not in pairs_set:\n",
    "                \n",
    "                # Add to batch and increment index\n",
    "                batch[idx, :] = (random_book, random_link, neg_label)\n",
    "                idx += 1\n",
    "                \n",
    "        # Make sure to shuffle order\n",
    "        np.random.shuffle(batch)\n",
    "        yield {'book': batch[:, 0], 'link': batch[:, 1]}, batch[:, 2]"
   ]
  },
  {
   "cell_type": "markdown",
   "metadata": {
    "_uuid": "a678f3b226840eb4562548cbcd1da1414052e80e"
   },
   "source": [
    "To get a new batch, call `next` on the generator. "
   ]
  },
  {
   "cell_type": "code",
   "execution_count": 24,
   "metadata": {
    "_uuid": "7677060e428889d9d9f2a38b10b428add0aaacc1"
   },
   "outputs": [
    {
     "data": {
      "text/plain": [
       "({'book': array([ 7206., 25757.,  6895., 22162., 28410., 29814.]),\n",
       "  'link': array([34924., 22920.,   260.,  5588., 33217., 11452.])},\n",
       " array([-1., -1.,  1.,  1., -1., -1.]))"
      ]
     },
     "execution_count": 24,
     "metadata": {},
     "output_type": "execute_result"
    }
   ],
   "source": [
    "next(generate_batch(pairs, n_positive = 2, negative_ratio = 2))"
   ]
  },
  {
   "cell_type": "code",
   "execution_count": 25,
   "metadata": {
    "_uuid": "1e98c3e8a7588d2cbdb220bdfe4caf41fd0db4ac"
   },
   "outputs": [
    {
     "name": "stdout",
     "output_type": "stream",
     "text": [
      "Book: Bag of Bones                   Link: category:novels by stephen king          Label: 1.0\n",
      "Book: Des Imagistes                  Link: august strindberg                        Label: -1.0\n",
      "Book: Soul Music (novel)             Link: peter crowther                           Label: -1.0\n",
      "Book: The Soul of the Robot          Link: category:house of night series           Label: -1.0\n",
      "Book: Deep Six (novel)               Link: president of the united states           Label: 1.0\n",
      "Book: The Counterfeit Man            Link: gerald gardner (wiccan)                  Label: -1.0\n"
     ]
    }
   ],
   "source": [
    "x, y = next(generate_batch(pairs, n_positive = 2, negative_ratio = 2))\n",
    "\n",
    "# Show a few example training pairs\n",
    "for label, b_idx, l_idx in zip(y, x['book'], x['link']):\n",
    "    print(f'Book: {index_book[b_idx]:30} Link: {index_link[l_idx]:40} Label: {label}') "
   ]
  },
  {
   "cell_type": "markdown",
   "metadata": {
    "_uuid": "785228a8ae9749e0fd2a63de04fb0bc59a46e276"
   },
   "source": [
    "The neural network will take in the book index and the link index and try to embed them in such a way that it can predict the label from the embeddings."
   ]
  },
  {
   "cell_type": "markdown",
   "metadata": {
    "_uuid": "ff18e37ffb05777b6266d9dcded1ef0a5b7546d3"
   },
   "source": [
    "# Neural Network Embedding Model\n",
    "\n",
    "With our dataset and a supervised machine learning task, we're almost there. The next step is the most technically complicated but thankfully fairly simple with Keras. We are going to construct the neural network that learns the entity embeddings. The input to this network is the (book, link) (either positive or negative) as integers, and the output will be a prediction of whether or not the link was present in the book article. However, we're not actually interested in the prediction except as the device used to train the network by comparison to the label. What we are after is at the heart of the network: the embedding layers, one for the book and one for the link each of which maps the input entity to a 50 dimensional vector. The layers of our network are as follows:\n",
    "\n",
    "1. Input: parallel inputs for the book and link\n",
    "2. Embedding: parallel embeddings for the book and link\n",
    "3. Dot: computes the dot product between the embeddings to merge them together\n",
    "4. Reshape: utility layer needed to correct the shape of the dot product\n",
    "5. [Optional] Dense: fully connected layer with sigmoid activation to generate output for classification\n",
    "\n",
    "After converting the inputs to an embedding, we need a way to combine the embeddings into a single number. For this we can use the dot product which does element-wise multiplication of numbers in the vectors and then sums the result to a single number. This raw number (after reshaping) is then the ouput of the model for the case of regression. In regression, our labels are either -1 or 1, and so the model loss function will be mean squared error in order to minimize the distance between the prediction and the output. Using the dot product with normalization means that the `Dot` layer is finding the cosine similarity between the embedding for the book and the link. Using this method for combining the embeddings means we are trying to make the network learn similar embeddings for books that link to similar pages. \n",
    "\n",
    "### Classification vs Regression\n",
    "\n",
    "For classification, we add an extra fully connected `Dense` layer with a `sigmoid` activation to squash the outputs between 0 and 1 because the labels are either 0 or 1. The loss function for classification is `binary_crossentropy` which measures the [error of the neural network predictions in a binary classification problem](https://ml-cheatsheet.readthedocs.io/en/latest/loss_functions.html), and is a measure of the similarity between two distributions. We can train with either classification or regression, and in practice, I found that both approaches produced similar embeddings. I'm not sure about the technical merits of these methods, and I'd be interested to hear if one is better than the other. \n",
    "\n",
    "The optimizer - the algorithm used to update the parameters (also called weights) of the neural network after calculating the gradients through backpropagation - is Adam in both cases ([Adam is a modification to Stochastic Gradient Descent](https://machinelearningmastery.com/adam-optimization-algorithm-for-deep-learning/)). We use the default parameters for this optimizer. The nice thing about modern neural network frameworks is we don't have to worry about backpropagation or updating the model parameters because that is done for us. It's nice to have an idea of what is occuring behind the scenes, but it's not entirely necessary to use a neural network effectively. "
   ]
  },
  {
   "cell_type": "code",
   "execution_count": 26,
   "metadata": {
    "_uuid": "ac6437fc250ffa369e700983034dd10ecb1cd0ad"
   },
   "outputs": [],
   "source": [
    "from keras.layers import Input, Embedding, Dot, Reshape, Dense\n",
    "from keras.models import Model"
   ]
  },
  {
   "cell_type": "code",
   "execution_count": 27,
   "metadata": {
    "_uuid": "03f618c3d84bad94afac5acba8f8ccdf81d1c429"
   },
   "outputs": [
    {
     "name": "stdout",
     "output_type": "stream",
     "text": [
      "Model: \"model\"\n",
      "__________________________________________________________________________________________________\n",
      " Layer (type)                   Output Shape         Param #     Connected to                     \n",
      "==================================================================================================\n",
      " book (InputLayer)              [(None, 1)]          0           []                               \n",
      "                                                                                                  \n",
      " link (InputLayer)              [(None, 1)]          0           []                               \n",
      "                                                                                                  \n",
      " book_embedding (Embedding)     (None, 1, 50)        1851000     ['book[0][0]']                   \n",
      "                                                                                                  \n",
      " link_embedding (Embedding)     (None, 1, 50)        2087900     ['link[0][0]']                   \n",
      "                                                                                                  \n",
      " dot_product (Dot)              (None, 1, 1)         0           ['book_embedding[0][0]',         \n",
      "                                                                  'link_embedding[0][0]']         \n",
      "                                                                                                  \n",
      " reshape (Reshape)              (None, 1)            0           ['dot_product[0][0]']            \n",
      "                                                                                                  \n",
      "==================================================================================================\n",
      "Total params: 3,938,900\n",
      "Trainable params: 3,938,900\n",
      "Non-trainable params: 0\n",
      "__________________________________________________________________________________________________\n"
     ]
    },
    {
     "name": "stderr",
     "output_type": "stream",
     "text": [
      "2024-04-18 18:39:58.163716: W tensorflow/stream_executor/platform/default/dso_loader.cc:64] Could not load dynamic library 'libcuda.so.1'; dlerror: libcuda.so.1: cannot open shared object file: No such file or directory\n",
      "2024-04-18 18:39:58.163734: W tensorflow/stream_executor/cuda/cuda_driver.cc:263] failed call to cuInit: UNKNOWN ERROR (303)\n",
      "2024-04-18 18:39:58.163750: I tensorflow/stream_executor/cuda/cuda_diagnostics.cc:156] kernel driver does not appear to be running on this host (3749e6b51f75): /proc/driver/nvidia/version does not exist\n",
      "2024-04-18 18:39:58.163913: I tensorflow/core/platform/cpu_feature_guard.cc:193] This TensorFlow binary is optimized with oneAPI Deep Neural Network Library (oneDNN) to use the following CPU instructions in performance-critical operations:  AVX2 AVX512F AVX512_VNNI FMA\n",
      "To enable them in other operations, rebuild TensorFlow with the appropriate compiler flags.\n"
     ]
    }
   ],
   "source": [
    "def book_embedding_model(embedding_size = 50, classification = False):\n",
    "    \"\"\"Model to embed books and wikilinks using the functional API.\n",
    "       Trained to discern if a link is present in a article\"\"\"\n",
    "    \n",
    "    # Both inputs are 1-dimensional\n",
    "    book = Input(name = 'book', shape = [1])\n",
    "    link = Input(name = 'link', shape = [1])\n",
    "    \n",
    "    # Embedding the book (shape will be (None, 1, 50))\n",
    "    book_embedding = Embedding(name = 'book_embedding',\n",
    "                               input_dim = len(book_index),\n",
    "                               output_dim = embedding_size)(book)\n",
    "    \n",
    "    # Embedding the link (shape will be (None, 1, 50))\n",
    "    link_embedding = Embedding(name = 'link_embedding',\n",
    "                               input_dim = len(link_index),\n",
    "                               output_dim = embedding_size)(link)\n",
    "    \n",
    "    # Merge the layers with a dot product along the second axis (shape will be (None, 1, 1))\n",
    "    merged = Dot(name = 'dot_product', normalize = True, axes = 2)([book_embedding, link_embedding])\n",
    "    \n",
    "    # Reshape to be a single number (shape will be (None, 1))\n",
    "    merged = Reshape(target_shape = [1])(merged)\n",
    "    \n",
    "    # If classifcation, add extra layer and loss function is binary cross entropy\n",
    "    if classification:\n",
    "        merged = Dense(1, activation = 'sigmoid')(merged)\n",
    "        model = Model(inputs = [book, link], outputs = merged)\n",
    "        model.compile(optimizer = 'Adam', loss = 'binary_crossentropy', metrics = ['accuracy'])\n",
    "    \n",
    "    # Otherwise loss function is mean squared error\n",
    "    else:\n",
    "        model = Model(inputs = [book, link], outputs = merged)\n",
    "        model.compile(optimizer = 'Adam', loss = 'mse')\n",
    "    \n",
    "    return model\n",
    "\n",
    "# Instantiate model and show parameters\n",
    "model = book_embedding_model()\n",
    "model.summary()"
   ]
  },
  {
   "cell_type": "markdown",
   "metadata": {
    "_uuid": "fcb7c521ceaa7e6e8e82ad01af10fdcf553a4166"
   },
   "source": [
    "There are nearly 4.0 million weights (parameters) that need to be learned by the neural network. Each of these represents one number in an embedding for one entity. During training, the neural network adjusts these parameters in order to minimize the loss function on the training data. "
   ]
  },
  {
   "cell_type": "markdown",
   "metadata": {
    "_uuid": "f2f25b007525176ceba513eb5d6c5b94efcdcdb4"
   },
   "source": [
    "# Train Model\n",
    "\n",
    "We have the training data - in a generator - and a model. The next step is to train the model to learn the entity embeddings. During this process, the model will update the embeddings (change the model parameters) to accomplish the task of predicting whether a certain link is on a book page or not. The resulting embeddings can then be used as a representation of books and links. \n",
    "\n",
    "There are a few parameters to adjust for training. The batch size should generally be as large as possible given the memory constraints of your machine. The negative ratio can be adjusted based on results. I tried 2 and it seemed to work well. The number of steps per epoch is chosen such that the model sees a number of examples equal to the number of pairs on each epoch. This is repeated for 15 epochs (which might be more than necessary)."
   ]
  },
  {
   "cell_type": "code",
   "execution_count": 28,
   "metadata": {
    "_uuid": "28aa85cfac5d079289fbba3607b30ac08b9bb2e8"
   },
   "outputs": [
    {
     "name": "stdout",
     "output_type": "stream",
     "text": [
      "Epoch 1/15\n"
     ]
    },
    {
     "name": "stderr",
     "output_type": "stream",
     "text": [
      "/tmp/ipykernel_121/3885179802.py:6: UserWarning: `Model.fit_generator` is deprecated and will be removed in a future version. Please use `Model.fit`, which supports generators.\n",
      "  h = model.fit_generator(gen, epochs = 15,\n"
     ]
    },
    {
     "name": "stdout",
     "output_type": "stream",
     "text": [
      "754/754 - 10s - loss: 0.9569 - 10s/epoch - 14ms/step\n",
      "Epoch 2/15\n",
      "754/754 - 10s - loss: 0.7199 - 10s/epoch - 13ms/step\n",
      "Epoch 3/15\n",
      "754/754 - 10s - loss: 0.5031 - 10s/epoch - 13ms/step\n",
      "Epoch 4/15\n",
      "754/754 - 10s - loss: 0.4621 - 10s/epoch - 13ms/step\n",
      "Epoch 5/15\n",
      "754/754 - 10s - loss: 0.4450 - 10s/epoch - 13ms/step\n",
      "Epoch 6/15\n",
      "754/754 - 10s - loss: 0.4361 - 10s/epoch - 13ms/step\n",
      "Epoch 7/15\n"
     ]
    },
    {
     "ename": "KeyboardInterrupt",
     "evalue": "",
     "output_type": "error",
     "traceback": [
      "\u001b[0;31m---------------------------------------------------------------------------\u001b[0m",
      "\u001b[0;31mKeyboardInterrupt\u001b[0m                         Traceback (most recent call last)",
      "Cell \u001b[0;32mIn[28], line 6\u001b[0m\n\u001b[1;32m      3\u001b[0m gen \u001b[38;5;241m=\u001b[39m generate_batch(pairs, n_positive, negative_ratio \u001b[38;5;241m=\u001b[39m \u001b[38;5;241m2\u001b[39m)\n\u001b[1;32m      5\u001b[0m \u001b[38;5;66;03m# Train\u001b[39;00m\n\u001b[0;32m----> 6\u001b[0m h \u001b[38;5;241m=\u001b[39m \u001b[43mmodel\u001b[49m\u001b[38;5;241;43m.\u001b[39;49m\u001b[43mfit_generator\u001b[49m\u001b[43m(\u001b[49m\u001b[43mgen\u001b[49m\u001b[43m,\u001b[49m\u001b[43m \u001b[49m\u001b[43mepochs\u001b[49m\u001b[43m \u001b[49m\u001b[38;5;241;43m=\u001b[39;49m\u001b[43m \u001b[49m\u001b[38;5;241;43m15\u001b[39;49m\u001b[43m,\u001b[49m\u001b[43m \u001b[49m\n\u001b[1;32m      7\u001b[0m \u001b[43m                        \u001b[49m\u001b[43msteps_per_epoch\u001b[49m\u001b[43m \u001b[49m\u001b[38;5;241;43m=\u001b[39;49m\u001b[43m \u001b[49m\u001b[38;5;28;43mlen\u001b[39;49m\u001b[43m(\u001b[49m\u001b[43mpairs\u001b[49m\u001b[43m)\u001b[49m\u001b[43m \u001b[49m\u001b[38;5;241;43m/\u001b[39;49m\u001b[38;5;241;43m/\u001b[39;49m\u001b[43m \u001b[49m\u001b[43mn_positive\u001b[49m\u001b[43m,\u001b[49m\n\u001b[1;32m      8\u001b[0m \u001b[43m                        \u001b[49m\u001b[43mverbose\u001b[49m\u001b[43m \u001b[49m\u001b[38;5;241;43m=\u001b[39;49m\u001b[43m \u001b[49m\u001b[38;5;241;43m2\u001b[39;49m\u001b[43m)\u001b[49m\n",
      "File \u001b[0;32m/usr/local/lib/python3.8/dist-packages/keras/engine/training.py:2507\u001b[0m, in \u001b[0;36mModel.fit_generator\u001b[0;34m(self, generator, steps_per_epoch, epochs, verbose, callbacks, validation_data, validation_steps, validation_freq, class_weight, max_queue_size, workers, use_multiprocessing, shuffle, initial_epoch)\u001b[0m\n\u001b[1;32m   2495\u001b[0m \u001b[38;5;250m\u001b[39m\u001b[38;5;124;03m\"\"\"Fits the model on data yielded batch-by-batch by a Python generator.\u001b[39;00m\n\u001b[1;32m   2496\u001b[0m \n\u001b[1;32m   2497\u001b[0m \u001b[38;5;124;03mDEPRECATED:\u001b[39;00m\n\u001b[1;32m   2498\u001b[0m \u001b[38;5;124;03m  `Model.fit` now supports generators, so there is no longer any need to\u001b[39;00m\n\u001b[1;32m   2499\u001b[0m \u001b[38;5;124;03m  use this endpoint.\u001b[39;00m\n\u001b[1;32m   2500\u001b[0m \u001b[38;5;124;03m\"\"\"\u001b[39;00m\n\u001b[1;32m   2501\u001b[0m warnings\u001b[38;5;241m.\u001b[39mwarn(\n\u001b[1;32m   2502\u001b[0m     \u001b[38;5;124m\"\u001b[39m\u001b[38;5;124m`Model.fit_generator` is deprecated and \u001b[39m\u001b[38;5;124m\"\u001b[39m\n\u001b[1;32m   2503\u001b[0m     \u001b[38;5;124m\"\u001b[39m\u001b[38;5;124mwill be removed in a future version. \u001b[39m\u001b[38;5;124m\"\u001b[39m\n\u001b[1;32m   2504\u001b[0m     \u001b[38;5;124m\"\u001b[39m\u001b[38;5;124mPlease use `Model.fit`, which supports generators.\u001b[39m\u001b[38;5;124m\"\u001b[39m,\n\u001b[1;32m   2505\u001b[0m     stacklevel\u001b[38;5;241m=\u001b[39m\u001b[38;5;241m2\u001b[39m,\n\u001b[1;32m   2506\u001b[0m )\n\u001b[0;32m-> 2507\u001b[0m \u001b[38;5;28;01mreturn\u001b[39;00m \u001b[38;5;28;43mself\u001b[39;49m\u001b[38;5;241;43m.\u001b[39;49m\u001b[43mfit\u001b[49m\u001b[43m(\u001b[49m\n\u001b[1;32m   2508\u001b[0m \u001b[43m    \u001b[49m\u001b[43mgenerator\u001b[49m\u001b[43m,\u001b[49m\n\u001b[1;32m   2509\u001b[0m \u001b[43m    \u001b[49m\u001b[43msteps_per_epoch\u001b[49m\u001b[38;5;241;43m=\u001b[39;49m\u001b[43msteps_per_epoch\u001b[49m\u001b[43m,\u001b[49m\n\u001b[1;32m   2510\u001b[0m \u001b[43m    \u001b[49m\u001b[43mepochs\u001b[49m\u001b[38;5;241;43m=\u001b[39;49m\u001b[43mepochs\u001b[49m\u001b[43m,\u001b[49m\n\u001b[1;32m   2511\u001b[0m \u001b[43m    \u001b[49m\u001b[43mverbose\u001b[49m\u001b[38;5;241;43m=\u001b[39;49m\u001b[43mverbose\u001b[49m\u001b[43m,\u001b[49m\n\u001b[1;32m   2512\u001b[0m \u001b[43m    \u001b[49m\u001b[43mcallbacks\u001b[49m\u001b[38;5;241;43m=\u001b[39;49m\u001b[43mcallbacks\u001b[49m\u001b[43m,\u001b[49m\n\u001b[1;32m   2513\u001b[0m \u001b[43m    \u001b[49m\u001b[43mvalidation_data\u001b[49m\u001b[38;5;241;43m=\u001b[39;49m\u001b[43mvalidation_data\u001b[49m\u001b[43m,\u001b[49m\n\u001b[1;32m   2514\u001b[0m \u001b[43m    \u001b[49m\u001b[43mvalidation_steps\u001b[49m\u001b[38;5;241;43m=\u001b[39;49m\u001b[43mvalidation_steps\u001b[49m\u001b[43m,\u001b[49m\n\u001b[1;32m   2515\u001b[0m \u001b[43m    \u001b[49m\u001b[43mvalidation_freq\u001b[49m\u001b[38;5;241;43m=\u001b[39;49m\u001b[43mvalidation_freq\u001b[49m\u001b[43m,\u001b[49m\n\u001b[1;32m   2516\u001b[0m \u001b[43m    \u001b[49m\u001b[43mclass_weight\u001b[49m\u001b[38;5;241;43m=\u001b[39;49m\u001b[43mclass_weight\u001b[49m\u001b[43m,\u001b[49m\n\u001b[1;32m   2517\u001b[0m \u001b[43m    \u001b[49m\u001b[43mmax_queue_size\u001b[49m\u001b[38;5;241;43m=\u001b[39;49m\u001b[43mmax_queue_size\u001b[49m\u001b[43m,\u001b[49m\n\u001b[1;32m   2518\u001b[0m \u001b[43m    \u001b[49m\u001b[43mworkers\u001b[49m\u001b[38;5;241;43m=\u001b[39;49m\u001b[43mworkers\u001b[49m\u001b[43m,\u001b[49m\n\u001b[1;32m   2519\u001b[0m \u001b[43m    \u001b[49m\u001b[43muse_multiprocessing\u001b[49m\u001b[38;5;241;43m=\u001b[39;49m\u001b[43muse_multiprocessing\u001b[49m\u001b[43m,\u001b[49m\n\u001b[1;32m   2520\u001b[0m \u001b[43m    \u001b[49m\u001b[43mshuffle\u001b[49m\u001b[38;5;241;43m=\u001b[39;49m\u001b[43mshuffle\u001b[49m\u001b[43m,\u001b[49m\n\u001b[1;32m   2521\u001b[0m \u001b[43m    \u001b[49m\u001b[43minitial_epoch\u001b[49m\u001b[38;5;241;43m=\u001b[39;49m\u001b[43minitial_epoch\u001b[49m\u001b[43m,\u001b[49m\n\u001b[1;32m   2522\u001b[0m \u001b[43m\u001b[49m\u001b[43m)\u001b[49m\n",
      "File \u001b[0;32m/usr/local/lib/python3.8/dist-packages/keras/utils/traceback_utils.py:65\u001b[0m, in \u001b[0;36mfilter_traceback.<locals>.error_handler\u001b[0;34m(*args, **kwargs)\u001b[0m\n\u001b[1;32m     63\u001b[0m filtered_tb \u001b[38;5;241m=\u001b[39m \u001b[38;5;28;01mNone\u001b[39;00m\n\u001b[1;32m     64\u001b[0m \u001b[38;5;28;01mtry\u001b[39;00m:\n\u001b[0;32m---> 65\u001b[0m     \u001b[38;5;28;01mreturn\u001b[39;00m \u001b[43mfn\u001b[49m\u001b[43m(\u001b[49m\u001b[38;5;241;43m*\u001b[39;49m\u001b[43margs\u001b[49m\u001b[43m,\u001b[49m\u001b[43m \u001b[49m\u001b[38;5;241;43m*\u001b[39;49m\u001b[38;5;241;43m*\u001b[39;49m\u001b[43mkwargs\u001b[49m\u001b[43m)\u001b[49m\n\u001b[1;32m     66\u001b[0m \u001b[38;5;28;01mexcept\u001b[39;00m \u001b[38;5;167;01mException\u001b[39;00m \u001b[38;5;28;01mas\u001b[39;00m e:\n\u001b[1;32m     67\u001b[0m     filtered_tb \u001b[38;5;241m=\u001b[39m _process_traceback_frames(e\u001b[38;5;241m.\u001b[39m__traceback__)\n",
      "File \u001b[0;32m/usr/local/lib/python3.8/dist-packages/keras/engine/training.py:1564\u001b[0m, in \u001b[0;36mModel.fit\u001b[0;34m(self, x, y, batch_size, epochs, verbose, callbacks, validation_split, validation_data, shuffle, class_weight, sample_weight, initial_epoch, steps_per_epoch, validation_steps, validation_batch_size, validation_freq, max_queue_size, workers, use_multiprocessing)\u001b[0m\n\u001b[1;32m   1556\u001b[0m \u001b[38;5;28;01mwith\u001b[39;00m tf\u001b[38;5;241m.\u001b[39mprofiler\u001b[38;5;241m.\u001b[39mexperimental\u001b[38;5;241m.\u001b[39mTrace(\n\u001b[1;32m   1557\u001b[0m     \u001b[38;5;124m\"\u001b[39m\u001b[38;5;124mtrain\u001b[39m\u001b[38;5;124m\"\u001b[39m,\n\u001b[1;32m   1558\u001b[0m     epoch_num\u001b[38;5;241m=\u001b[39mepoch,\n\u001b[0;32m   (...)\u001b[0m\n\u001b[1;32m   1561\u001b[0m     _r\u001b[38;5;241m=\u001b[39m\u001b[38;5;241m1\u001b[39m,\n\u001b[1;32m   1562\u001b[0m ):\n\u001b[1;32m   1563\u001b[0m     callbacks\u001b[38;5;241m.\u001b[39mon_train_batch_begin(step)\n\u001b[0;32m-> 1564\u001b[0m     tmp_logs \u001b[38;5;241m=\u001b[39m \u001b[38;5;28;43mself\u001b[39;49m\u001b[38;5;241;43m.\u001b[39;49m\u001b[43mtrain_function\u001b[49m\u001b[43m(\u001b[49m\u001b[43miterator\u001b[49m\u001b[43m)\u001b[49m\n\u001b[1;32m   1565\u001b[0m     \u001b[38;5;28;01mif\u001b[39;00m data_handler\u001b[38;5;241m.\u001b[39mshould_sync:\n\u001b[1;32m   1566\u001b[0m         context\u001b[38;5;241m.\u001b[39masync_wait()\n",
      "File \u001b[0;32m/usr/local/lib/python3.8/dist-packages/tensorflow/python/util/traceback_utils.py:150\u001b[0m, in \u001b[0;36mfilter_traceback.<locals>.error_handler\u001b[0;34m(*args, **kwargs)\u001b[0m\n\u001b[1;32m    148\u001b[0m filtered_tb \u001b[38;5;241m=\u001b[39m \u001b[38;5;28;01mNone\u001b[39;00m\n\u001b[1;32m    149\u001b[0m \u001b[38;5;28;01mtry\u001b[39;00m:\n\u001b[0;32m--> 150\u001b[0m   \u001b[38;5;28;01mreturn\u001b[39;00m \u001b[43mfn\u001b[49m\u001b[43m(\u001b[49m\u001b[38;5;241;43m*\u001b[39;49m\u001b[43margs\u001b[49m\u001b[43m,\u001b[49m\u001b[43m \u001b[49m\u001b[38;5;241;43m*\u001b[39;49m\u001b[38;5;241;43m*\u001b[39;49m\u001b[43mkwargs\u001b[49m\u001b[43m)\u001b[49m\n\u001b[1;32m    151\u001b[0m \u001b[38;5;28;01mexcept\u001b[39;00m \u001b[38;5;167;01mException\u001b[39;00m \u001b[38;5;28;01mas\u001b[39;00m e:\n\u001b[1;32m    152\u001b[0m   filtered_tb \u001b[38;5;241m=\u001b[39m _process_traceback_frames(e\u001b[38;5;241m.\u001b[39m__traceback__)\n",
      "File \u001b[0;32m/usr/local/lib/python3.8/dist-packages/tensorflow/python/eager/def_function.py:915\u001b[0m, in \u001b[0;36mFunction.__call__\u001b[0;34m(self, *args, **kwds)\u001b[0m\n\u001b[1;32m    912\u001b[0m compiler \u001b[38;5;241m=\u001b[39m \u001b[38;5;124m\"\u001b[39m\u001b[38;5;124mxla\u001b[39m\u001b[38;5;124m\"\u001b[39m \u001b[38;5;28;01mif\u001b[39;00m \u001b[38;5;28mself\u001b[39m\u001b[38;5;241m.\u001b[39m_jit_compile \u001b[38;5;28;01melse\u001b[39;00m \u001b[38;5;124m\"\u001b[39m\u001b[38;5;124mnonXla\u001b[39m\u001b[38;5;124m\"\u001b[39m\n\u001b[1;32m    914\u001b[0m \u001b[38;5;28;01mwith\u001b[39;00m OptionalXlaContext(\u001b[38;5;28mself\u001b[39m\u001b[38;5;241m.\u001b[39m_jit_compile):\n\u001b[0;32m--> 915\u001b[0m   result \u001b[38;5;241m=\u001b[39m \u001b[38;5;28;43mself\u001b[39;49m\u001b[38;5;241;43m.\u001b[39;49m\u001b[43m_call\u001b[49m\u001b[43m(\u001b[49m\u001b[38;5;241;43m*\u001b[39;49m\u001b[43margs\u001b[49m\u001b[43m,\u001b[49m\u001b[43m \u001b[49m\u001b[38;5;241;43m*\u001b[39;49m\u001b[38;5;241;43m*\u001b[39;49m\u001b[43mkwds\u001b[49m\u001b[43m)\u001b[49m\n\u001b[1;32m    917\u001b[0m new_tracing_count \u001b[38;5;241m=\u001b[39m \u001b[38;5;28mself\u001b[39m\u001b[38;5;241m.\u001b[39mexperimental_get_tracing_count()\n\u001b[1;32m    918\u001b[0m without_tracing \u001b[38;5;241m=\u001b[39m (tracing_count \u001b[38;5;241m==\u001b[39m new_tracing_count)\n",
      "File \u001b[0;32m/usr/local/lib/python3.8/dist-packages/tensorflow/python/eager/def_function.py:947\u001b[0m, in \u001b[0;36mFunction._call\u001b[0;34m(self, *args, **kwds)\u001b[0m\n\u001b[1;32m    944\u001b[0m   \u001b[38;5;28mself\u001b[39m\u001b[38;5;241m.\u001b[39m_lock\u001b[38;5;241m.\u001b[39mrelease()\n\u001b[1;32m    945\u001b[0m   \u001b[38;5;66;03m# In this case we have created variables on the first call, so we run the\u001b[39;00m\n\u001b[1;32m    946\u001b[0m   \u001b[38;5;66;03m# defunned version which is guaranteed to never create variables.\u001b[39;00m\n\u001b[0;32m--> 947\u001b[0m   \u001b[38;5;28;01mreturn\u001b[39;00m \u001b[38;5;28;43mself\u001b[39;49m\u001b[38;5;241;43m.\u001b[39;49m\u001b[43m_stateless_fn\u001b[49m\u001b[43m(\u001b[49m\u001b[38;5;241;43m*\u001b[39;49m\u001b[43margs\u001b[49m\u001b[43m,\u001b[49m\u001b[43m \u001b[49m\u001b[38;5;241;43m*\u001b[39;49m\u001b[38;5;241;43m*\u001b[39;49m\u001b[43mkwds\u001b[49m\u001b[43m)\u001b[49m  \u001b[38;5;66;03m# pylint: disable=not-callable\u001b[39;00m\n\u001b[1;32m    948\u001b[0m \u001b[38;5;28;01melif\u001b[39;00m \u001b[38;5;28mself\u001b[39m\u001b[38;5;241m.\u001b[39m_stateful_fn \u001b[38;5;129;01mis\u001b[39;00m \u001b[38;5;129;01mnot\u001b[39;00m \u001b[38;5;28;01mNone\u001b[39;00m:\n\u001b[1;32m    949\u001b[0m   \u001b[38;5;66;03m# Release the lock early so that multiple threads can perform the call\u001b[39;00m\n\u001b[1;32m    950\u001b[0m   \u001b[38;5;66;03m# in parallel.\u001b[39;00m\n\u001b[1;32m    951\u001b[0m   \u001b[38;5;28mself\u001b[39m\u001b[38;5;241m.\u001b[39m_lock\u001b[38;5;241m.\u001b[39mrelease()\n",
      "File \u001b[0;32m/usr/local/lib/python3.8/dist-packages/tensorflow/python/eager/function.py:2496\u001b[0m, in \u001b[0;36mFunction.__call__\u001b[0;34m(self, *args, **kwargs)\u001b[0m\n\u001b[1;32m   2493\u001b[0m \u001b[38;5;28;01mwith\u001b[39;00m \u001b[38;5;28mself\u001b[39m\u001b[38;5;241m.\u001b[39m_lock:\n\u001b[1;32m   2494\u001b[0m   (graph_function,\n\u001b[1;32m   2495\u001b[0m    filtered_flat_args) \u001b[38;5;241m=\u001b[39m \u001b[38;5;28mself\u001b[39m\u001b[38;5;241m.\u001b[39m_maybe_define_function(args, kwargs)\n\u001b[0;32m-> 2496\u001b[0m \u001b[38;5;28;01mreturn\u001b[39;00m \u001b[43mgraph_function\u001b[49m\u001b[38;5;241;43m.\u001b[39;49m\u001b[43m_call_flat\u001b[49m\u001b[43m(\u001b[49m\n\u001b[1;32m   2497\u001b[0m \u001b[43m    \u001b[49m\u001b[43mfiltered_flat_args\u001b[49m\u001b[43m,\u001b[49m\u001b[43m \u001b[49m\u001b[43mcaptured_inputs\u001b[49m\u001b[38;5;241;43m=\u001b[39;49m\u001b[43mgraph_function\u001b[49m\u001b[38;5;241;43m.\u001b[39;49m\u001b[43mcaptured_inputs\u001b[49m\u001b[43m)\u001b[49m\n",
      "File \u001b[0;32m/usr/local/lib/python3.8/dist-packages/tensorflow/python/eager/function.py:1862\u001b[0m, in \u001b[0;36mConcreteFunction._call_flat\u001b[0;34m(self, args, captured_inputs, cancellation_manager)\u001b[0m\n\u001b[1;32m   1858\u001b[0m possible_gradient_type \u001b[38;5;241m=\u001b[39m gradients_util\u001b[38;5;241m.\u001b[39mPossibleTapeGradientTypes(args)\n\u001b[1;32m   1859\u001b[0m \u001b[38;5;28;01mif\u001b[39;00m (possible_gradient_type \u001b[38;5;241m==\u001b[39m gradients_util\u001b[38;5;241m.\u001b[39mPOSSIBLE_GRADIENT_TYPES_NONE\n\u001b[1;32m   1860\u001b[0m     \u001b[38;5;129;01mand\u001b[39;00m executing_eagerly):\n\u001b[1;32m   1861\u001b[0m   \u001b[38;5;66;03m# No tape is watching; skip to running the function.\u001b[39;00m\n\u001b[0;32m-> 1862\u001b[0m   \u001b[38;5;28;01mreturn\u001b[39;00m \u001b[38;5;28mself\u001b[39m\u001b[38;5;241m.\u001b[39m_build_call_outputs(\u001b[38;5;28;43mself\u001b[39;49m\u001b[38;5;241;43m.\u001b[39;49m\u001b[43m_inference_function\u001b[49m\u001b[38;5;241;43m.\u001b[39;49m\u001b[43mcall\u001b[49m\u001b[43m(\u001b[49m\n\u001b[1;32m   1863\u001b[0m \u001b[43m      \u001b[49m\u001b[43mctx\u001b[49m\u001b[43m,\u001b[49m\u001b[43m \u001b[49m\u001b[43margs\u001b[49m\u001b[43m,\u001b[49m\u001b[43m \u001b[49m\u001b[43mcancellation_manager\u001b[49m\u001b[38;5;241;43m=\u001b[39;49m\u001b[43mcancellation_manager\u001b[49m\u001b[43m)\u001b[49m)\n\u001b[1;32m   1864\u001b[0m forward_backward \u001b[38;5;241m=\u001b[39m \u001b[38;5;28mself\u001b[39m\u001b[38;5;241m.\u001b[39m_select_forward_and_backward_functions(\n\u001b[1;32m   1865\u001b[0m     args,\n\u001b[1;32m   1866\u001b[0m     possible_gradient_type,\n\u001b[1;32m   1867\u001b[0m     executing_eagerly)\n\u001b[1;32m   1868\u001b[0m forward_function, args_with_tangents \u001b[38;5;241m=\u001b[39m forward_backward\u001b[38;5;241m.\u001b[39mforward()\n",
      "File \u001b[0;32m/usr/local/lib/python3.8/dist-packages/tensorflow/python/eager/function.py:499\u001b[0m, in \u001b[0;36m_EagerDefinedFunction.call\u001b[0;34m(self, ctx, args, cancellation_manager)\u001b[0m\n\u001b[1;32m    497\u001b[0m \u001b[38;5;28;01mwith\u001b[39;00m _InterpolateFunctionError(\u001b[38;5;28mself\u001b[39m):\n\u001b[1;32m    498\u001b[0m   \u001b[38;5;28;01mif\u001b[39;00m cancellation_manager \u001b[38;5;129;01mis\u001b[39;00m \u001b[38;5;28;01mNone\u001b[39;00m:\n\u001b[0;32m--> 499\u001b[0m     outputs \u001b[38;5;241m=\u001b[39m \u001b[43mexecute\u001b[49m\u001b[38;5;241;43m.\u001b[39;49m\u001b[43mexecute\u001b[49m\u001b[43m(\u001b[49m\n\u001b[1;32m    500\u001b[0m \u001b[43m        \u001b[49m\u001b[38;5;28;43mstr\u001b[39;49m\u001b[43m(\u001b[49m\u001b[38;5;28;43mself\u001b[39;49m\u001b[38;5;241;43m.\u001b[39;49m\u001b[43msignature\u001b[49m\u001b[38;5;241;43m.\u001b[39;49m\u001b[43mname\u001b[49m\u001b[43m)\u001b[49m\u001b[43m,\u001b[49m\n\u001b[1;32m    501\u001b[0m \u001b[43m        \u001b[49m\u001b[43mnum_outputs\u001b[49m\u001b[38;5;241;43m=\u001b[39;49m\u001b[38;5;28;43mself\u001b[39;49m\u001b[38;5;241;43m.\u001b[39;49m\u001b[43m_num_outputs\u001b[49m\u001b[43m,\u001b[49m\n\u001b[1;32m    502\u001b[0m \u001b[43m        \u001b[49m\u001b[43minputs\u001b[49m\u001b[38;5;241;43m=\u001b[39;49m\u001b[43margs\u001b[49m\u001b[43m,\u001b[49m\n\u001b[1;32m    503\u001b[0m \u001b[43m        \u001b[49m\u001b[43mattrs\u001b[49m\u001b[38;5;241;43m=\u001b[39;49m\u001b[43mattrs\u001b[49m\u001b[43m,\u001b[49m\n\u001b[1;32m    504\u001b[0m \u001b[43m        \u001b[49m\u001b[43mctx\u001b[49m\u001b[38;5;241;43m=\u001b[39;49m\u001b[43mctx\u001b[49m\u001b[43m)\u001b[49m\n\u001b[1;32m    505\u001b[0m   \u001b[38;5;28;01melse\u001b[39;00m:\n\u001b[1;32m    506\u001b[0m     outputs \u001b[38;5;241m=\u001b[39m execute\u001b[38;5;241m.\u001b[39mexecute_with_cancellation(\n\u001b[1;32m    507\u001b[0m         \u001b[38;5;28mstr\u001b[39m(\u001b[38;5;28mself\u001b[39m\u001b[38;5;241m.\u001b[39msignature\u001b[38;5;241m.\u001b[39mname),\n\u001b[1;32m    508\u001b[0m         num_outputs\u001b[38;5;241m=\u001b[39m\u001b[38;5;28mself\u001b[39m\u001b[38;5;241m.\u001b[39m_num_outputs,\n\u001b[0;32m   (...)\u001b[0m\n\u001b[1;32m    511\u001b[0m         ctx\u001b[38;5;241m=\u001b[39mctx,\n\u001b[1;32m    512\u001b[0m         cancellation_manager\u001b[38;5;241m=\u001b[39mcancellation_manager)\n",
      "File \u001b[0;32m/usr/local/lib/python3.8/dist-packages/tensorflow/python/eager/execute.py:54\u001b[0m, in \u001b[0;36mquick_execute\u001b[0;34m(op_name, num_outputs, inputs, attrs, ctx, name)\u001b[0m\n\u001b[1;32m     52\u001b[0m \u001b[38;5;28;01mtry\u001b[39;00m:\n\u001b[1;32m     53\u001b[0m   ctx\u001b[38;5;241m.\u001b[39mensure_initialized()\n\u001b[0;32m---> 54\u001b[0m   tensors \u001b[38;5;241m=\u001b[39m \u001b[43mpywrap_tfe\u001b[49m\u001b[38;5;241;43m.\u001b[39;49m\u001b[43mTFE_Py_Execute\u001b[49m\u001b[43m(\u001b[49m\u001b[43mctx\u001b[49m\u001b[38;5;241;43m.\u001b[39;49m\u001b[43m_handle\u001b[49m\u001b[43m,\u001b[49m\u001b[43m \u001b[49m\u001b[43mdevice_name\u001b[49m\u001b[43m,\u001b[49m\u001b[43m \u001b[49m\u001b[43mop_name\u001b[49m\u001b[43m,\u001b[49m\n\u001b[1;32m     55\u001b[0m \u001b[43m                                      \u001b[49m\u001b[43minputs\u001b[49m\u001b[43m,\u001b[49m\u001b[43m \u001b[49m\u001b[43mattrs\u001b[49m\u001b[43m,\u001b[49m\u001b[43m \u001b[49m\u001b[43mnum_outputs\u001b[49m\u001b[43m)\u001b[49m\n\u001b[1;32m     56\u001b[0m \u001b[38;5;28;01mexcept\u001b[39;00m core\u001b[38;5;241m.\u001b[39m_NotOkStatusException \u001b[38;5;28;01mas\u001b[39;00m e:\n\u001b[1;32m     57\u001b[0m   \u001b[38;5;28;01mif\u001b[39;00m name \u001b[38;5;129;01mis\u001b[39;00m \u001b[38;5;129;01mnot\u001b[39;00m \u001b[38;5;28;01mNone\u001b[39;00m:\n",
      "\u001b[0;31mKeyboardInterrupt\u001b[0m: "
     ]
    }
   ],
   "source": [
    "n_positive = 1024\n",
    "\n",
    "gen = generate_batch(pairs, n_positive, negative_ratio = 2)\n",
    "\n",
    "# Train\n",
    "h = model.fit_generator(gen, epochs = 15, \n",
    "                        steps_per_epoch = len(pairs) // n_positive,\n",
    "                        verbose = 2)"
   ]
  },
  {
   "cell_type": "markdown",
   "metadata": {
    "_uuid": "7bab4e9176ca0d3cf2435bee95c1367095b23e43"
   },
   "source": [
    "The loss decreases as training progresses which should give us confidence the model is learning something! \n",
    "\n",
    "\n",
    "The entire trained model can be saved and later loaded in so you don't have to repeat the training. It's also possible to save certain layers."
   ]
  },
  {
   "cell_type": "code",
   "execution_count": 29,
   "metadata": {
    "_uuid": "f376b0cc60297574898755b5c791d5dc03cf9a53"
   },
   "outputs": [],
   "source": [
    "model.save('first_attempt.h5')"
   ]
  },
  {
   "cell_type": "markdown",
   "metadata": {
    "_uuid": "62d20772dd704bf6870218b0aa24c8bec7051f32"
   },
   "source": [
    "# Extract Embeddings and Analyze\n",
    "\n",
    "The trained model has learned - hopefully - representations of books and wikilinks that place similar entities next to one another in the embedding space. To find out if this is the case, we extract the embeddings and use them to find similar books and links."
   ]
  },
  {
   "cell_type": "code",
   "execution_count": 30,
   "metadata": {
    "_uuid": "087f08d6fc4a0cf3f12a8d09ef940a1ca43044c8"
   },
   "outputs": [
    {
     "data": {
      "text/plain": [
       "(37020, 50)"
      ]
     },
     "execution_count": 30,
     "metadata": {},
     "output_type": "execute_result"
    }
   ],
   "source": [
    "# Extract embeddings\n",
    "book_layer = model.get_layer('book_embedding')\n",
    "book_weights = book_layer.get_weights()[0]\n",
    "book_weights.shape"
   ]
  },
  {
   "cell_type": "markdown",
   "metadata": {
    "_uuid": "ac37cce60f79881e019dda2497bf86f29c62608d"
   },
   "source": [
    "Each book is now represented as a 50-dimensional vector. \n",
    "\n",
    "We need to normalize the embeddings so that the dot product between two embeddings becomes the cosine similarity."
   ]
  },
  {
   "cell_type": "code",
   "execution_count": 31,
   "metadata": {
    "_uuid": "fa075b8a99b673dc8359d43e9428b5f50b6d35a5"
   },
   "outputs": [
    {
     "data": {
      "text/plain": [
       "array([ 0.08222169,  0.27271536, -0.09413993, -0.02090409, -0.124712  ,\n",
       "       -0.10829111,  0.22241908, -0.02779782,  0.22671378, -0.09732848],\n",
       "      dtype=float32)"
      ]
     },
     "execution_count": 31,
     "metadata": {},
     "output_type": "execute_result"
    },
    {
     "data": {
      "text/plain": [
       "0.99999994"
      ]
     },
     "execution_count": 31,
     "metadata": {},
     "output_type": "execute_result"
    }
   ],
   "source": [
    "book_weights = book_weights / np.linalg.norm(book_weights, axis = 1).reshape((-1, 1))\n",
    "book_weights[0][:10]\n",
    "np.sum(np.square(book_weights[0]))"
   ]
  },
  {
   "cell_type": "markdown",
   "metadata": {
    "_uuid": "9adc1d7818efbe36e34d0968fd4a9e4e891876ca"
   },
   "source": [
    "Normalize just means divide each vector by the square root of the sum of squared components."
   ]
  },
  {
   "cell_type": "markdown",
   "metadata": {
    "_uuid": "ef1f12b98a351fc6d09975ac67601a9832395a3a"
   },
   "source": [
    "# Finding Similar Books\n",
    "\n",
    "We've trained the model and extracted the embeddings - great - but where is the book recommendation system? Now that we have the embeddings, we can use them to recommend books that our model has learned are most similar to a given book.\n",
    "\n",
    "\n",
    "### Function to Find Most Similar Entities\n",
    "\n",
    "The function below takes in either a book or a link, a set of embeddings, and returns the `n` most similar items to the query. It does this by computing the dot product between the query and embeddings. Because we normalized the embeddings, the dot product represents the [cosine similarity](http://blog.christianperone.com/2013/09/machine-learning-cosine-similarity-for-vector-space-models-part-iii/) between two vectors. This is a measure of similarity that does not depend on the magnitude of the vector in contrast to the Euclidean distance. (The Euclidean distance would be another valid metric of similary to use to compare the embeddings.)\n",
    "\n",
    "Once we have the dot products, we can sort the results to find the closest entities in the embedding space. With cosine similarity, higher numbers indicate entities that are closer together, with -1 the furthest apart and +1 closest together."
   ]
  },
  {
   "cell_type": "code",
   "execution_count": 32,
   "metadata": {
    "_uuid": "a55c6da94ada692a1ef52f376844a2f79a4c69af"
   },
   "outputs": [],
   "source": [
    "import pandas as pd\n",
    "import matplotlib.pyplot as plt\n",
    "%matplotlib inline\n",
    "plt.style.use('fivethirtyeight')\n",
    "plt.rcParams['font.size'] = 15\n",
    "\n",
    "def find_similar(name, weights, index_name = 'book', n = 10, least = False, return_dist = False, plot = False):\n",
    "    \"\"\"Find n most similar items (or least) to name based on embeddings. Option to also plot the results\"\"\"\n",
    "    \n",
    "    # Select index and reverse index\n",
    "    if index_name == 'book':\n",
    "        index = book_index\n",
    "        rindex = index_book\n",
    "    elif index_name == 'page':\n",
    "        index = link_index\n",
    "        rindex = index_link\n",
    "    \n",
    "    # Check to make sure `name` is in index\n",
    "    try:\n",
    "        # Calculate dot product between book and all others\n",
    "        dists = np.dot(weights, weights[index[name]])\n",
    "    except KeyError:\n",
    "        print(f'{name} Not Found.')\n",
    "        return\n",
    "    \n",
    "    # Sort distance indexes from smallest to largest\n",
    "    sorted_dists = np.argsort(dists)\n",
    "    \n",
    "    # Plot results if specified\n",
    "    if plot:\n",
    "        \n",
    "        # Find furthest and closest items\n",
    "        furthest = sorted_dists[:(n // 2)]\n",
    "        closest = sorted_dists[-n-1: len(dists) - 1]\n",
    "        items = [rindex[c] for c in furthest]\n",
    "        items.extend(rindex[c] for c in closest)\n",
    "        \n",
    "        # Find furthest and closets distances\n",
    "        distances = [dists[c] for c in furthest]\n",
    "        distances.extend(dists[c] for c in closest)\n",
    "        \n",
    "        colors = ['r' for _ in range(n //2)]\n",
    "        colors.extend('g' for _ in range(n))\n",
    "        \n",
    "        data = pd.DataFrame({'distance': distances}, index = items)\n",
    "        \n",
    "        # Horizontal bar chart\n",
    "        data['distance'].plot.barh(color = colors, figsize = (10, 8),\n",
    "                                   edgecolor = 'k', linewidth = 2)\n",
    "        plt.xlabel('Cosine Similarity');\n",
    "        plt.axvline(x = 0, color = 'k');\n",
    "        \n",
    "        # Formatting for italicized title\n",
    "        name_str = f'{index_name.capitalize()}s Most and Least Similar to'\n",
    "        for word in name.split():\n",
    "            # Title uses latex for italize\n",
    "            name_str += ' $\\it{' + word + '}$'\n",
    "        plt.title(name_str, x = 0.2, size = 28, y = 1.05)\n",
    "        \n",
    "        return None\n",
    "    \n",
    "    # If specified, find the least similar\n",
    "    if least:\n",
    "        # Take the first n from sorted distances\n",
    "        closest = sorted_dists[:n]\n",
    "         \n",
    "        print(f'{index_name.capitalize()}s furthest from {name}.\\n')\n",
    "        \n",
    "    # Otherwise find the most similar\n",
    "    else:\n",
    "        # Take the last n sorted distances\n",
    "        closest = sorted_dists[-n:]\n",
    "        \n",
    "        # Need distances later on\n",
    "        if return_dist:\n",
    "            return dists, closest\n",
    "        \n",
    "        \n",
    "        print(f'{index_name.capitalize()}s closest to {name}.\\n')\n",
    "        \n",
    "    # Need distances later on\n",
    "    if return_dist:\n",
    "        return dists, closest\n",
    "    \n",
    "    \n",
    "    # Print formatting\n",
    "    max_width = max([len(rindex[c]) for c in closest])\n",
    "    \n",
    "    # Print the most similar and distances\n",
    "    for c in reversed(closest):\n",
    "        print(f'{index_name.capitalize()}: {rindex[c]:{max_width + 2}} Similarity: {dists[c]:.{2}}')\n",
    "        \n",
    "    "
   ]
  },
  {
   "cell_type": "markdown",
   "metadata": {
    "_uuid": "545e128e043854af55510e09362b02412d7e8293"
   },
   "source": [
    "(We know that this function works if the most similar book is the book itself. Because we multiply the item vector times all the other embeddings, the most similar should be the item itself with a similarity of 1.0.)"
   ]
  },
  {
   "cell_type": "code",
   "execution_count": 33,
   "metadata": {
    "_uuid": "56ee8fa0d7f6806e28d1c21b229c77fe96f2a920"
   },
   "outputs": [
    {
     "name": "stdout",
     "output_type": "stream",
     "text": [
      "Books closest to War and Peace.\n",
      "\n",
      "Book: War and Peace               Similarity: 1.0\n",
      "Book: The Master and Margarita    Similarity: 0.91\n",
      "Book: Demons (Dostoevsky novel)   Similarity: 0.9\n",
      "Book: Crime and Punishment        Similarity: 0.88\n",
      "Book: Anna Karenina               Similarity: 0.88\n",
      "Book: The Brothers Karamazov      Similarity: 0.85\n",
      "Book: Lord of the World           Similarity: 0.84\n",
      "Book: Animal Farm                 Similarity: 0.83\n",
      "Book: La Peau de chagrin          Similarity: 0.83\n",
      "Book: Doctor Zhivago (novel)      Similarity: 0.83\n"
     ]
    }
   ],
   "source": [
    "find_similar('War and Peace', book_weights)"
   ]
  },
  {
   "cell_type": "markdown",
   "metadata": {
    "_uuid": "e8cea3d986ff376edc283fcc5b3d5cf9c6f1452d"
   },
   "source": [
    "It works! The most similar books make sense at least for _War and Peace._\n",
    "\n"
   ]
  },
  {
   "cell_type": "code",
   "execution_count": 34,
   "metadata": {
    "_uuid": "8ea092cce197b7b61eaece6cea08d561204578d7"
   },
   "outputs": [
    {
     "name": "stdout",
     "output_type": "stream",
     "text": [
      "Books furthest from War and Peace.\n",
      "\n",
      "Book: The Crimson Campaign                       Similarity: -0.55\n",
      "Book: The Book of Swords (anthology)             Similarity: -0.55\n",
      "Book: Siege of Darkness                          Similarity: -0.55\n",
      "Book: Baldur's Gate II: Shadows of Amn (novel)   Similarity: -0.56\n",
      "Book: Eidolon I                                  Similarity: -0.56\n"
     ]
    }
   ],
   "source": [
    "find_similar('War and Peace', book_weights, least = True, n = 5)"
   ]
  },
  {
   "cell_type": "markdown",
   "metadata": {
    "_uuid": "c3f69cbbfd25ebb7d74120edc265981b6882d3d9"
   },
   "source": [
    "The least similar books are quite a grab bag!"
   ]
  },
  {
   "cell_type": "code",
   "execution_count": 35,
   "metadata": {
    "_uuid": "0d63d4bdf78a2ca847c9701ee10287ddc9c030d3"
   },
   "outputs": [
    {
     "data": {
      "image/png": "[encoded data removed]",
      "text/plain": [
       "<Figure size 1000x800 with 1 Axes>"
      ]
     },
     "metadata": {},
     "output_type": "display_data"
    }
   ],
   "source": [
    "find_similar('War and Peace', book_weights, n = 5, plot = True)"
   ]
  },
  {
   "cell_type": "code",
   "execution_count": 36,
   "metadata": {
    "_uuid": "d064c653ecbba11b325a8f2649fe2fd0729cb757"
   },
   "outputs": [
    {
     "name": "stdout",
     "output_type": "stream",
     "text": [
      "Books closest to The Fellowship of the Ring.\n",
      "\n",
      "Book: The Fellowship of the Ring             Similarity: 1.0\n",
      "Book: The Two Towers                         Similarity: 0.93\n",
      "Book: The Return of the King                 Similarity: 0.91\n",
      "Book: Unfinished Tales                       Similarity: 0.88\n",
      "Book: The History of The Lord of the Rings   Similarity: 0.85\n"
     ]
    }
   ],
   "source": [
    "find_similar('The Fellowship of the Ring', book_weights, n = 5)"
   ]
  },
  {
   "cell_type": "markdown",
   "metadata": {
    "_uuid": "f635eab5209ac5f68734dcd288dd9e5cab7f1e03"
   },
   "source": [
    "It doesn't work perfectly for every book as we can see."
   ]
  },
  {
   "cell_type": "code",
   "execution_count": 37,
   "metadata": {
    "_uuid": "22571b1b218fa4e73c093675452ab0a13887f638"
   },
   "outputs": [
    {
     "name": "stdout",
     "output_type": "stream",
     "text": [
      "Books closest to Artificial Intelligence: A Modern Approach.\n",
      "\n",
      "Book: Artificial Intelligence: A Modern Approach     Similarity: 1.0\n",
      "Book: Computer Graphics: Principles and Practice     Similarity: 0.9\n",
      "Book: Compilers: Principles, Techniques, and Tools   Similarity: 0.89\n",
      "Book: Modern C++ Design                              Similarity: 0.89\n",
      "Book: Algorithms + Data Structures = Programs        Similarity: 0.89\n"
     ]
    }
   ],
   "source": [
    "find_similar('Artificial Intelligence: A Modern Approach', book_weights, n = 5)"
   ]
  },
  {
   "cell_type": "code",
   "execution_count": 38,
   "metadata": {
    "_uuid": "5747bd1c2a24231053e30d5d20de2fb9bf3382fd"
   },
   "outputs": [
    {
     "name": "stdout",
     "output_type": "stream",
     "text": [
      "Books closest to Weapons of Math Destruction.\n",
      "\n",
      "Book: Weapons of Math Destruction             Similarity: 1.0\n",
      "Book: White Rage                              Similarity: 0.94\n",
      "Book: Race: The Reality of Human Difference   Similarity: 0.94\n",
      "Book: To Be a Machine                         Similarity: 0.93\n",
      "Book: Why Survive? Being Old in America       Similarity: 0.92\n"
     ]
    }
   ],
   "source": [
    "find_similar('Weapons of Math Destruction', book_weights, n = 5)"
   ]
  },
  {
   "cell_type": "markdown",
   "metadata": {
    "_uuid": "d965d871afdb3cc6c20154a5d87a22192cb08858"
   },
   "source": [
    "Not bad by the looks of the results! I encourage you to play around with the model and explore the resulting embeddings. __We have successfully built a book recommendation system using neural network embeddings.__\n",
    "\n",
    "What should I read next? Currently I'm working through a fantastic collection of essays by Stephen Jay Gould."
   ]
  },
  {
   "cell_type": "code",
   "execution_count": null,
   "metadata": {
    "_uuid": "5216917cfb3a7fdf9b16cc1d36b6d759eaebbbc9"
   },
   "outputs": [],
   "source": [
    "find_similar('Bully for Brontosaurus', book_weights, n = 5)"
   ]
  },
  {
   "cell_type": "markdown",
   "metadata": {
    "_uuid": "0cb445445d87714501bf9ad8d94ab173b9e196a7"
   },
   "source": [
    "The algorithm has spoken! "
   ]
  },
  {
   "cell_type": "code",
   "execution_count": null,
   "metadata": {
    "_uuid": "348f50289eb1e851cb5e951aa887b2ad25e65284"
   },
   "outputs": [],
   "source": [
    "find_similar('Bully for Brontosaurus', book_weights, n = 5, plot = True)"
   ]
  },
  {
   "cell_type": "markdown",
   "metadata": {
    "_uuid": "29bbc58f2c5f64fb5c1be1a34512e8f05c336513"
   },
   "source": [
    "## Wikilink Embeddings\n",
    "\n",
    "We also have the embeddings of wikipedia links (which are themselves Wikipedia pages). We can take a similar approach to extract these and find the most similar to a query page. \n",
    "\n",
    "Let's write a quick function to extract weights from a model given the name of the layer."
   ]
  },
  {
   "cell_type": "code",
   "execution_count": null,
   "metadata": {
    "_uuid": "2715fccb65126639bf0c19cc54e708b5cabe23f8"
   },
   "outputs": [],
   "source": [
    "def extract_weights(name, model):\n",
    "    \"\"\"Extract weights from a neural network model\"\"\"\n",
    "    \n",
    "    # Extract weights\n",
    "    weight_layer = model.get_layer(name)\n",
    "    weights = weight_layer.get_weights()[0]\n",
    "    \n",
    "    # Normalize\n",
    "    weights = weights / np.linalg.norm(weights, axis = 1).reshape((-1, 1))\n",
    "    return weights"
   ]
  },
  {
   "cell_type": "code",
   "execution_count": null,
   "metadata": {
    "_uuid": "0314de99c2d31edacb05a4ef7258c62f44a58a55"
   },
   "outputs": [],
   "source": [
    "link_weights = extract_weights('link_embedding', model)"
   ]
  },
  {
   "cell_type": "markdown",
   "metadata": {
    "_uuid": "8014ac9b575f894d1880d650c3d756e9fb7f6313"
   },
   "source": [
    "We can use the same `find_similar` function to find the most similar links to a given link."
   ]
  },
  {
   "cell_type": "code",
   "execution_count": null,
   "metadata": {
    "_uuid": "e8e88c660ec10e3c04f9f1afe04f57f45b703a10"
   },
   "outputs": [],
   "source": [
    "find_similar('science fiction', link_weights, index_name = 'page')"
   ]
  },
  {
   "cell_type": "markdown",
   "metadata": {
    "_uuid": "3a22ceb4a87764522aa9507f4b807acae09dd947"
   },
   "source": [
    "Based on my knowledge, it appears the neural network embeddings are also a good representation of the pages! Not only can we find the most similar books to a given book, but if we have a category of books that we enjoy, we can find another category that is similar."
   ]
  },
  {
   "cell_type": "code",
   "execution_count": null,
   "metadata": {
    "_uuid": "dd3b2902a64b326c4a44eed7d9d565295ef0f201"
   },
   "outputs": [],
   "source": [
    "find_similar('biography', link_weights, index_name = 'page')"
   ]
  },
  {
   "cell_type": "code",
   "execution_count": null,
   "metadata": {
    "_uuid": "45139a97050ba1ae1ed6899f588c7a3c54db70fc"
   },
   "outputs": [],
   "source": [
    "find_similar('biography', link_weights, index_name = 'page', n = 5, plot = True)"
   ]
  },
  {
   "cell_type": "markdown",
   "metadata": {
    "_uuid": "5e05cad805d6243239edca27dc35c252a671cc98"
   },
   "source": [
    "Now you not only know what books to look for, you know the books to avoid for a given category! "
   ]
  },
  {
   "cell_type": "code",
   "execution_count": null,
   "metadata": {
    "_uuid": "54aaf0baa626363ac42648e7c67db9b2e9626069"
   },
   "outputs": [],
   "source": [
    "find_similar('new york city', link_weights, index_name = 'page', n = 5)"
   ]
  },
  {
   "cell_type": "markdown",
   "metadata": {
    "_uuid": "fc537b54700f0e869b77ecbb45830cf08197bb26"
   },
   "source": [
    "## Classification Model\n",
    "\n",
    "I was curious if training for the mean squared error as a regression problem was the ideal approach, so I also decided to experiment with a classification model. For this model, the negative examples receive a label of 0 and the loss function is binary cross entropy. The procedure for the neural network to learn the embeddings is exactly the same, only it will be optimizing for a slightly different measure."
   ]
  },
  {
   "cell_type": "code",
   "execution_count": null,
   "metadata": {
    "_uuid": "14b8c88d486486cab0bb93f12250df94ed787598"
   },
   "outputs": [],
   "source": [
    "model_class = book_embedding_model(50, classification = True)\n",
    "gen = generate_batch(pairs, n_positive, negative_ratio=2, classification = True)"
   ]
  },
  {
   "cell_type": "code",
   "execution_count": null,
   "metadata": {
    "_uuid": "bf74022e63430789c692617dafa2e21a95a1f7e2"
   },
   "outputs": [],
   "source": [
    "# Train the model to learn embeddings\n",
    "h = model_class.fit_generator(gen, epochs = 15, steps_per_epoch= len(pairs) // n_positive,\n",
    "                            verbose = 0)"
   ]
  },
  {
   "cell_type": "markdown",
   "metadata": {
    "_uuid": "d6f7b2deea74d0babf591ef42967acd7298e77f0"
   },
   "source": [
    "We'll go through the same process, extracting the weights and finding similar books based on the embedding space representation."
   ]
  },
  {
   "cell_type": "code",
   "execution_count": null,
   "metadata": {
    "_uuid": "2f413afb3be7800c6b0b379b535a6789b6cb2d2e"
   },
   "outputs": [],
   "source": [
    "model_class.save('first_attempt_class.h5')"
   ]
  },
  {
   "cell_type": "code",
   "execution_count": null,
   "metadata": {
    "_uuid": "b2e8374a973907df1ec4f4311daa7cd7729f96c2"
   },
   "outputs": [],
   "source": [
    "book_weights_class = extract_weights('book_embedding', model_class)\n",
    "book_weights_class.shape"
   ]
  },
  {
   "cell_type": "code",
   "execution_count": null,
   "metadata": {
    "_uuid": "598946fdf11731440e6e4dd4854cef337e73a4c8"
   },
   "outputs": [],
   "source": [
    "find_similar('War and Peace', book_weights_class, n = 5)"
   ]
  },
  {
   "cell_type": "code",
   "execution_count": null,
   "metadata": {
    "_uuid": "02fb8831ecc35b91e6785d6015b705400969f4dd"
   },
   "outputs": [],
   "source": [
    "find_similar('The Fellowship of the Ring', book_weights_class, n = 5)"
   ]
  },
  {
   "cell_type": "code",
   "execution_count": null,
   "metadata": {
    "_uuid": "353cf306f45cb66d0ec6d23a6d4f7ab133fb0a20"
   },
   "outputs": [],
   "source": [
    "find_similar('The Better Angels of Our Nature', book_weights_class, n = 5)"
   ]
  },
  {
   "cell_type": "markdown",
   "metadata": {
    "_uuid": "2f4c138eeb5c952bd036ba0cf20b11fe1bc02ad7"
   },
   "source": [
    "Things are looking pretty good with this model as well. It's hard to tell if this model is \"better\" than the regression model in the sense that the recommendations are improved. I would say that both are useful in surfacing similar books and pages.\n",
    "\n",
    "Let's take a look at the link recommendations for this model."
   ]
  },
  {
   "cell_type": "code",
   "execution_count": null,
   "metadata": {
    "_uuid": "2c31b4b60a53f56ed9e95b4b973665906a2a6b4a"
   },
   "outputs": [],
   "source": [
    "link_weights_class = extract_weights('link_embedding', model_class)"
   ]
  },
  {
   "cell_type": "code",
   "execution_count": null,
   "metadata": {
    "_uuid": "d2068f97be04560e0fdd669d3b5dec7f1d8ad6cc"
   },
   "outputs": [],
   "source": [
    "find_similar('the washington post', link_weights_class, index_name = 'page', n = 5)"
   ]
  },
  {
   "cell_type": "code",
   "execution_count": null,
   "metadata": {
    "_uuid": "7a53320df988ccd697379ad5256d2d6d283447cd"
   },
   "outputs": [],
   "source": [
    "find_similar('category:almanacs', link_weights_class, index_name = 'page', n = 5)"
   ]
  },
  {
   "cell_type": "code",
   "execution_count": null,
   "metadata": {
    "_uuid": "add83eaa721dc9abd75d5a92953a4116f4f53723"
   },
   "outputs": [],
   "source": [
    "find_similar('steven pinker', link_weights_class, index_name = 'page', n = 5)"
   ]
  },
  {
   "cell_type": "code",
   "execution_count": null,
   "metadata": {
    "_uuid": "e1ba203dc1c386ab7faf2c3ce5046386e3891c18"
   },
   "outputs": [],
   "source": [
    "find_similar('richard dawkins', link_weights_class, index_name = 'page', n = 5)"
   ]
  },
  {
   "cell_type": "markdown",
   "metadata": {
    "_uuid": "7601b3b10317cde88979f9df68be5d89107bbd9d"
   },
   "source": [
    "Looks like I have some new topics to explore!"
   ]
  },
  {
   "cell_type": "markdown",
   "metadata": {
    "_uuid": "bf4d5b8b28425a1264ba1ed51822b60074078205"
   },
   "source": [
    "# Visualizations\n",
    "\n",
    "One of the most interesting parts about embeddings is that we can use them to visualize concepts such as _War and Peace_ or _biography_. First we have to take the embeddings from 50 dimensions down to either 3 or 2. We can do this using `pca`, `tsne`, or `umap`. We'll try both tsne and umap for comparison. TSNE takes much longer and is designed to retain local structure within the data. UMAP is generally quicker and is designed for a balance between local and global structure in the embedding.\n",
    "\n",
    "## Manifold Embeddings\n",
    "\n",
    "[TSNE: t-Stochastic Distributed Neighbors Embedding](https://lvdmaaten.github.io/tsne/), and [UMAP: Uniform Manifold Approximation and Projection](https://github.com/lmcinnes/umap), are both methods that use the idea of a manifold to map vecotrs to a lower dimensional embedded space. Therefore, we are taking the 37,000 dimensions in the case of books, embedding them to 50 dimensions with the neural network, and then embedding them down to 2 dimensions with a manifold. The primary idea behind dimension reduction with a manifold is that there is a lower dimensional representation of the vectors that can still capture the variation between different groups. We want the embeddings to represent similar entities close to one another but in fewer dimensions that allow us to visualize the entities. "
   ]
  },
  {
   "cell_type": "code",
   "execution_count": null,
   "metadata": {
    "_uuid": "3d7f46c98e0edfb825f3359c359e64a32207be03"
   },
   "outputs": [],
   "source": [
    "from sklearn.manifold import TSNE\n",
    "from umap import UMAP"
   ]
  },
  {
   "cell_type": "code",
   "execution_count": null,
   "metadata": {
    "_uuid": "bc297c4a6a87a56784d645ac6502efeb4355d615"
   },
   "outputs": [],
   "source": [
    "def reduce_dim(weights, components = 3, method = 'tsne'):\n",
    "    \"\"\"Reduce dimensions of embeddings\"\"\"\n",
    "    if method == 'tsne':\n",
    "        return TSNE(components, metric = 'cosine').fit_transform(weights)\n",
    "    elif method == 'umap':\n",
    "        # Might want to try different parameters for UMAP\n",
    "        return UMAP(n_components=components, metric = 'cosine', \n",
    "                    init = 'random', n_neighbors = 5).fit_transform(weights)"
   ]
  },
  {
   "cell_type": "code",
   "execution_count": null,
   "metadata": {
    "_uuid": "e65e7465d561cb9a97e06225a083281688f73b3e"
   },
   "outputs": [],
   "source": [
    "book_r = reduce_dim(book_weights_class, components = 2, method = 'tsne')\n",
    "book_r.shape"
   ]
  },
  {
   "cell_type": "markdown",
   "metadata": {
    "_uuid": "f3e58f9365e33797e3174ec4271ae65e45c67ed7"
   },
   "source": [
    "We've now taken the initial 37,000 dimension book vector and reduced it to just 2 dimensions."
   ]
  },
  {
   "cell_type": "code",
   "execution_count": null,
   "metadata": {
    "_uuid": "b4b4a50ae9b0f230d1b96829edacf78895dca732"
   },
   "outputs": [],
   "source": [
    "InteractiveShell.ast_node_interactivity = 'last'\n",
    "\n",
    "plt.figure(figsize = (10, 8))\n",
    "plt.plot(book_r[:, 0], book_r[:, 1], 'r.')\n",
    "plt.xlabel('TSNE 1'); plt.ylabel('TSNE 2'); plt.title('Book Embeddings Visualized with TSNE');"
   ]
  },
  {
   "cell_type": "markdown",
   "metadata": {
    "_uuid": "fd216aaf04681e2cb0ebe95de84cd11c1cd44e0f"
   },
   "source": [
    "There do appear to be a few noticeable clumps. However, it's difficult to derive any meaning from this plot since we aren't distinguishing books in any way."
   ]
  },
  {
   "cell_type": "code",
   "execution_count": null,
   "metadata": {
    "_uuid": "ca047e00fba8a5e21981b195c9335ed7af85d70a"
   },
   "outputs": [],
   "source": [
    "book_ru = reduce_dim(book_weights_class, components = 2, method = 'umap')\n",
    "\n",
    "plt.figure(figsize = (10, 8))\n",
    "plt.plot(book_ru[:, 0], book_ru[:, 1], 'g.');\n",
    "plt.xlabel('UMAP 1'); plt.ylabel('UMAP 2'); plt.title('Book Embeddings Visualized with UMAP');"
   ]
  },
  {
   "cell_type": "markdown",
   "metadata": {
    "_uuid": "3ddc0477972ed4a4a0387a2cba5230370f5a59bc"
   },
   "source": [
    "### Book Embeddings by Genre\n",
    "\n",
    "The above graphs are difficult to interpret. Let's plot the embeddings by the `genre` which is contained in the `Infobox` template data for each book. We'll limit it to the 10 most popular genres."
   ]
  },
  {
   "cell_type": "code",
   "execution_count": null,
   "metadata": {
    "_uuid": "b79e1b4bbf9271ef20b92c634ffbed8852acc138"
   },
   "outputs": [],
   "source": [
    "info = list(chain(*[set(book[1]) for book in books]))\n",
    "info_counts = count_items(info)\n",
    "list(info_counts.items())[:10]"
   ]
  },
  {
   "cell_type": "code",
   "execution_count": null,
   "metadata": {
    "_uuid": "ae944e4568e5ec1b93b5dd3a6b18f4f5de0eb6d4"
   },
   "outputs": [],
   "source": [
    "genres = [book[1].get('genre', 'None').lower() for book in books]\n",
    "\n",
    "# Remove genres not found\n",
    "genre_counts = count_items(genres)\n",
    "del genre_counts['none']\n",
    "list(genre_counts.items())[:10]"
   ]
  },
  {
   "cell_type": "code",
   "execution_count": null,
   "metadata": {
    "_uuid": "315cf7d4000b2298968c2b79a27faebc9329c67b"
   },
   "outputs": [],
   "source": [
    "# Include 10 most popular genres\n",
    "genre_to_include = list(genre_counts.keys())[:10]"
   ]
  },
  {
   "cell_type": "code",
   "execution_count": null,
   "metadata": {
    "_uuid": "fb11ae6b2cc29e16047a6f95fef463b7717fa878"
   },
   "outputs": [],
   "source": [
    "idx_include = []\n",
    "genres = []\n",
    "\n",
    "for i, book in enumerate(books):\n",
    "    if 'genre' in book[1].keys():\n",
    "        if book[1]['genre'].lower() in genre_to_include:\n",
    "            idx_include.append(i)\n",
    "            genres.append(book[1]['genre'].capitalize())\n",
    "            \n",
    "len(idx_include)"
   ]
  },
  {
   "cell_type": "markdown",
   "metadata": {
    "_uuid": "7d9b1e86bdb192ebc025b0edd25eb4d1b36a25a4"
   },
   "source": [
    "Now we need to map the genres to integers to plot them as colors. "
   ]
  },
  {
   "cell_type": "code",
   "execution_count": null,
   "metadata": {
    "_uuid": "f6f4e5a662eabe3b8d8ee4b2b82818737df9adb4"
   },
   "outputs": [],
   "source": [
    "ints, gen = pd.factorize(genres)\n",
    "gen[:5]"
   ]
  },
  {
   "cell_type": "markdown",
   "metadata": {
    "_uuid": "17949af6ec68e39ff9f746fceee1ca126d649001"
   },
   "source": [
    "Finally, we can plot the embedding colored by the genre"
   ]
  },
  {
   "cell_type": "code",
   "execution_count": null,
   "metadata": {
    "_uuid": "02283a288086f359843af605e5be137d870357b6"
   },
   "outputs": [],
   "source": [
    "plt.figure(figsize = (10, 8))\n",
    "\n",
    "# Plot embedding\n",
    "plt.scatter(book_r[idx_include, 0], book_r[idx_include, 1], \n",
    "            c = ints, cmap = plt.cm.tab10)\n",
    "\n",
    "# Add colorbar and appropriate labels\n",
    "cbar = plt.colorbar()\n",
    "cbar.set_ticks([])\n",
    "for j, lab in enumerate(gen):\n",
    "    cbar.ax.text(1, (2 * j + 1) / ((10) * 2), lab, ha='left', va='center')\n",
    "cbar.ax.set_title('Genre', loc = 'left')\n",
    "\n",
    "\n",
    "plt.xlabel('TSNE 1'); plt.ylabel('TSNE 2'); plt.title('TSNE Visualization of Book Embeddings');"
   ]
  },
  {
   "cell_type": "markdown",
   "metadata": {
    "_uuid": "26b833936c0f40e7d227e5617437ec6553d6c1f9"
   },
   "source": [
    "The books do seem to be slightly separated based on the genre. The categories aren't exactly that helpful but we did what we could! We can also try UMAP. "
   ]
  },
  {
   "cell_type": "code",
   "execution_count": null,
   "metadata": {
    "_uuid": "5209a9dc61f731c0e54a30f76b2dcef334fc3015"
   },
   "outputs": [],
   "source": [
    "plt.figure(figsize = (10, 8))\n",
    "\n",
    "# Plot embedding\n",
    "plt.scatter(book_ru[idx_include, 0], book_ru[idx_include, 1], \n",
    "            c = ints, cmap = plt.cm.tab10)\n",
    "\n",
    "# Add colorbar and appropriate labels\n",
    "cbar = plt.colorbar()\n",
    "cbar.set_ticks([])\n",
    "for j, lab in enumerate(gen):\n",
    "    cbar.ax.text(1, (2 * j + 1) / ((10) * 2), lab, ha='left', va='center')\n",
    "cbar.ax.set_title('Genre', loc = 'left')\n",
    "\n",
    "\n",
    "plt.xlabel('UMAP 1'); plt.ylabel('UMAP 2'); plt.title('UMAP Visualization of Book Embeddings');"
   ]
  },
  {
   "cell_type": "markdown",
   "metadata": {
    "_uuid": "422d010f7c99008b343178bc503a0383319bfeca"
   },
   "source": [
    "There doesn't appear to be much separation between the categories in the UMAP clustering. There are a lot of parameters to play around with in UMAP, and changing some of them might result in better clusters."
   ]
  },
  {
   "cell_type": "markdown",
   "metadata": {
    "_uuid": "bcdd1ed1abf6b95c9072547483740ef4aacf79a8"
   },
   "source": [
    "## Most Popular Books in Embedding\n",
    "\n",
    "Let's see the embedding labeled with the 10 books most often mentioned by other books. "
   ]
  },
  {
   "cell_type": "code",
   "execution_count": null,
   "metadata": {
    "_uuid": "d3634330a3754125603fec1b0e72cc27210cd330"
   },
   "outputs": [],
   "source": [
    "plt.figure(figsize = (14, 12))\n",
    "\n",
    "# Plot all books\n",
    "plt.scatter(book_r[:, 0], book_r[:, 1], marker = '.', color = 'lightblue', alpha = 0.2)\n",
    "\n",
    "# Plot genres\n",
    "plt.scatter(book_r[idx_include, 0], book_r[idx_include, 1], \n",
    "            c = ints, cmap = plt.cm.tab10, alpha = 0.6)\n",
    "\n",
    "# Add colorbar and appropriate labels\n",
    "cbar = plt.colorbar()\n",
    "cbar.set_ticks([])\n",
    "for j, lab in enumerate(gen):\n",
    "    cbar.ax.text(1, (2 * j + 1) / ((10) * 2), lab, ha='left', va='center')\n",
    "    \n",
    "cbar.ax.set_title('Genre', loc = 'left')\n",
    "plt.xlabel('TSNE 1'); plt.ylabel('TSNE 2'); plt.title('TSNE Visualization of Book Embeddings');\n",
    "\n",
    "for book in list(wikilink_book_counts.keys())[:10]:\n",
    "    \n",
    "    x, y = book_r[book_index[book], 0], book_r[book_index[book], 1];\n",
    "    # Italize book title using latex\n",
    "    s =  ''.join([' $\\it{' + word + '}$' for word in book.split()])\n",
    "    _ = plt.scatter(x, y, s = 250, color = 'r',\n",
    "                    marker = '*', edgecolor = 'k')\n",
    "    _ = plt.text(x - 10, y + 2, s, fontsize = 14);\n"
   ]
  },
  {
   "cell_type": "markdown",
   "metadata": {
    "_uuid": "750e150bf6f258c49c17bb085a50c89c3a9873cd"
   },
   "source": [
    "The `Encyclopedia`s of Science Fiction and Fantasy have nearly perfect overlap. "
   ]
  },
  {
   "cell_type": "code",
   "execution_count": null,
   "metadata": {
    "_uuid": "54d3d6a08409295263b91b9dccb365f0b97344b4"
   },
   "outputs": [],
   "source": [
    "book_r[book_index['The Encyclopedia of Science Fiction']]"
   ]
  },
  {
   "cell_type": "code",
   "execution_count": null,
   "metadata": {
    "_uuid": "9455f1fc36f0b4d5a43a10fc8294ec454fb2bf0f"
   },
   "outputs": [],
   "source": [
    "book_r[book_index['The Encyclopedia of Fantasy']]"
   ]
  },
  {
   "cell_type": "markdown",
   "metadata": {
    "_uuid": "84f30f980764f6a566166ab79c65821b51d3b0bd"
   },
   "source": [
    "Let's make a function that can color the plot by any attribute in the book infobox. We already saw this with the genre, but we can extend it to the author or any other information."
   ]
  },
  {
   "cell_type": "code",
   "execution_count": null,
   "metadata": {
    "_uuid": "99b2b25c8a7286f6c28cbb7e696e21975351d043"
   },
   "outputs": [],
   "source": [
    "def plot_by_attribute(attribute):\n",
    "    \"\"\"Color book embedding by `attribute`\"\"\"\n",
    "    # Find all the attribute values\n",
    "    attrs = [book[1].get(attribute, 0) for book in books]\n",
    "\n",
    "    # Remove attributes not found\n",
    "    attr_counts = count_items(attrs)\n",
    "    del attr_counts[0]\n",
    "    \n",
    "    # Include 10 most popular attributes\n",
    "    attr_to_include, counts = list(attr_counts.keys())[:10], list(attr_counts.values())[:10]\n",
    "    \n",
    "    idx_include = []\n",
    "    attributes = []\n",
    "\n",
    "    # Iterate through books searching for the attribute\n",
    "    for i, book in enumerate(books):\n",
    "        # Limit to books with the attribute\n",
    "        if attribute in book[1].keys():\n",
    "            # Limit to attribute in the 10 most popular\n",
    "            if book[1][attribute] in attr_to_include:\n",
    "                idx_include.append(i)\n",
    "                attributes.append(book[1][attribute])\n",
    "                \n",
    "    # Map to integers\n",
    "    ints, attrs = pd.factorize(attributes)\n",
    "    plt.figure(figsize = (12, 10))\n",
    "\n",
    "    plt.scatter(book_r[:, 0], book_r[:, 1], marker = '.', color = 'lightblue', alpha = 0.2)\n",
    "    \n",
    "    # Plot embedding with only specific attribute highlighted\n",
    "    plt.scatter(book_r[idx_include, 0], book_r[idx_include, 1], alpha = 0.6,\n",
    "                c = ints, cmap = plt.cm.tab10, marker = 'o', s = 50)\n",
    "\n",
    "    # Add colorbar and appropriate labels\n",
    "    cbar = plt.colorbar()\n",
    "    cbar.set_ticks([])\n",
    "    tick_labels = [f'{attr}: {count}' for attr, count in zip(attr_to_include, counts)]\n",
    "    # Labeling\n",
    "    for j, lab in enumerate(tick_labels):\n",
    "        cbar.ax.text(1, (2 * j + 1) / ((10) * 2), lab, ha='left', va='center')\n",
    "    cbar.ax.set_title(f'{attribute.capitalize()}: Count', loc = 'left')\n",
    "\n",
    "\n",
    "    plt.xlabel('TSNE 1'); plt.ylabel('TSNE 2'); plt.title(f'Book Embeddings with {attribute.capitalize()}');"
   ]
  },
  {
   "cell_type": "code",
   "execution_count": null,
   "metadata": {
    "_uuid": "c85d152b8889930483f72c96e582f14f1178cb25"
   },
   "outputs": [],
   "source": [
    "plot_by_attribute('genre')"
   ]
  },
  {
   "cell_type": "code",
   "execution_count": null,
   "metadata": {
    "_uuid": "b6ef3c6afd2da5412529c6804b2b0736158131a1"
   },
   "outputs": [],
   "source": [
    "plot_by_attribute('author')"
   ]
  },
  {
   "cell_type": "code",
   "execution_count": null,
   "metadata": {
    "_uuid": "4c746651cdb948b8cc92e167c6a085a59418529f"
   },
   "outputs": [],
   "source": [
    "plot_by_attribute('country')"
   ]
  },
  {
   "cell_type": "code",
   "execution_count": null,
   "metadata": {
    "_uuid": "4bd9a3d9f0d676930f79ce9f7ac5ecb62603b49a"
   },
   "outputs": [],
   "source": [
    "plot_by_attribute('language')"
   ]
  },
  {
   "cell_type": "markdown",
   "metadata": {
    "_uuid": "e7f1a052d1ab151183c6148534909bbb616bd360"
   },
   "source": [
    "The best clumpings are probably by genre although the countries also appear to be separated. For the language and country, it might be more accurate to do this will book articles on Wikipedias other than just the English version."
   ]
  },
  {
   "cell_type": "markdown",
   "metadata": {
    "_uuid": "f7d2ead8fbefab31e3f42849373b7721b6931c68"
   },
   "source": [
    "Another option we have to try and make sense of this data is plot books that originally were closest together in the original embedding space. Reducing the dimensions to 2 may distort the distances between similar books in the 50 dimensional space."
   ]
  },
  {
   "cell_type": "markdown",
   "metadata": {
    "_uuid": "0ac056a00fbbbb58e62ee06067fc7678eda8e033"
   },
   "source": [
    "## Plot Book Nearest Neighbors\n",
    "\n",
    "To get a better sense of which books are located where, we can plot a book along with its nearest neighbors. These will be the nearest neighbors in the original embedding space, so they are not necessarily the closest in the reduced dimension representation."
   ]
  },
  {
   "cell_type": "code",
   "execution_count": null,
   "metadata": {
    "_uuid": "d2490196f70b592797fcd35d957a571d7da4bf9e"
   },
   "outputs": [],
   "source": [
    "def plot_closest(item, weights, index_name, n, plot_data):\n",
    "    \"\"\"Plot n most closest items to item\"\"\"\n",
    "    \n",
    "    # Find the closest items\n",
    "    dist, closest = find_similar(item, weights, index_name, n, return_dist=True)\n",
    "    \n",
    "    # Choose mapping for look up\n",
    "    if index_name == 'book':\n",
    "        index = book_index\n",
    "        rindex = index_book\n",
    "    elif index_name == 'page':\n",
    "        index = link_index\n",
    "        rindex = index_link \n",
    "    \n",
    "    plt.figure(figsize = (10, 9))\n",
    "    plt.rcParams['font.size'] = 14\n",
    "    \n",
    "    # Limit distances\n",
    "    dist = dist[closest]\n",
    "    \n",
    "    # Plot all of the data\n",
    "    plt.scatter(plot_data[:, 0], plot_data[:, 1], alpha = 0.1, color = 'goldenrod')\n",
    "    \n",
    "    # Plot the item\n",
    "    plt.scatter(plot_data[closest[-1], 0], plot_data[closest[-1], 1], s = 600, edgecolor = 'k', color = 'forestgreen')\n",
    "    \n",
    "    # Plot the closest items\n",
    "    p = plt.scatter(plot_data[closest[:-1], 0], plot_data[closest[:-1], 1], \n",
    "                c = dist[:-1], cmap = plt.cm.RdBu_r, s = 200, alpha = 1, marker = '*')\n",
    "    \n",
    "    # Colorbar management\n",
    "    cbar = plt.colorbar()\n",
    "    cbar.set_ticks([])\n",
    "    \n",
    "    tick_labels = []\n",
    "    # Tick labeling for colorbar\n",
    "    for idx, distance in zip(closest[:-1], dist[:-1]):\n",
    "        name_str = ''\n",
    "        for word in rindex[idx].split():\n",
    "            # Title uses latex for italize\n",
    "            name_str += ' $\\it{' + word + '}$'\n",
    "        name_str += ': ' + str(round(distance, 2))\n",
    "        tick_labels.append(name_str)\n",
    "    \n",
    "    for j, lab in enumerate(tick_labels):\n",
    "        cbar.ax.text(1, (2 * j + 1) / ((n - 1) * 2), lab, ha='left', va='center', size = 12)\n",
    "    cbar.ax.set_title(f'{index_name.capitalize()} and Cosine Distance', loc = 'left', size = 14)\n",
    "    \n",
    "    # Formatting for italicized title\n",
    "    name_str = f'{index_name.capitalize()}s Most Similar to'\n",
    "    for word in item.split():\n",
    "        # Title uses latex for italize\n",
    "        name_str += ' $\\it{' + word + '}$'\n",
    "    \n",
    "    # Labeling\n",
    "    plt.xlabel('TSNE 1'); plt.ylabel('TSNE 2'); \n",
    "    plt.title(name_str);"
   ]
  },
  {
   "cell_type": "code",
   "execution_count": null,
   "metadata": {
    "_uuid": "4ad205a579ee8df9d197e6d8b94fcf1ef04f7aa7"
   },
   "outputs": [],
   "source": [
    "plot_closest('War and Peace', book_weights_class, 'book', 10, book_r)"
   ]
  },
  {
   "cell_type": "markdown",
   "metadata": {
    "_uuid": "cd728c2eda9b6bb103716169437e939038e74edb"
   },
   "source": [
    "We can see that even though these are the closest books in the 50-dimensional embedding space, when we reduce it down to 2 dimensions, the same separations are not preserved. "
   ]
  },
  {
   "cell_type": "code",
   "execution_count": null,
   "metadata": {
    "_uuid": "3f03e9588187709f2613d693a30528db7690ebbf"
   },
   "outputs": [],
   "source": [
    "plot_closest('A Brief History of Time', book_weights_class, 'book', 10, book_r)"
   ]
  },
  {
   "cell_type": "markdown",
   "metadata": {
    "_uuid": "fa3a7aaf6a3f1c57a282274241cb8157d5a44e94"
   },
   "source": [
    "This time, we get a much better grouping! I guess we have found the corner of Wikipedia books about the entirety of the universe."
   ]
  },
  {
   "cell_type": "markdown",
   "metadata": {
    "_uuid": "3f4a86f903a5d4b36dc5d331115180c9a1f7089a"
   },
   "source": [
    "## Pages Visualization\n",
    "\n",
    "Let's look at reducing the dimension of the embedding for the wikilinks. We'll then visualize them in the same way as with the books."
   ]
  },
  {
   "cell_type": "code",
   "execution_count": null,
   "metadata": {
    "_uuid": "1c25966a255f7dede94509965c4b874080aed28b"
   },
   "outputs": [],
   "source": [
    "link_r = reduce_dim(link_weights_class, components = 2, method = 'tsne')\n",
    "link_r.shape"
   ]
  },
  {
   "cell_type": "markdown",
   "metadata": {
    "_uuid": "4653214a4c8433c4b43fe9b522490676550ea1e6"
   },
   "source": [
    "We'll get the 10 most popular categories so we can plot them on the embedding."
   ]
  },
  {
   "cell_type": "code",
   "execution_count": null,
   "metadata": {
    "_uuid": "beb6f62a8f6267adda253c8d873cb3664bcde4e4"
   },
   "outputs": [],
   "source": [
    "idx_to_include = [idx for link, idx in link_index.items() if 'category:' in link]\n",
    "\n",
    "categories = []\n",
    "\n",
    "for book in books:\n",
    "    for link in book[2]:\n",
    "        if 'category:' in link.lower():\n",
    "            categories.append(link)\n",
    "            \n",
    "c_counts = count_items(categories)\n",
    "list(c_counts.items())[:5]"
   ]
  },
  {
   "cell_type": "code",
   "execution_count": null,
   "metadata": {
    "_uuid": "b00ff6ad49d472fc44c4b1870cd85f26a0b9cbf4"
   },
   "outputs": [],
   "source": [
    "idx = []\n",
    "\n",
    "# Find the index of the most popular links\n",
    "for link in list(c_counts.keys())[:10]:\n",
    "    link_idx = link_index[link.lower()]\n",
    "    \n",
    "    # Find index of category \n",
    "    index = int(np.where(np.array(idx_to_include) == link_idx)[0])\n",
    "    idx.append(index)"
   ]
  },
  {
   "cell_type": "markdown",
   "metadata": {
    "_uuid": "57bd5358e6699a39dc81b89c3f732ff82807d5fc"
   },
   "source": [
    "The next image shows all the link embedded with the 10 most popular categories labeled."
   ]
  },
  {
   "cell_type": "code",
   "execution_count": null,
   "metadata": {
    "_uuid": "e1b1c74786220fe27519bc928e04bbfe43b11253"
   },
   "outputs": [],
   "source": [
    "plt.figure(figsize = (12, 12))\n",
    "plt.scatter(link_r[:, 0], link_r[:, 1], alpha = 0.6)\n",
    "\n",
    "for i in idx:\n",
    "    x, y = link_r[i, 0], link_r[i, 1]\n",
    "    s = index_link[idx_to_include[i]].split(':')[-1]\n",
    "    _ = plt.text(x, y, s, fontsize = 18);\n",
    "    \n",
    "plt.xlabel('TSNE 1'); plt.ylabel('TSNE 2'); plt.title('Wikilinks Category Embedding Visualized with TSNE');"
   ]
  },
  {
   "cell_type": "markdown",
   "metadata": {
    "_uuid": "fda48fc4a439a49681aa5198fd51f9a023bcbb7b"
   },
   "source": [
    "We do see some clumpings, but it's difficult to label them. If this was interactive, then we could get a lot more use from it. (This will be an upcoming topic for an article)."
   ]
  },
  {
   "cell_type": "markdown",
   "metadata": {
    "_uuid": "703835ef1406d52bcd736a7cb7f82a492ce5cb39"
   },
   "source": [
    "We can also plot the closest pages to a given page. "
   ]
  },
  {
   "cell_type": "code",
   "execution_count": null,
   "metadata": {
    "_uuid": "93bae3d4c1f9693e420070762499eec47b1bca56"
   },
   "outputs": [],
   "source": [
    "plot_closest('new york times', link_weights_class, 'page', 10, link_r)"
   ]
  },
  {
   "cell_type": "code",
   "execution_count": null,
   "metadata": {
    "_uuid": "e971d5c50d8005a09941b342e595b7e2d20ac18f"
   },
   "outputs": [],
   "source": [
    "plot_closest('james joyce', link_weights_class, 'page', 10, link_r)"
   ]
  },
  {
   "cell_type": "code",
   "execution_count": null,
   "metadata": {
    "_uuid": "5ce1e755b3da41d0b50f2e003e2b522a5af1b61c"
   },
   "outputs": [],
   "source": [
    "plot_closest('margaret atwood', link_weights_class, 'page', 20, link_r)"
   ]
  },
  {
   "cell_type": "code",
   "execution_count": null,
   "metadata": {
    "_uuid": "3c092bbaa434f02ad64a162f04b0cda1571306ca"
   },
   "outputs": [],
   "source": [
    "plot_closest('leo tolstoy', link_weights_class, 'page', 20, link_r)"
   ]
  },
  {
   "cell_type": "markdown",
   "metadata": {
    "_uuid": "1ec103e40831a55d3c0990702d3cea5436bba462"
   },
   "source": [
    "## Plot Multiple Books and Pages"
   ]
  },
  {
   "cell_type": "markdown",
   "metadata": {
    "_uuid": "28d1b0bf4044236e753cad0f5160bb4b72f3351e"
   },
   "source": [
    "As a final visualization effort, we can try to identify clumpings of books or articles by plotting multiple books and those most similar. We'll show all of the embedding books in the background and then highlight the most similar books around a list of query books. "
   ]
  },
  {
   "cell_type": "code",
   "execution_count": null,
   "metadata": {
    "_uuid": "2ef6037aa66d924dda4d116a7de47797a12463cc"
   },
   "outputs": [],
   "source": [
    "def plot_groups(items, weights, embed, index_name = 'book', n = 5):\n",
    "    closest = []\n",
    "    dists = []\n",
    "    \n",
    "    # Select index and reverse index\n",
    "    if index_name == 'book':\n",
    "        index = book_index\n",
    "        rindex = index_book\n",
    "    elif index_name == 'page':\n",
    "        index = link_index\n",
    "        rindex = index_link\n",
    "    \n",
    "    for item in items:\n",
    "        d, c = find_similar(item, weights, index_name, n, return_dist = True)\n",
    "        d = d[c]\n",
    "        closest.extend(c)\n",
    "        dists.extend(d)\n",
    "        \n",
    "    ax = plt.figure(figsize = (10, 8))\n",
    "    p = plt.scatter(embed[:, 0], embed[:, 1], alpha = 0.2, marker = 'o', color =  'lightblue')\n",
    "\n",
    "    cmap = plt.cm.get_cmap('tab10_r', len(items))\n",
    "    color_list = []\n",
    "    \n",
    "    for i, item in enumerate(items):\n",
    "         # Plot the item\n",
    "        plt.scatter(embed[index[item], 0], embed[index[item], 1], \n",
    "                    s = 200, alpha = 0.4, edgecolor = 'k', color = cmap(i))\n",
    "        color_list.extend(i for _ in range(n))\n",
    "        \n",
    "    p = plt.scatter(embed[closest, 0], embed[closest, 1], c = color_list, cmap = cmap, s = 150,\n",
    "                    marker = '*', alpha = 0.8)\n",
    "\n",
    "    \n",
    "    cbar = plt.colorbar(p)\n",
    "    cbar.set_ticks([])\n",
    "    \n",
    "    tick_labels = []\n",
    "    # Tick labeling for colorbar\n",
    "    for item in items:\n",
    "        name_str = ''\n",
    "        for word in item.split():\n",
    "            # Title uses latex for italize\n",
    "            name_str += ' $\\it{' + word + '}$'\n",
    "        tick_labels.append(name_str)\n",
    "        \n",
    "    for j, lab in enumerate(tick_labels):\n",
    "        cbar.ax.text(1, (2 * j + 1) / (len(items) * 2), lab, ha='left', va='center', size = 12)\n",
    "    cbar.ax.set_title(f'Highlighted {index_name.capitalize()}s', loc = 'left', size = 14)\n",
    "    plt.xlabel('TSNE 1'); plt.ylabel('TSNE 2'); plt.title(f'Embedded {index_name.capitalize()}s with Closest Neighbors');"
   ]
  },
  {
   "cell_type": "code",
   "execution_count": null,
   "metadata": {
    "_uuid": "853614183e6eb4b96294e71a0cfafdb48f4b8e5a"
   },
   "outputs": [],
   "source": [
    "plot_groups(['War and Peace', \"The Once and Future King\", \n",
    "             \"Weapons of Math Destruction\", \"The Fellowship of the Ring\",\n",
    "             \"A Brief History of Time\", \"Enlightenment Now\"],\n",
    "            book_weights_class, book_r, 'book')"
   ]
  },
  {
   "cell_type": "code",
   "execution_count": null,
   "metadata": {
    "_uuid": "1819e267dcdf507aacbbbdd0bf5e8628b705f993"
   },
   "outputs": [],
   "source": [
    "plot_groups(['short stories', 'novel',\n",
    "            'biography', 'historical novel', \n",
    "             'science fiction', 'non-fiction'], \n",
    "            link_weights_class, link_r, 'page')"
   ]
  },
  {
   "cell_type": "code",
   "execution_count": null,
   "metadata": {
    "_uuid": "4b9ac0ebd30b8481322b1259fe528b19a4baed2f"
   },
   "outputs": [],
   "source": [
    "random.seed(150)\n",
    "plot_groups(list(random.sample(book_index.keys(), 6)),\n",
    "            book_weights_class, book_r, 'book')"
   ]
  },
  {
   "cell_type": "code",
   "execution_count": null,
   "metadata": {
    "_uuid": "2379c17721a064cbcff5dbbdf4f226f231e7bd85"
   },
   "outputs": [],
   "source": [
    "random.seed(150)\n",
    "plot_groups(list(random.sample(link_index.keys(), 6)), link_weights_class, link_r, 'page')"
   ]
  },
  {
   "cell_type": "markdown",
   "metadata": {
    "_uuid": "d5f050deecbf80b45cf9dc22b127d09479e06e75"
   },
   "source": [
    "### Save Embeddings for Visualization\n",
    "\n",
    "We can save these embeddings for visualization in [projector.tensorflow.org](https://projector.tensorflow.org/). In order to work with this tool, the files must be tab separated. First, we'll save the names and book info to use as metadata."
   ]
  },
  {
   "cell_type": "code",
   "execution_count": null,
   "metadata": {
    "_uuid": "ca1f97443262ca291f11d4d8c8e7c44478a4b435"
   },
   "outputs": [],
   "source": [
    "%%capture\n",
    "with open('link_names.tsv', 'w' , encoding = 'utf-8') as fout:\n",
    "    for l in link_index.keys():\n",
    "        fout.write(str(l))\n",
    "        fout.write('\\n')"
   ]
  },
  {
   "cell_type": "code",
   "execution_count": null,
   "metadata": {
    "_uuid": "0e36b6b28ed90f0ebc1936b9f5dc665c1863d452"
   },
   "outputs": [],
   "source": [
    "import re\n",
    "pattern = re.compile('[\\\\n]|<.*?>')\n",
    "pattern.sub('', 'bill moushey \\n < br >').strip()"
   ]
  },
  {
   "cell_type": "code",
   "execution_count": null,
   "metadata": {
    "_uuid": "30ddea3a2782adfb01f7d71870639ca4b66fddd4"
   },
   "outputs": [],
   "source": [
    "import re\n",
    "pattern = re.compile('[\\\\n]|<.*?>')\n",
    "\n",
    "# Extract book metadata\n",
    "authors = []\n",
    "genres = []\n",
    "pages = []\n",
    "languages = []\n",
    "countries = []\n",
    "publishers = []\n",
    "\n",
    "\n",
    "for book in books:\n",
    "    info = book[1]\n",
    "    for attr, l in zip(['author', 'genre', 'pages', 'langauge', 'country', 'publisher'],\n",
    "                        [authors, genres, pages, languages, countries, publishers]):\n",
    "        l.append(pattern.sub('', info.get(attr, 'None').lower()).strip())\n",
    "\n",
    "book_info = pd.DataFrame({'author': authors, 'genre': genres, 'pages': pages,\n",
    "                          'language': languages, 'country': countries,\n",
    "                          'publisher': publishers}, index = list(book_index.keys()))\n",
    "\n",
    "book_info = book_info.replace({'none': np.nan})\n",
    "book_info.index.name = 'title'\n",
    "book_info.head()"
   ]
  },
  {
   "cell_type": "code",
   "execution_count": null,
   "metadata": {
    "_uuid": "c01cf03310e2f5de1aa29a4fe8969aec39afbc2a"
   },
   "outputs": [],
   "source": [
    "book_info.to_csv('book_info.tsv', sep = '\\t')"
   ]
  },
  {
   "cell_type": "markdown",
   "metadata": {
    "_uuid": "c24e8d9b3be459abfad0ad5517f4973e054d23f5"
   },
   "source": [
    "The book embeddings and link embeddings can be saved as tab separated files. We'll save all 50 dimensions of the embeddings because the tool will perform PCA (principal components analysis) or TSNE for us."
   ]
  },
  {
   "cell_type": "code",
   "execution_count": null,
   "metadata": {
    "_uuid": "cad1b824fe5de39ed087b88d7a4090cd83186737"
   },
   "outputs": [],
   "source": [
    "np.savetxt('book_embedding.tsv', book_weights_class, delimiter='\\t')\n",
    "np.savetxt('link_embedding.tsv', link_weights_class, delimiter='\\t')"
   ]
  },
  {
   "cell_type": "code",
   "execution_count": null,
   "metadata": {
    "_uuid": "141a5ee53e10d3b886bee83039a81c3b75b39c16"
   },
   "outputs": [],
   "source": [
    "book_embedding = np.loadtxt('book_embedding.tsv', delimiter = '\\t')\n",
    "book_embedding.shape"
   ]
  },
  {
   "cell_type": "markdown",
   "metadata": {
    "_uuid": "a74c7a668bf8edb2dd6fb8803f313bbc696492b3"
   },
   "source": [
    "# Conclusions\n",
    "\n",
    "In this notebook, we built an effective book recommendation system using the principle that books with similar outgoing links are similar and all of the book articles on Wikipedia. We embedded both the wikilinks and the books using a neural networ. To train the neural network, we developed a supervised machine learning problem of classifying if a given link was present on the page for a book.\n",
    "\n",
    "More than just training the neural network, we saw how to thoroughly inspect the embeddings in order to find the closest books to a given book in embedding space. We also saw how to visualize the embeddings which sometimes can show us interesting clusterings. In the process, we took the original 37,000 dimensions of the books and reduced it first to 50 using the neural network and then to 2 using a manifold learning method. The neural network embedding was useful for making recommendations based on closest entities while the TSNE embedding is useful primarily for visualization.\n",
    "\n",
    "We covered a number of topics that may be useful in a data science position:\n",
    "\n",
    "1. How to clean data for a machine learning project\n",
    "2. How to set up a supervised learning task from a raw dataset\n",
    "3. How to train a neural network to learn entity embeddings\n",
    "4. How to inspect entity embeddings to find closest entities to a query\n",
    "5. How to reduce the dimension of a dataset for visualization\n",
    "6. How to format a plot to try and make sense of the data (we'll work a little more on this)\n",
    "\n",
    "The next step that I'll work on is to visualize these embeddings in an interactive tool. Interactivity adds another element of insightto data analysis and I enjoy the exploratory nature of plots that let you move through the data. \n",
    "\n",
    "## Potential Other Projects\n",
    "\n",
    "There are several ways you can take this and build on it:\n",
    "\n",
    "1. Train the embeddings using not the internal links, but the external links\n",
    "2. Train the embeddings using the infobox information. This would require framing a different machine learning problem\n",
    "3. Make a recommendation system for other wikipedia articles such as people or landmarks.\n",
    "4. Adjust the parameters of the models and data cleaning in this notebook to arrive at any other insights.\n",
    "\n",
    "The most important part about learning data science is to practice data science! Therefore, I encourage anyone to alter this notebook, build on the code, share it with others, and best of all, teach it to others! The best way to learn is by doing and then teaching, so get started! \n",
    "\n",
    "Best,\n",
    "\n",
    "Will"
   ]
  },
  {
   "cell_type": "code",
   "execution_count": null,
   "metadata": {
    "_uuid": "c253c0e8100fccf3241f39d631abb63c748980dd"
   },
   "outputs": [],
   "source": []
  }
 ],
 "metadata": {
  "kernelspec": {
   "display_name": "Python 3 (ipykernel)",
   "language": "python",
   "name": "python3"
  },
  "language_info": {
   "codemirror_mode": {
    "name": "ipython",
    "version": 3
   },
   "file_extension": ".py",
   "mimetype": "text/x-python",
   "name": "python",
   "nbconvert_exporter": "python",
   "pygments_lexer": "ipython3",
   "version": "3.8.10"
  }
 },
 "nbformat": 4,
 "nbformat_minor": 4
}
