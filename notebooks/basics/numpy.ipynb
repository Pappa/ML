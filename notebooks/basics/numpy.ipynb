{
 "cells": [
  {
   "cell_type": "markdown",
   "id": "548aaf24-d896-4424-beba-1c90f43cad2e",
   "metadata": {},
   "source": [
    "# Numpy\n",
    "\n",
    "Quickstart tutorial: https://numpy.org/doc/stable/user/quickstart.html"
   ]
  },
  {
   "cell_type": "code",
   "execution_count": 10,
   "id": "5e14b168-9cb1-4bb5-b7b8-d07b07fe39f9",
   "metadata": {},
   "outputs": [],
   "source": [
    "import numpy as np\n",
    "import matplotlib.pyplot as plt"
   ]
  },
  {
   "cell_type": "code",
   "execution_count": 11,
   "id": "458a1802-505d-483e-aedb-f6667766b7dc",
   "metadata": {},
   "outputs": [
    {
     "name": "stdout",
     "output_type": "stream",
     "text": [
      "dims: 0\n",
      "shape: ()\n"
     ]
    },
    {
     "data": {
      "text/plain": [
       "array(5)"
      ]
     },
     "execution_count": 11,
     "metadata": {},
     "output_type": "execute_result"
    }
   ],
   "source": [
    "# 0d\n",
    "arr = np.array(5)\n",
    "print(f\"dims: {arr.ndim}\")\n",
    "print(f\"shape: {arr.shape}\")\n",
    "arr"
   ]
  },
  {
   "cell_type": "code",
   "execution_count": 12,
   "id": "5c570074-15ff-414f-b744-cd9da421bc86",
   "metadata": {},
   "outputs": [
    {
     "name": "stdout",
     "output_type": "stream",
     "text": [
      "shape: (5,)\n"
     ]
    },
    {
     "data": {
      "text/plain": [
       "array([0, 1, 2, 3, 4])"
      ]
     },
     "execution_count": 12,
     "metadata": {},
     "output_type": "execute_result"
    }
   ],
   "source": [
    "# 1d\n",
    "arr = np.arange(5)\n",
    "print(f\"shape: {arr.shape}\")\n",
    "arr"
   ]
  },
  {
   "cell_type": "code",
   "execution_count": 13,
   "id": "a5ebe74d-0af8-4f74-9427-0889742d96c5",
   "metadata": {},
   "outputs": [
    {
     "name": "stdout",
     "output_type": "stream",
     "text": [
      "dims: 2\n",
      "shape: (3, 5)\n"
     ]
    },
    {
     "data": {
      "text/plain": [
       "array([[ 0,  1,  2,  3,  4],\n",
       "       [ 5,  6,  7,  8,  9],\n",
       "       [10, 11, 12, 13, 14]])"
      ]
     },
     "execution_count": 13,
     "metadata": {},
     "output_type": "execute_result"
    }
   ],
   "source": [
    "# 2d\n",
    "arr = np.arange(15).reshape(3, 5) # reshape args are the length of each axis\n",
    "print(f\"dims: {arr.ndim}\")\n",
    "print(f\"shape: {arr.shape}\")\n",
    "arr"
   ]
  },
  {
   "cell_type": "code",
   "execution_count": 16,
   "id": "c66a35e0-f6a0-4ea9-ac49-658813af9118",
   "metadata": {},
   "outputs": [
    {
     "name": "stdout",
     "output_type": "stream",
     "text": [
      "dims: 3\n",
      "shape: (3, 5, 2)\n"
     ]
    },
    {
     "data": {
      "text/plain": [
       "array([[[ 0,  1],\n",
       "        [ 2,  3],\n",
       "        [ 4,  5],\n",
       "        [ 6,  7],\n",
       "        [ 8,  9]],\n",
       "\n",
       "       [[10, 11],\n",
       "        [12, 13],\n",
       "        [14, 15],\n",
       "        [16, 17],\n",
       "        [18, 19]],\n",
       "\n",
       "       [[20, 21],\n",
       "        [22, 23],\n",
       "        [24, 25],\n",
       "        [26, 27],\n",
       "        [28, 29]]])"
      ]
     },
     "execution_count": 16,
     "metadata": {},
     "output_type": "execute_result"
    }
   ],
   "source": [
    "# 3d\n",
    "arr = np.arange(30).reshape(3, 5, 2)\n",
    "print(f\"dims: {arr.ndim}\")\n",
    "print(f\"shape: {arr.shape}\")\n",
    "arr"
   ]
  },
  {
   "cell_type": "code",
   "execution_count": 17,
   "id": "b8893aa4-0aff-4497-9ee0-07aacc3e0ca6",
   "metadata": {},
   "outputs": [
    {
     "name": "stdout",
     "output_type": "stream",
     "text": [
      "int64\n",
      "float64\n"
     ]
    }
   ],
   "source": [
    "#types\n",
    "\n",
    "print(np.array([1,2,3]).dtype)\n",
    "print(np.array([1.1,2.2,3.3]).dtype)"
   ]
  },
  {
   "cell_type": "code",
   "execution_count": 19,
   "id": "c3801b0a-6b50-4fb6-b510-375ba89d3313",
   "metadata": {},
   "outputs": [
    {
     "data": {
      "text/plain": [
       "array([[0., 0.],\n",
       "       [0., 0.],\n",
       "       [0., 0.]])"
      ]
     },
     "execution_count": 19,
     "metadata": {},
     "output_type": "execute_result"
    }
   ],
   "source": [
    "# creation, defaults to float64\n",
    "\n",
    "np.zeros((3, 2))"
   ]
  },
  {
   "cell_type": "code",
   "execution_count": 25,
   "id": "bb8af86c-14e4-4616-98af-ae9d0f6353b4",
   "metadata": {},
   "outputs": [
    {
     "data": {
      "text/plain": [
       "array([1, 1, 1, 1, 1])"
      ]
     },
     "execution_count": 25,
     "metadata": {},
     "output_type": "execute_result"
    }
   ],
   "source": [
    "np.ones(5, dtype=\"int64\")"
   ]
  },
  {
   "cell_type": "code",
   "execution_count": 44,
   "id": "ce8bbfe6-7d43-4a8e-83f6-caa507326d63",
   "metadata": {},
   "outputs": [
    {
     "name": "stdout",
     "output_type": "stream",
     "text": [
      "[[1 2 3]\n",
      " [4 5 6]]\n",
      "sum [[ 2  4  6]\n",
      " [ 8 10 12]]\n",
      "product [[ 1  4  9]\n",
      " [16 25 36]]\n",
      "dot product [[22 28]\n",
      " [49 64]]\n",
      "dot product [[22 28]\n",
      " [49 64]]\n",
      "dot product [[ 9 12 15]\n",
      " [19 26 33]\n",
      " [29 40 51]]\n"
     ]
    }
   ],
   "source": [
    "ar1 = np.arange(1, 7).reshape(2, 3)\n",
    "ar2 = ar1.copy()\n",
    "print(ar1)\n",
    "print(\"sum\", ar1 + ar2)\n",
    "print(\"product\", ar1 * ar2)\n",
    "print(\"dot product\", ar1 @ ar2.reshape(3, 2))\n",
    "print(\"dot product\", ar1 @ ar2.reshape(3, 2))\n",
    "print(\"dot product\", ar1.reshape(3, 2) @ ar2)"
   ]
  },
  {
   "cell_type": "code",
   "execution_count": 51,
   "id": "767cb08c-bfcf-4ba8-abb6-d6980d35fe1c",
   "metadata": {},
   "outputs": [
    {
     "name": "stdout",
     "output_type": "stream",
     "text": [
      "[[1 2 3]\n",
      " [4 5 6]]\n",
      "\n",
      "all values\n",
      "sum:  21\n",
      "min:  1\n",
      "max:  6\n",
      "mean:  3.5\n",
      "\n",
      "axes\n",
      "sum columns:  [5 7 9]\n",
      "sum rows:  [ 6 15]\n"
     ]
    }
   ],
   "source": [
    "ar1 = np.arange(1, 7).reshape(2, 3)\n",
    "print(ar1)\n",
    "print(\"\\nall values\")\n",
    "print(\"sum: \", ar1.sum())\n",
    "print(\"min: \", ar1.min())\n",
    "print(\"max: \", ar1.max())\n",
    "print(\"mean: \", ar1.mean())\n",
    "\n",
    "print(\"\\naxes\")\n",
    "print(\"sum columns: \", ar1.sum(axis=0))\n",
    "print(\"sum rows: \", ar1.sum(axis=1))\n"
   ]
  }
 ],
 "metadata": {
  "kernelspec": {
   "display_name": "Python 3 (ipykernel)",
   "language": "python",
   "name": "python3"
  },
  "language_info": {
   "codemirror_mode": {
    "name": "ipython",
    "version": 3
   },
   "file_extension": ".py",
   "mimetype": "text/x-python",
   "name": "python",
   "nbconvert_exporter": "python",
   "pygments_lexer": "ipython3",
   "version": "3.8.10"
  }
 },
 "nbformat": 4,
 "nbformat_minor": 5
}
