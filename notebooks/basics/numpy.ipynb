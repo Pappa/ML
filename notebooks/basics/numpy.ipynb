{
 "cells": [
  {
   "cell_type": "markdown",
   "id": "548aaf24-d896-4424-beba-1c90f43cad2e",
   "metadata": {},
   "source": [
    "# Numpy\n",
    "\n",
    "Quickstart tutorial: https://numpy.org/doc/stable/user/quickstart.html"
   ]
  },
  {
   "cell_type": "code",
   "execution_count": 10,
   "id": "5e14b168-9cb1-4bb5-b7b8-d07b07fe39f9",
   "metadata": {},
   "outputs": [],
   "source": [
    "import numpy as np\n",
    "import matplotlib.pyplot as plt"
   ]
  },
  {
   "cell_type": "code",
   "execution_count": 70,
   "id": "458a1802-505d-483e-aedb-f6667766b7dc",
   "metadata": {},
   "outputs": [
    {
     "name": "stdout",
     "output_type": "stream",
     "text": [
      "dims: 0, shape: (), size: 1\n",
      "content: 5\n",
      "\n",
      "dims: 1, shape: (5,), size: 5\n",
      "content: [0 1 2 3 4]\n",
      "\n",
      "dims: 2, shape: (3, 5), size: 15\n",
      "content: [[ 0  1  2  3  4]\n",
      " [ 5  6  7  8  9]\n",
      " [10 11 12 13 14]]\n",
      "\n",
      "dims: 3, shape: (3, 5, 2), size: 30\n",
      "content: [[[ 0  1]\n",
      "  [ 2  3]\n",
      "  [ 4  5]\n",
      "  [ 6  7]\n",
      "  [ 8  9]]\n",
      "\n",
      " [[10 11]\n",
      "  [12 13]\n",
      "  [14 15]\n",
      "  [16 17]\n",
      "  [18 19]]\n",
      "\n",
      " [[20 21]\n",
      "  [22 23]\n",
      "  [24 25]\n",
      "  [26 27]\n",
      "  [28 29]]]\n",
      "\n",
      "dims: 2, shape: (2, 2), size: 4\n",
      "content: [[0. 0.]\n",
      " [0. 0.]]\n",
      "\n",
      "dims: 1, shape: (5,), size: 5\n",
      "content: [1 1 1 1 1]\n",
      "\n",
      "dims: 2, shape: (2, 2), size: 4\n",
      "content: [[-0.75075912 -0.18682678]\n",
      " [-1.13453199 -1.05976176]]\n",
      "\n",
      "dims: 2, shape: (2, 2), size: 4\n",
      "content: [[7 7]\n",
      " [7 7]]\n",
      "\n",
      "dims: 2, shape: (2, 2), size: 4\n",
      "content: [[0.77601248 0.50555398]\n",
      " [0.82907173 0.38044966]]\n",
      "\n"
     ]
    }
   ],
   "source": [
    "arrays = [\n",
    "    np.array(5), #0d\n",
    "    np.arange(5), #1d\n",
    "    np.arange(15).reshape(3, 5), #2d - reshape args are the length of each axis\n",
    "    np.arange(30).reshape(3, 5, 2), #3d\n",
    "    np.zeros((2, 2)), # defaults to float64\n",
    "    np.ones(5, dtype=\"int64\"),\n",
    "    np.empty((2, 2)), # random initial values\n",
    "    np.full((2, 2), 7), # filled with 7s\n",
    "]\n",
    "for arr in arrays:\n",
    "    print(f\"dims: {arr.ndim}, shape: {arr.shape}, size: {arr.size}\\ncontent: {arr}\\n\")"
   ]
  },
  {
   "cell_type": "code",
   "execution_count": 73,
   "id": "b8893aa4-0aff-4497-9ee0-07aacc3e0ca6",
   "metadata": {},
   "outputs": [
    {
     "name": "stdout",
     "output_type": "stream",
     "text": [
      "dytpe: int64\n",
      "content: [1 2 3]\n",
      "\n",
      "dytpe: float64\n",
      "content: [1.1 2.2 3.3]\n",
      "\n",
      "dytpe: float64\n",
      "content: [[0. 0.]\n",
      " [0. 0.]\n",
      " [0. 0.]]\n",
      "\n",
      "dytpe: int64\n",
      "content: [1 1 1 1 1]\n",
      "\n"
     ]
    }
   ],
   "source": [
    "#types\n",
    "arrays = [\n",
    "    np.array([1,2,3]), # inferred as int64\n",
    "    np.array([1.1,2.2,3.3]), # inferred as float64\n",
    "    np.zeros((3, 2)), # defaults to float64\n",
    "    np.ones(5, dtype=\"int64\"),\n",
    "]\n",
    "\n",
    "for arr in arrays:\n",
    "    print(f\"dytpe: {arr.dtype}\")\n",
    "    print(f\"content: {arr}\\n\")"
   ]
  },
  {
   "cell_type": "markdown",
   "id": "42c4bbed-2c98-44cd-b557-ff10cd40635a",
   "metadata": {},
   "source": [
    "# Operations"
   ]
  },
  {
   "cell_type": "code",
   "execution_count": 75,
   "id": "ce8bbfe6-7d43-4a8e-83f6-caa507326d63",
   "metadata": {},
   "outputs": [
    {
     "name": "stdout",
     "output_type": "stream",
     "text": [
      "content: [[1 2 3]\n",
      " [4 5 6]]\n",
      "\n",
      "sum [[ 2  4  6]\n",
      " [ 8 10 12]]\n",
      "product [[ 1  4  9]\n",
      " [16 25 36]]\n",
      "dot product [[22 28]\n",
      " [49 64]]\n",
      "dot product [[22 28]\n",
      " [49 64]]\n",
      "dot product [[ 9 12 15]\n",
      " [19 26 33]\n",
      " [29 40 51]]\n",
      "dot product [[ 9 12 15]\n",
      " [19 26 33]\n",
      " [29 40 51]]\n"
     ]
    }
   ],
   "source": [
    "ar1 = np.arange(1, 7).reshape(2, 3)\n",
    "ar2 = ar1.copy()\n",
    "print(f\"content: {ar1}\\n\")\n",
    "print(\"sum\", ar1 + ar2)\n",
    "print(\"product\", ar1 * ar2)\n",
    "print(\"dot product\", ar1 @ ar2.reshape(3, 2))\n",
    "print(\"dot product\", ar1 @ ar2.reshape(3, 2))\n",
    "print(\"dot product\", ar1.reshape(3, 2) @ ar2)\n",
    "print(\"dot product\", ar1.reshape(3, 2).dot(ar2))"
   ]
  },
  {
   "cell_type": "markdown",
   "id": "f3f5177d-8b91-4481-94ac-0b94ff9486e8",
   "metadata": {},
   "source": [
    "# Aggregate functions"
   ]
  },
  {
   "cell_type": "code",
   "execution_count": 79,
   "id": "767cb08c-bfcf-4ba8-abb6-d6980d35fe1c",
   "metadata": {},
   "outputs": [
    {
     "name": "stdout",
     "output_type": "stream",
     "text": [
      "[[1 2 3]\n",
      " [4 5 6]]\n",
      "\n",
      "all values\n",
      "sum: 21, min: 1, max: 6, mean: 3.5\n",
      "\n",
      "axes\n",
      "sum columns:  [5 7 9]\n",
      "sum rows:  [ 6 15]\n"
     ]
    }
   ],
   "source": [
    "ar1 = np.arange(1, 7).reshape(2, 3)\n",
    "print(ar1)\n",
    "print(\"\\nall values\")\n",
    "print(f\"sum: {ar1.sum()}, min: {ar1.min()}, max: {ar1.max()}, mean: {ar1.mean()}\")\n",
    "\n",
    "print(\"\\naxes\")\n",
    "print(\"sum columns: \", ar1.sum(axis=0))\n",
    "print(\"sum rows: \", ar1.sum(axis=1))\n"
   ]
  },
  {
   "cell_type": "markdown",
   "id": "29a5976e-a0fe-4c11-9a31-bf4a91238747",
   "metadata": {},
   "source": [
    "# Slicing"
   ]
  },
  {
   "cell_type": "code",
   "execution_count": 107,
   "id": "18f62a60-3360-4405-be9f-968fae473008",
   "metadata": {},
   "outputs": [
    {
     "name": "stdout",
     "output_type": "stream",
     "text": [
      "2d: [[ 0  1  2  3  4]\n",
      " [ 5  6  7  8  9]\n",
      " [10 11 12 13 14]]\n",
      "\n",
      "specific value from col 0 row 1: 1\n",
      "2nd row: [5 6 7 8 9] or [5 6 7 8 9]\n",
      "last row: [10 11 12 13 14] or [10 11 12 13 14]\n",
      "2nd col: [ 1  6 11]\n",
      "last col: [ 4  9 14]\n",
      "1st & 2nd rows: [[0 1 2 3 4]\n",
      " [5 6 7 8 9]]\n",
      "\n",
      "3d: [[[ 0  1  2]\n",
      "  [ 3  4  5]\n",
      "  [ 6  7  8]]\n",
      "\n",
      " [[ 9 10 11]\n",
      "  [12 13 14]\n",
      "  [15 16 17]]\n",
      "\n",
      " [[18 19 20]\n",
      "  [21 22 23]\n",
      "  [24 25 26]]]\n",
      "\n",
      "specific value from matrix 0, row 1, col 2: 5\n",
      "3rd row of 3rd matrix: [24 25 26]\n",
      "3rd matrix: [[18 19 20]\n",
      " [21 22 23]\n",
      " [24 25 26]]\n",
      "3rd matrix: [[18 19 20]\n",
      " [21 22 23]\n",
      " [24 25 26]]\n",
      "3rd row of all matrices: [[ 6  7  8]\n",
      " [15 16 17]\n",
      " [24 25 26]]\n",
      "3rd col of all matrices: [[ 2  5  8]\n",
      " [11 14 17]\n",
      " [20 23 26]]\n",
      "3rd col of all matrices: [[ 2  5  8]\n",
      " [11 14 17]\n",
      " [20 23 26]]\n",
      "Values at row 3 col 3 all matrices: [ 8 17 26]\n"
     ]
    }
   ],
   "source": [
    "arr = np.arange(15).reshape(3, 5)\n",
    "print(f\"2d: {arr}\\n\")\n",
    "print(f\"specific value from col 0 row 1: {arr[0, 1]}\")\n",
    "print(f\"2nd row: {arr[1]} or {arr[1, :]}\")\n",
    "print(f\"last row: {arr[-1]} or {arr[-1, :]}\")\n",
    "print(f\"2nd col: {arr[:, 1]}\")\n",
    "print(f\"last col: {arr[:, -1]}\")\n",
    "print(f\"1st & 2nd rows: {arr[0:2, :]}\") # exclusive\n",
    "\n",
    "arr =  np.arange(3**3).reshape(3,3,3)\n",
    "print(f\"\\n3d: {arr}\\n\")\n",
    "print(f\"specific value from matrix 0, row 1, col 2: {arr[0, 1, 2]}\")\n",
    "print(f\"3rd row of 3rd matrix: {arr[2, 2]}\")\n",
    "print(f\"3rd matrix: {arr[2, :, :]}\")\n",
    "print(f\"3rd matrix: {arr[2, ...]}\")\n",
    "print(f\"3rd row of all matrices: {arr[:, 2, :]}\")\n",
    "print(f\"3rd col of all matrices: {arr[:, :, 2]}\")\n",
    "print(f\"3rd col of all matrices: {arr[..., 2]}\")\n",
    "print(f\"Values at row 3 col 3 all matrices: {arr[:, 2, 2]}\")"
   ]
  },
  {
   "cell_type": "markdown",
   "id": "1c67ffe0-1c5a-42ee-8c82-b8bc1b6f7099",
   "metadata": {},
   "source": [
    "# Iteration"
   ]
  },
  {
   "cell_type": "code",
   "execution_count": 112,
   "id": "afc276b3-f573-4154-ac21-e521db59f148",
   "metadata": {},
   "outputs": [
    {
     "name": "stdout",
     "output_type": "stream",
     "text": [
      "[[0 1]\n",
      " [2 3]]\n",
      "\n",
      "[0 1]\n",
      "[2 3]\n",
      "0\n",
      "1\n",
      "2\n",
      "3\n"
     ]
    }
   ],
   "source": [
    "arr = np.arange(4).reshape(2,2)\n",
    "print(f\"{arr}\\n\")\n",
    "\n",
    "for row in arr:\n",
    "    print(row) # first index\n",
    "    \n",
    "for x in arr.flat:\n",
    "    print(x) # each value as a 1d array"
   ]
  },
  {
   "cell_type": "markdown",
   "id": "239c15a2-568e-4b77-803f-316c7b675784",
   "metadata": {},
   "source": [
    "# Reshaping"
   ]
  },
  {
   "cell_type": "code",
   "execution_count": 116,
   "id": "d4d4d846-a632-4238-8182-02c8070d9fc9",
   "metadata": {},
   "outputs": [
    {
     "name": "stdout",
     "output_type": "stream",
     "text": [
      "[[0 1]\n",
      " [2 3]]\n",
      "\n",
      "flattened with ravel(): [0 1 2 3]\n",
      "reshape(4): [0 1 2 3]\n",
      "transposed with T: [[0 2]\n",
      " [1 3]]\n"
     ]
    }
   ],
   "source": [
    "arr = np.arange(4).reshape(2,2)\n",
    "print(f\"{arr}\\n\")\n",
    "print(f\"flattened with ravel(): {arr.ravel()}\")\n",
    "print(f\"reshape(4): {arr.reshape(4)}\")\n",
    "print(f\"transposed with T: {arr.T}\")"
   ]
  },
  {
   "cell_type": "markdown",
   "id": "a53b8f74-ac26-4744-a02f-d5a198bba3b7",
   "metadata": {},
   "source": [
    "# Stacking"
   ]
  },
  {
   "cell_type": "code",
   "execution_count": 122,
   "id": "9d2499c6-9e2f-475f-9516-f142a3ea2382",
   "metadata": {},
   "outputs": [
    {
     "name": "stdout",
     "output_type": "stream",
     "text": [
      "a: [[0 1]\n",
      " [2 3]]\n",
      "b: [[4 5]\n",
      " [6 7]]\n",
      "\n",
      "np.vstack((a, b)): [[0 1]\n",
      " [2 3]\n",
      " [4 5]\n",
      " [6 7]]\n",
      "np.hstack((a, b)): [[0 1 4 5]\n",
      " [2 3 6 7]]\n",
      "np.column_stack((a, b)): [[0 1 4 5]\n",
      " [2 3 6 7]]\n"
     ]
    }
   ],
   "source": [
    "a = np.arange(4).reshape(2,2)\n",
    "b = np.arange(4, 8).reshape(2,2)\n",
    "\n",
    "print(f\"a: {a}\")\n",
    "print(f\"b: {b}\\n\")\n",
    "\n",
    "print(f\"np.vstack((a, b)): {np.vstack((a, b))}\")\n",
    "print(f\"np.hstack((a, b)): {np.hstack((a, b))}\")\n",
    "print(f\"np.column_stack((a, b)): {np.column_stack((a, b))}\")"
   ]
  }
 ],
 "metadata": {
  "kernelspec": {
   "display_name": "Python 3 (ipykernel)",
   "language": "python",
   "name": "python3"
  },
  "language_info": {
   "codemirror_mode": {
    "name": "ipython",
    "version": 3
   },
   "file_extension": ".py",
   "mimetype": "text/x-python",
   "name": "python",
   "nbconvert_exporter": "python",
   "pygments_lexer": "ipython3",
   "version": "3.8.10"
  }
 },
 "nbformat": 4,
 "nbformat_minor": 5
}
