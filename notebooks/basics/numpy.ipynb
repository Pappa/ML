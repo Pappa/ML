{
 "cells": [
  {
   "cell_type": "markdown",
   "id": "548aaf24-d896-4424-beba-1c90f43cad2e",
   "metadata": {},
   "source": [
    "# Numpy\n",
    "\n",
    "Quickstart tutorial: https://numpy.org/doc/stable/user/quickstart.html"
   ]
  },
  {
   "cell_type": "code",
   "execution_count": 10,
   "id": "5e14b168-9cb1-4bb5-b7b8-d07b07fe39f9",
   "metadata": {},
   "outputs": [],
   "source": [
    "import numpy as np\n",
    "import matplotlib.pyplot as plt"
   ]
  },
  {
   "cell_type": "code",
   "execution_count": 70,
   "id": "458a1802-505d-483e-aedb-f6667766b7dc",
   "metadata": {},
   "outputs": [
    {
     "name": "stdout",
     "output_type": "stream",
     "text": [
      "dims: 0, shape: (), size: 1\n",
      "content: 5\n",
      "\n",
      "dims: 1, shape: (5,), size: 5\n",
      "content: [0 1 2 3 4]\n",
      "\n",
      "dims: 2, shape: (3, 5), size: 15\n",
      "content: [[ 0  1  2  3  4]\n",
      " [ 5  6  7  8  9]\n",
      " [10 11 12 13 14]]\n",
      "\n",
      "dims: 3, shape: (3, 5, 2), size: 30\n",
      "content: [[[ 0  1]\n",
      "  [ 2  3]\n",
      "  [ 4  5]\n",
      "  [ 6  7]\n",
      "  [ 8  9]]\n",
      "\n",
      " [[10 11]\n",
      "  [12 13]\n",
      "  [14 15]\n",
      "  [16 17]\n",
      "  [18 19]]\n",
      "\n",
      " [[20 21]\n",
      "  [22 23]\n",
      "  [24 25]\n",
      "  [26 27]\n",
      "  [28 29]]]\n",
      "\n",
      "dims: 2, shape: (2, 2), size: 4\n",
      "content: [[0. 0.]\n",
      " [0. 0.]]\n",
      "\n",
      "dims: 1, shape: (5,), size: 5\n",
      "content: [1 1 1 1 1]\n",
      "\n",
      "dims: 2, shape: (2, 2), size: 4\n",
      "content: [[-0.75075912 -0.18682678]\n",
      " [-1.13453199 -1.05976176]]\n",
      "\n",
      "dims: 2, shape: (2, 2), size: 4\n",
      "content: [[7 7]\n",
      " [7 7]]\n",
      "\n",
      "dims: 2, shape: (2, 2), size: 4\n",
      "content: [[0.77601248 0.50555398]\n",
      " [0.82907173 0.38044966]]\n",
      "\n"
     ]
    }
   ],
   "source": [
    "arrays = [\n",
    "    np.array(5), #0d\n",
    "    np.arange(5), #1d\n",
    "    np.arange(15).reshape(3, 5), #2d - reshape args are the length of each axis\n",
    "    np.arange(30).reshape(3, 5, 2), #3d\n",
    "    np.zeros((2, 2)), # defaults to float64\n",
    "    np.ones(5, dtype=\"int64\"),\n",
    "    np.empty((2, 2)), # random initial values\n",
    "    np.full((2, 2), 7), # filled with 7s\n",
    "]\n",
    "for arr in arrays:\n",
    "    print(f\"dims: {arr.ndim}, shape: {arr.shape}, size: {arr.size}\\ncontent: {arr}\\n\")"
   ]
  },
  {
   "cell_type": "code",
   "execution_count": 73,
   "id": "b8893aa4-0aff-4497-9ee0-07aacc3e0ca6",
   "metadata": {},
   "outputs": [
    {
     "name": "stdout",
     "output_type": "stream",
     "text": [
      "dytpe: int64\n",
      "content: [1 2 3]\n",
      "\n",
      "dytpe: float64\n",
      "content: [1.1 2.2 3.3]\n",
      "\n",
      "dytpe: float64\n",
      "content: [[0. 0.]\n",
      " [0. 0.]\n",
      " [0. 0.]]\n",
      "\n",
      "dytpe: int64\n",
      "content: [1 1 1 1 1]\n",
      "\n"
     ]
    }
   ],
   "source": [
    "#types\n",
    "arrays = [\n",
    "    np.array([1,2,3]), # inferred as int64\n",
    "    np.array([1.1,2.2,3.3]), # inferred as float64\n",
    "    np.zeros((3, 2)), # defaults to float64\n",
    "    np.ones(5, dtype=\"int64\"),\n",
    "]\n",
    "\n",
    "for arr in arrays:\n",
    "    print(f\"dytpe: {arr.dtype}\")\n",
    "    print(f\"content: {arr}\\n\")"
   ]
  },
  {
   "cell_type": "markdown",
   "id": "42c4bbed-2c98-44cd-b557-ff10cd40635a",
   "metadata": {},
   "source": [
    "# Operations"
   ]
  },
  {
   "cell_type": "code",
   "execution_count": 75,
   "id": "ce8bbfe6-7d43-4a8e-83f6-caa507326d63",
   "metadata": {},
   "outputs": [
    {
     "name": "stdout",
     "output_type": "stream",
     "text": [
      "content: [[1 2 3]\n",
      " [4 5 6]]\n",
      "\n",
      "sum [[ 2  4  6]\n",
      " [ 8 10 12]]\n",
      "product [[ 1  4  9]\n",
      " [16 25 36]]\n",
      "dot product [[22 28]\n",
      " [49 64]]\n",
      "dot product [[22 28]\n",
      " [49 64]]\n",
      "dot product [[ 9 12 15]\n",
      " [19 26 33]\n",
      " [29 40 51]]\n",
      "dot product [[ 9 12 15]\n",
      " [19 26 33]\n",
      " [29 40 51]]\n"
     ]
    }
   ],
   "source": [
    "ar1 = np.arange(1, 7).reshape(2, 3)\n",
    "ar2 = ar1.copy()\n",
    "print(f\"content: {ar1}\\n\")\n",
    "print(\"sum\", ar1 + ar2)\n",
    "print(\"product\", ar1 * ar2)\n",
    "print(\"dot product\", ar1 @ ar2.reshape(3, 2))\n",
    "print(\"dot product\", ar1 @ ar2.reshape(3, 2))\n",
    "print(\"dot product\", ar1.reshape(3, 2) @ ar2)\n",
    "print(\"dot product\", ar1.reshape(3, 2).dot(ar2))"
   ]
  },
  {
   "cell_type": "markdown",
   "id": "f3f5177d-8b91-4481-94ac-0b94ff9486e8",
   "metadata": {},
   "source": [
    "# Aggregate functions"
   ]
  },
  {
   "cell_type": "code",
   "execution_count": 79,
   "id": "767cb08c-bfcf-4ba8-abb6-d6980d35fe1c",
   "metadata": {},
   "outputs": [
    {
     "name": "stdout",
     "output_type": "stream",
     "text": [
      "[[1 2 3]\n",
      " [4 5 6]]\n",
      "\n",
      "all values\n",
      "sum: 21, min: 1, max: 6, mean: 3.5\n",
      "\n",
      "axes\n",
      "sum columns:  [5 7 9]\n",
      "sum rows:  [ 6 15]\n"
     ]
    }
   ],
   "source": [
    "ar1 = np.arange(1, 7).reshape(2, 3)\n",
    "print(ar1)\n",
    "print(\"\\nall values\")\n",
    "print(f\"sum: {ar1.sum()}, min: {ar1.min()}, max: {ar1.max()}, mean: {ar1.mean()}\")\n",
    "\n",
    "print(\"\\naxes\")\n",
    "print(\"sum columns: \", ar1.sum(axis=0))\n",
    "print(\"sum rows: \", ar1.sum(axis=1))\n"
   ]
  }
 ],
 "metadata": {
  "kernelspec": {
   "display_name": "Python 3 (ipykernel)",
   "language": "python",
   "name": "python3"
  },
  "language_info": {
   "codemirror_mode": {
    "name": "ipython",
    "version": 3
   },
   "file_extension": ".py",
   "mimetype": "text/x-python",
   "name": "python",
   "nbconvert_exporter": "python",
   "pygments_lexer": "ipython3",
   "version": "3.8.10"
  }
 },
 "nbformat": 4,
 "nbformat_minor": 5
}
