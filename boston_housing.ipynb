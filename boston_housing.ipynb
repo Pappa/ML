{
 "cells": [
  {
   "cell_type": "code",
   "execution_count": null,
   "id": "2dbb3f8d-5f66-4b1d-aa09-8c0161543131",
   "metadata": {},
   "outputs": [],
   "source": [
    "from tensorflow.keras.datasets import boston_housing\n",
    "(train_data, train_targets), (test_data, test_targets) = boston_housing.load_data()"
   ]
  },
  {
   "cell_type": "code",
   "execution_count": null,
   "id": "8debafda-e491-4a66-9656-5c8e7f9b5990",
   "metadata": {},
   "outputs": [],
   "source": [
    "train_data.shape"
   ]
  },
  {
   "cell_type": "code",
   "execution_count": null,
   "id": "f7378f2c-6f6e-45a6-b405-7eff118598b1",
   "metadata": {},
   "outputs": [],
   "source": [
    "test_data.shape"
   ]
  },
  {
   "cell_type": "code",
   "execution_count": null,
   "id": "f1cbd784-81b5-4d01-9e0f-11c6830bdf34",
   "metadata": {},
   "outputs": [],
   "source": [
    "mean = train_data.mean(axis=0)\n",
    "train_data -= mean\n",
    "std = train_data.std(axis=0)\n",
    "train_data /= std\n",
    "\n",
    "test_data -= mean\n",
    "test_data /= std"
   ]
  },
  {
   "cell_type": "code",
   "execution_count": null,
   "id": "a88e81f7-94ce-4b5b-bf3d-f528528c13e4",
   "metadata": {},
   "outputs": [],
   "source": [
    "from tensorflow.keras import layers\n",
    "from tensorflow.keras import models\n",
    "\n",
    "def build_model():\n",
    "    model = models.Sequential()\n",
    "    model.add(layers.Dense(64, activation=\"relu\", input_shape=(train_data.shape[1],)))\n",
    "    model.add(layers.Dense(64, activation=\"relu\"))\n",
    "    model.add(layers.Dense(1))\n",
    "    model.compile(optimizer=\"rmsprop\", loss=\"mse\", metrics=[\"mae\"])\n",
    "    return model"
   ]
  },
  {
   "cell_type": "code",
   "execution_count": null,
   "id": "ffac2379-9405-499a-a0a1-3f51e65ca3bc",
   "metadata": {},
   "outputs": [],
   "source": [
    "# k-fold validation\n",
    "import numpy as np\n",
    "\n",
    "k = 4\n",
    "num_val_samples = len(train_data) // k\n",
    "num_epochs = 100\n",
    "all_scores = []"
   ]
  },
  {
   "cell_type": "code",
   "execution_count": null,
   "id": "1733c48e-cf53-4e23-a480-e569c21987a7",
   "metadata": {},
   "outputs": [],
   "source": [
    "for i in range(k):\n",
    "    print(f\"Processing fold #{i}\")\n",
    "    \n",
    "    # prepare the validation data from partition k\n",
    "    val_data = train_data[i * num_val_samples: (i + 1) * num_val_samples]        \n",
    "    val_label = train_targets[i * num_val_samples: (i + 1) * num_val_samples]\n",
    "    \n",
    "    # prepare the training data from all other partitions\n",
    "    partial_train_data = np.concatenate(\n",
    "        [train_data[: i * num_val_samples], \n",
    "         train_data[(i + 1) * num_val_samples:]], \n",
    "        axis=0)         \n",
    "    partial_train_label = np.concatenate(\n",
    "        [train_targets[:i * num_val_samples],\n",
    "         train_targets[(i + 1) * num_val_samples:]], \n",
    "        axis=0)\n",
    "    \n",
    "    # build the model\n",
    "    model = build_model() \n",
    "    \n",
    "    # train the model in silent mode\n",
    "    model.fit(partial_train_data, partial_train_label, \n",
    "              epochs = num_epochs,\n",
    "              batch_size = 1,\n",
    "              verbose=0)\n",
    "    \n",
    "    # evaluate the model with the evaluation set\n",
    "    val_mse, val_mae = model.evaluate(val_data, val_label, verbose=0)\n",
    "    all_scores.append(val_mae)"
   ]
  },
  {
   "cell_type": "code",
   "execution_count": null,
   "id": "199cef39-5eca-496f-9526-2f7c66609896",
   "metadata": {},
   "outputs": [],
   "source": [
    "all_scores"
   ]
  },
  {
   "cell_type": "code",
   "execution_count": null,
   "id": "7947bd24-caba-4942-9cf0-c26896f82e5f",
   "metadata": {},
   "outputs": [],
   "source": [
    "np.mean(all_scores)"
   ]
  },
  {
   "cell_type": "code",
   "execution_count": null,
   "id": "ed908191-5cca-4f6e-9651-811a1342d4b7",
   "metadata": {},
   "outputs": [],
   "source": [
    "#Try again with 500 epochs\n",
    "num_epochs = 500\n",
    "all_mae_histories = []\n",
    "\n",
    "for i in range(k):\n",
    "    print(f\"Processing fold #{i}\")\n",
    "    \n",
    "    # prepare the validation data from partition k\n",
    "    val_data = train_data[i * num_val_samples: (i + 1) * num_val_samples]        \n",
    "    val_label = train_targets[i * num_val_samples: (i + 1) * num_val_samples]\n",
    "    \n",
    "    # prepare the training data from all other partitions\n",
    "    partial_train_data = np.concatenate(\n",
    "        [train_data[: i * num_val_samples], \n",
    "         train_data[(i + 1) * num_val_samples:]], \n",
    "        axis=0)         \n",
    "    partial_train_label = np.concatenate(\n",
    "        [train_targets[:i * num_val_samples],\n",
    "         train_targets[(i + 1) * num_val_samples:]], \n",
    "        axis=0)\n",
    "    \n",
    "    # build the model\n",
    "    model = build_model() \n",
    "    \n",
    "    # train the model in silent mode\n",
    "    history = model.fit(partial_train_data, partial_train_label, \n",
    "            validation_data = (val_data, val_label),\n",
    "            epochs = num_epochs,\n",
    "            batch_size = 1,\n",
    "            verbose=0)\n",
    "    \n",
    "    mae_history = history.history[\"val_mae\"]\n",
    "    all_mae_histories.append(mae_history)"
   ]
  },
  {
   "cell_type": "code",
   "execution_count": null,
   "id": "c42b7a3f-51d3-44dd-991f-b00bd34b1708",
   "metadata": {},
   "outputs": [],
   "source": [
    "average_mae_history = [\n",
    "    np.mean([x[i] for x in all_mae_histories]) for i in range(num_epochs)\n",
    "]"
   ]
  },
  {
   "cell_type": "code",
   "execution_count": null,
   "id": "d4319df3-0399-404c-b9d8-d90a5c27c97b",
   "metadata": {},
   "outputs": [],
   "source": [
    "import matplotlib.pyplot as plt\n",
    "%matplotlib inline\n",
    "\n",
    "plt.plot(range(1, len(average_mae_history) + 1), average_mae_history)\n",
    "plt.xlabel('Epochs')\n",
    "plt.ylabel('Validation MAE')\n",
    "plt.show()\n"
   ]
  },
  {
   "cell_type": "code",
   "execution_count": null,
   "id": "78382839-6d1c-422b-a5f1-ad67b4c6acf9",
   "metadata": {},
   "outputs": [],
   "source": [
    "\n",
    "def smooth_curve(points, factor=0.9):\n",
    "    smoothed_points = []\n",
    "    for point in points:\n",
    "        if smoothed_points:\n",
    "            previous = smoothed_points[-1]\n",
    "            smoothed_points.append(previous * factor + point * (1 - factor))\n",
    "        else:\n",
    "            smoothed_points.append(point)\n",
    "    \n",
    "    return smoothed_points\n",
    "\n",
    "smooth_mae_history = smooth_curve(average_mae_history[10:])\n",
    "\n",
    "plt.plot(range(1, len(smooth_mae_history) + 1), smooth_mae_history)\n",
    "plt.xlabel('Epochs')\n",
    "plt.ylabel('Validation MAE')\n",
    "plt.show()"
   ]
  },
  {
   "cell_type": "code",
   "execution_count": null,
   "id": "bbbe978b-9838-4b6c-be9d-c3ee8f9dfd96",
   "metadata": {},
   "outputs": [],
   "source": [
    "# tweak hyperparameters\n",
    "\n",
    "# build the model\n",
    "model = build_model() \n",
    "    \n",
    "    # train the model in silent mode\n",
    "model.fit(train_data, train_targets, \n",
    "              epochs = 80,\n",
    "              batch_size = 12,\n",
    "              verbose=0)\n",
    "    \n",
    "    # evaluate the model with the evaluation set\n",
    "test_mse_score, test_mae_score = model.evaluate(test_data, test_targets, verbose=0)\n",
    "test_mae_score"
   ]
  },
  {
   "cell_type": "code",
   "execution_count": null,
   "id": "a62025a8-bdfb-4c42-9f11-fbbe04b48777",
   "metadata": {},
   "outputs": [],
   "source": []
  }
 ],
 "metadata": {
  "kernelspec": {
   "display_name": "Python 3 (ipykernel)",
   "language": "python",
   "name": "python3"
  },
  "language_info": {
   "codemirror_mode": {
    "name": "ipython",
    "version": 3
   },
   "file_extension": ".py",
   "mimetype": "text/x-python",
   "name": "python",
   "nbconvert_exporter": "python",
   "pygments_lexer": "ipython3",
   "version": "3.8.8"
  }
 },
 "nbformat": 4,
 "nbformat_minor": 5
}
