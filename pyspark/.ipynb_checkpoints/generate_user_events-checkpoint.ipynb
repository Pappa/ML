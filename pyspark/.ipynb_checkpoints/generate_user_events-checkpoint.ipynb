{
 "cells": [
  {
   "cell_type": "code",
   "execution_count": 22,
   "id": "7809fa76-d5f9-4c4e-b68a-9b050e7a3a74",
   "metadata": {},
   "outputs": [
    {
     "name": "stdout",
     "output_type": "stream",
     "text": [
      "Requirement already satisfied: uuid in /home/pappa/anaconda3/lib/python3.8/site-packages (1.30)\n",
      "Note: you may need to restart the kernel to use updated packages.\n",
      "Requirement already satisfied: lorem-text in /home/pappa/anaconda3/lib/python3.8/site-packages (2.1)\n",
      "Requirement already satisfied: Click>=7.0 in /home/pappa/anaconda3/lib/python3.8/site-packages (from lorem-text) (7.1.2)\n",
      "Note: you may need to restart the kernel to use updated packages.\n"
     ]
    }
   ],
   "source": [
    "%pip install uuid\n",
    "%pip install lorem-text"
   ]
  },
  {
   "cell_type": "code",
   "execution_count": 23,
   "id": "0f7b050f-96cf-496a-919a-64f7fb68f612",
   "metadata": {},
   "outputs": [],
   "source": [
    "import pandas as pd\n",
    "from uuid import uuid4\n",
    "from lorem_text import lorem\n",
    "import random\n",
    "import json\n",
    "import os"
   ]
  },
  {
   "cell_type": "code",
   "execution_count": 25,
   "id": "e6f22c0a-7670-4099-a513-7d810640a637",
   "metadata": {},
   "outputs": [
    {
     "name": "stdout",
     "output_type": "stream",
     "text": [
      "Done\n"
     ]
    }
   ],
   "source": [
    "NUM_TRANSACTIONS = 100\n",
    "\n",
    "results = list(map(lambda x: f\"X{x:05}\", range(1, 100)))\n",
    "\n",
    "events = []\n",
    "\n",
    "def generate_search(id):\n",
    "    return { \n",
    "        \"transaction_id\": id,\n",
    "        \"type\": \"SEARCH\",\n",
    "        \"term\": lorem.words(1)\n",
    "    }\n",
    "\n",
    "def generate_search_response(id):\n",
    "    size = int(random.random() * 5)\n",
    "    return { \n",
    "        \"transaction_id\": id,\n",
    "        \"type\": \"SEARCH_RESULTS\",\n",
    "        \"results\": random.choices(results, k=size)\n",
    "    }\n",
    "\n",
    "def generate_report_view(id, response_results):\n",
    "    if len(response_results) > 0 and random.random() >= 0.3:\n",
    "        report = random.choice(response_results)\n",
    "    else:\n",
    "        report = random.choice(results)\n",
    "    return { \n",
    "        \"transaction_id\": id,\n",
    "        \"type\": \"REPORT_VIEW\",\n",
    "        \"id\": report\n",
    "    }\n",
    "\n",
    "\n",
    "for n in range(NUM_TRANSACTIONS):\n",
    "    transaction_id = str(uuid4())\n",
    "    \n",
    "    search = generate_search(transaction_id)        \n",
    "    events.append(search)\n",
    "    \n",
    "    if random.random() >= 0.3:\n",
    "        response = generate_search_response(transaction_id)\n",
    "        events.append(response)\n",
    "        \n",
    "        if random.random() >= 0.3:\n",
    "            for i in range(random.randrange(4)):\n",
    "                report = generate_report_view(transaction_id, response[\"results\"])\n",
    "                events.append(report)\n",
    "        \n",
    "        \n",
    "filename = './test_data/events.json'\n",
    "os.makedirs(os.path.dirname(filename), exist_ok=True)\n",
    "with open(filename, 'w') as f:\n",
    "    f.write(json.dumps(events, indent=4))\n",
    "    print('Done')"
   ]
  }
 ],
 "metadata": {
  "kernelspec": {
   "display_name": "Python 3",
   "language": "python",
   "name": "python3"
  },
  "language_info": {
   "codemirror_mode": {
    "name": "ipython",
    "version": 3
   },
   "file_extension": ".py",
   "mimetype": "text/x-python",
   "name": "python",
   "nbconvert_exporter": "python",
   "pygments_lexer": "ipython3",
   "version": "3.8.8"
  }
 },
 "nbformat": 4,
 "nbformat_minor": 5
}
