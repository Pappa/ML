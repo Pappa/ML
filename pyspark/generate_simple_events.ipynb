{
 "cells": [
  {
   "cell_type": "code",
   "execution_count": 10,
   "id": "7809fa76-d5f9-4c4e-b68a-9b050e7a3a74",
   "metadata": {},
   "outputs": [
    {
     "name": "stdout",
     "output_type": "stream",
     "text": [
      "\u001b[33mDEPRECATION: Configuring installation scheme with distutils config files is deprecated and will no longer work in the near future. If you are using a Homebrew or Linuxbrew Python, please see discussion at https://github.com/Homebrew/homebrew-core/issues/76621\u001b[0m\n",
      "Requirement already satisfied: uuid in /usr/local/lib/python3.9/site-packages (1.30)\n",
      "\u001b[33mDEPRECATION: Configuring installation scheme with distutils config files is deprecated and will no longer work in the near future. If you are using a Homebrew or Linuxbrew Python, please see discussion at https://github.com/Homebrew/homebrew-core/issues/76621\u001b[0m\n",
      "\u001b[33mWARNING: You are using pip version 21.3.1; however, version 23.0.1 is available.\n",
      "You should consider upgrading via the '/usr/local/opt/python@3.9/bin/python3.9 -m pip install --upgrade pip' command.\u001b[0m\n",
      "Note: you may need to restart the kernel to use updated packages.\n"
     ]
    }
   ],
   "source": [
    "%pip install uuid"
   ]
  },
  {
   "cell_type": "code",
   "execution_count": 11,
   "id": "0f7b050f-96cf-496a-919a-64f7fb68f612",
   "metadata": {},
   "outputs": [],
   "source": [
    "from uuid import uuid4\n",
    "import random\n",
    "import json\n",
    "import os\n",
    "from datetime import datetime, timedelta\n",
    "import itertools"
   ]
  },
  {
   "cell_type": "code",
   "execution_count": 27,
   "id": "e6f22c0a-7670-4099-a513-7d810640a637",
   "metadata": {},
   "outputs": [
    {
     "name": "stdout",
     "output_type": "stream",
     "text": [
      "Done\n"
     ]
    }
   ],
   "source": [
    "NUM_TRANSACTIONS = 10\n",
    "START = datetime.now() + timedelta(hours=-10)\n",
    "LIMIT = 300\n",
    "\n",
    "events = []\n",
    "\n",
    "counter = itertools.count()\n",
    "\n",
    "def generate_event(id):\n",
    "    n = next(counter)\n",
    "    t = START + timedelta(minutes=n)\n",
    "    return {\n",
    "        \"transaction_id\": id,\n",
    "        \"timestamp\": t.timestamp(),\n",
    "        \"limit\": LIMIT,\n",
    "        \"id\": str(uuid4())[0:6]\n",
    "    }\n",
    "\n",
    "\n",
    "for n in range(NUM_TRANSACTIONS):\n",
    "    transaction_id = str(uuid4())[0:6]\n",
    "\n",
    "    for i in range(3):\n",
    "        event = generate_event(transaction_id)\n",
    "        events.append(event)\n",
    "        \n",
    "        \n",
    "filename = './test_data/simple_events.json'\n",
    "os.makedirs(os.path.dirname(filename), exist_ok=True)\n",
    "with open(filename, 'w') as f:\n",
    "    f.write(json.dumps(events, indent=4))\n",
    "    print('Done')"
   ]
  }
 ],
 "metadata": {
  "kernelspec": {
   "display_name": "Python 3",
   "language": "python",
   "name": "python3"
  },
  "language_info": {
   "codemirror_mode": {
    "name": "ipython",
    "version": 3
   },
   "file_extension": ".py",
   "mimetype": "text/x-python",
   "name": "python",
   "nbconvert_exporter": "python",
   "pygments_lexer": "ipython3",
   "version": "3.9.10"
  }
 },
 "nbformat": 4,
 "nbformat_minor": 5
}
