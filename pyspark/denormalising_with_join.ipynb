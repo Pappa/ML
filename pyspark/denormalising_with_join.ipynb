{
 "cells": [
  {
   "cell_type": "code",
   "execution_count": 1,
   "id": "1ede410a-8255-457c-bfe6-12480859a113",
   "metadata": {},
   "outputs": [],
   "source": [
    "from pyspark.sql import SparkSession\n",
    "from pyspark.sql import functions as F"
   ]
  },
  {
   "cell_type": "code",
   "execution_count": 2,
   "id": "c833bbe1-a5ad-44c1-8f37-4416a13c979c",
   "metadata": {},
   "outputs": [
    {
     "name": "stderr",
     "output_type": "stream",
     "text": [
      "Setting default log level to \"WARN\".\n",
      "To adjust logging level use sc.setLogLevel(newLevel). For SparkR, use setLogLevel(newLevel).\n"
     ]
    },
    {
     "name": "stdout",
     "output_type": "stream",
     "text": [
      "22/08/12 18:27:20 WARN NativeCodeLoader: Unable to load native-hadoop library for your platform... using builtin-java classes where applicable\n",
      "22/08/12 18:27:22 WARN Utils: Service 'SparkUI' could not bind on port 4040. Attempting port 4041.\n"
     ]
    }
   ],
   "source": [
    "spark = SparkSession.builder \\\n",
    "      .appName(\"denorm\") \\\n",
    "      .getOrCreate()"
   ]
  },
  {
   "cell_type": "code",
   "execution_count": 3,
   "id": "ca9c9659-167b-447c-967f-e825b85b2dfd",
   "metadata": {},
   "outputs": [
    {
     "name": "stderr",
     "output_type": "stream",
     "text": [
      "                                                                                \r"
     ]
    }
   ],
   "source": [
    "users = spark.read.option(\"header\",True).csv(\"test_data/users.csv\")\n",
    "portfolios = spark.read.option(\"header\",True).csv(\"test_data/portfolios.csv\")\n",
    "portfolio_items = spark.read.option(\"header\",True).csv(\"test_data/portfolio_items.csv\")"
   ]
  },
  {
   "cell_type": "code",
   "execution_count": 4,
   "id": "a32b680c-1c92-4f67-b5c6-c8d6887812c6",
   "metadata": {},
   "outputs": [
    {
     "name": "stdout",
     "output_type": "stream",
     "text": [
      "root\n",
      " |-- customer_id: string (nullable = true)\n",
      " |-- user_id: string (nullable = true)\n",
      "\n",
      "root\n",
      " |-- portfolio_id: string (nullable = true)\n",
      " |-- user_id: string (nullable = true)\n",
      " |-- name: string (nullable = true)\n",
      "\n",
      "root\n",
      " |-- portfolio_id: string (nullable = true)\n",
      " |-- item_id: string (nullable = true)\n",
      "\n"
     ]
    }
   ],
   "source": [
    "users.printSchema()\n",
    "portfolios.printSchema()\n",
    "portfolio_items.printSchema()"
   ]
  },
  {
   "cell_type": "code",
   "execution_count": 5,
   "id": "5a612b31-fb08-4b41-b563-2d0837c5cff3",
   "metadata": {},
   "outputs": [
    {
     "name": "stdout",
     "output_type": "stream",
     "text": [
      "20\n",
      "20\n",
      "+-----------+-------+------------+-------+------+------------+-------+\n",
      "|customer_id|user_id|portfolio_id|user_id|  name|portfolio_id|item_id|\n",
      "+-----------+-------+------------+-------+------+------------+-------+\n",
      "|         C1|     U1|          P1|     U1|  sdas|          P1|     I5|\n",
      "|         C1|     U1|          P1|     U1|  sdas|          P1|     I4|\n",
      "|         C1|     U1|          P1|     U1|  sdas|          P1|     I3|\n",
      "|         C1|     U1|          P1|     U1|  sdas|          P1|     I2|\n",
      "|         C1|     U1|          P1|     U1|  sdas|          P1|     I1|\n",
      "|         C1|     U2|          P2|     U2| efwer|          P2|     I9|\n",
      "|         C1|     U2|          P2|     U2| efwer|          P2|     I8|\n",
      "|         C1|     U2|          P2|     U2| efwer|          P2|     I7|\n",
      "|         C1|     U2|          P2|     U2| efwer|          P2|     I6|\n",
      "|         C1|     U2|          P2|     U2| efwer|          P2|     I5|\n",
      "|         C1|     U2|          P2|     U2| efwer|          P2|     I4|\n",
      "|         C1|     U2|          P2|     U2| efwer|          P2|     I3|\n",
      "|         C1|     U3|          P3|     U3| tgtrg|          P3|    I11|\n",
      "|         C1|     U3|          P3|     U3| tgtrg|          P3|    I10|\n",
      "|         C2|     U4|          P4|     U4|   jhg|          P4|    I13|\n",
      "|         C2|     U4|          P4|     U4|   jhg|          P4|    I12|\n",
      "|         C2|     U4|          P4|     U4|   jhg|          P4|    I10|\n",
      "|         C2|     U4|          P4|     U4|   jhg|          P4|     I6|\n",
      "|         C2|     U4|          P4|     U4|   jhg|          P4|     I1|\n",
      "|         C2|     U5|          P5|     U5|erewew|          P5|     I1|\n",
      "+-----------+-------+------------+-------+------+------------+-------+\n",
      "\n"
     ]
    }
   ],
   "source": [
    "denormalised = users \\\n",
    "    .join(portfolios, users.user_id == portfolios.user_id, \"left\") \\\n",
    "    .join(portfolio_items, portfolios.portfolio_id == portfolio_items.portfolio_id, \"left\")\n",
    "\n",
    "print(portfolio_items.count())\n",
    "print(denormalised.count())\n",
    "denormalised.show()"
   ]
  },
  {
   "cell_type": "code",
   "execution_count": 6,
   "id": "202eaf55-f0ae-4677-af33-194e585f935f",
   "metadata": {},
   "outputs": [
    {
     "name": "stdout",
     "output_type": "stream",
     "text": [
      "+-----------+--------------------+\n",
      "|customer_id|           portfolio|\n",
      "+-----------+--------------------+\n",
      "|         C1|[I4, I10, I2, I3,...|\n",
      "|         C2|[I10, I13, I12, I...|\n",
      "+-----------+--------------------+\n",
      "\n"
     ]
    }
   ],
   "source": [
    "aggregated_by_customer = denormalised.groupby(\"customer_id\") \\\n",
    "    .agg(F.collect_set(\"item_id\").alias(\"portfolio\"))\n",
    "\n",
    "aggregated_by_customer.show()"
   ]
  },
  {
   "cell_type": "code",
   "execution_count": 7,
   "id": "532a1a62-96b7-4637-9d7b-18ea639bf6f9",
   "metadata": {},
   "outputs": [
    {
     "name": "stdout",
     "output_type": "stream",
     "text": [
      "+-------+--------------------+\n",
      "|item_id|interested_customers|\n",
      "+-------+--------------------+\n",
      "|     I5|                [C1]|\n",
      "|    I12|                [C2]|\n",
      "|    I13|                [C2]|\n",
      "|     I4|                [C1]|\n",
      "|     I2|                [C1]|\n",
      "|     I3|                [C1]|\n",
      "|     I1|            [C1, C2]|\n",
      "|    I11|                [C1]|\n",
      "|     I8|                [C1]|\n",
      "|    I10|            [C1, C2]|\n",
      "|     I9|                [C1]|\n",
      "|     I7|                [C1]|\n",
      "|     I6|            [C1, C2]|\n",
      "+-------+--------------------+\n",
      "\n"
     ]
    }
   ],
   "source": [
    "aggregated_by_item = denormalised.groupby(\"item_id\") \\\n",
    "    .agg(F.collect_set(\"customer_id\").alias(\"interested_customers\"))\n",
    "\n",
    "aggregated_by_item.show()"
   ]
  }
 ],
 "metadata": {
  "kernelspec": {
   "display_name": "Python 3 (ipykernel)",
   "language": "python",
   "name": "python3"
  },
  "language_info": {
   "codemirror_mode": {
    "name": "ipython",
    "version": 3
   },
   "file_extension": ".py",
   "mimetype": "text/x-python",
   "name": "python",
   "nbconvert_exporter": "python",
   "pygments_lexer": "ipython3",
   "version": "3.10.5"
  }
 },
 "nbformat": 4,
 "nbformat_minor": 5
}
